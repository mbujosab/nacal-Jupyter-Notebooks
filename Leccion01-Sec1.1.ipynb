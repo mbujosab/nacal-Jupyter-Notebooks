{
 "cells": [
  {
   "cell_type": "markdown",
   "id": "verbal-melissa",
   "metadata": {},
   "source": [
    "$\n",
    "\\renewcommand{\\R}[1][{}]{{\\mathbb{R}}^{#1}}\n",
    "\\renewcommand{\\Z}[1][{}]{{\\mathbb{Z}}^{#1}}\n",
    "%%%%%%%%%%%%%%%%%%%%%%%%%%%%%%%%%%%%%%%%%%%%%%%%%%%%%%%%%%%%%%%%%%%%%%%%%%%%\n",
    "\\renewcommand{\\getItem}{\\pmb{\\mid}}\n",
    "\\renewcommand{\\getitemR}[1]{\\getItem{#1}}\n",
    "\\newcommand{\\getitemL}[1]{{#1}\\getItem}\n",
    "\\renewcommand{\\elemR}[2]{{#1}^{\\phantom{\\T}}_{\\getitemR{#2}}} \n",
    "\\renewcommand{\\elemRP}[2]{{\\big(#1\\big)}^{\\phantom{\\T}}_{\\getitemR{#2}}} \n",
    "\\renewcommand{\\elemRPE}[2]{\\big({#1}^{\\phantom{\\T}}_{\\getitemR{#2}}\\big)}\n",
    "%%%%%%%%%%%%%%%%%%%%%%%%%%%%%%%%%%%%%%%%%%%%%%%%%%%%%%%%%%%%%%%%%%%%%%%%%%%%\n",
    "\\renewcommand{\\Vect}[2][{}]{{\\boldsymbol{#2}}_{#1}}\n",
    "\\renewcommand{\\eleVR}[2]  {\\elemR  {\\Vect{#1}}{#2}}      % con subindices\n",
    "\\renewcommand{\\eleVRP}[2] {\\elemRP {\\Vect{#1}}{#2}}      % con subindices y paréntesis interior\n",
    "\\renewcommand{\\eleVRPE}[2]{\\elemRPE{\\Vect{#1}}{#2}}      % con subindices y paréntesis exterior\n",
    "%%%%%%%%%%%%%%%%%%%%%%%%%%%%%%%%%%%%%%%%%%%%%%%%%%%%%%%%%%%%%%%%%%%%%%%%%%%%\n",
    "\\renewcommand{\\VectC}[2][{}]  {\\elemR  {\\Mat{#2}}{#1}}   % con subindices\n",
    "\\renewcommand{\\VectCP}[2][{}] {\\elemRP {\\Mat{#2}}{#1}}   % con subindices y paréntesis\n",
    "\\renewcommand{\\VectCPE}[2][{}]{\\elemRPE{\\Mat{#2}}{#1}}   % con subindices y paréntesis exterior\n",
    "%%%%%%%%%%%%%%%%%%%%%%%%%%%%%%%%%%%%%%%%%%%%%%%%%%%%%%%%%%%%%%%%%%%%%%%%%%%%\n",
    "\\renewcommand{\\mat}[1]{\\mathbf{#1}}\n",
    "\\renewcommand{\\Mat} [2][{}]{{\\mat{#2}}_{#1}} \n",
    "\\renewcommand{\\T}{\\intercal}\n",
    "\\renewcommand{\\MatT}[2][{}]{{\\mat{#2}}^{\\T}_{#1}}\n",
    "\\renewcommand{\\VectCC}[2][{}]   {\\elemRR {\\Mat{#2}}{#1}}   % con ()\n",
    "\\renewcommand{\\VectCCC}[2][{}]  {\\elemRRR{\\Mat{#2}}{#1}}   % con texto \"col\"\n",
    "%SELECCIÓNA de FILAS y COlUMNAS DE UNA MATRIZ TRANSPUESTA PARA GENERAR UN VECTOR DE Rn\n",
    "\\renewcommand{\\VectTC}[2][{}]   {\\elemR{\\MatT{#2}\\!}{#1}}  % con subindices\n",
    "\\renewcommand{\\VectTCC}[2][{}]  {\\elemRR{ \\MatT{#2}}{#1}}  % con ()\n",
    "\\renewcommand{\\VectTCCC}[2][{}] {\\elemRRR{\\MatT{#2}}{#1}}  % con texto \"col\"\n",
    "\\renewcommand{\\dotprod}[2][{}] {\\Vect{#1}\\cdot\\Vect{#2}}\n",
    "$"
   ]
  },
  {
   "cell_type": "markdown",
   "id": "abroad-carolina",
   "metadata": {},
   "source": [
    "${\\huge\\text{Jupyter notebook de la Lección 1 (Sección 1.1)}}$\n",
    "\n",
    "**Lea primero la Sección 1.1 de la Lección 1 del** \n",
    "[**libro**](https://github.com/mbujosab/CursoDeAlgebraLineal/blob/master/libro.pdf)\n",
    "\n",
    "<https://github.com/mbujosab/CursoDeAlgebraLineal/blob/master/libro.pdf>"
   ]
  },
  {
   "cell_type": "code",
   "execution_count": null,
   "id": "ecological-understanding",
   "metadata": {},
   "outputs": [],
   "source": [
    "from nacal import *"
   ]
  },
  {
   "cell_type": "markdown",
   "id": "popular-karaoke",
   "metadata": {},
   "source": [
    "# Vectores de $\\R[n]$\n",
    "## Definiendo vectores\n",
    "\n",
    "En las notas de clase se dice que encerrando entre paréntesis una\n",
    "lista de números se \"crea\" un vector. Aquí hemos implementado dicha\n",
    "operación poniendo una lista o tupla de números como argumento de la\n",
    "clase `Vector()`.\n",
    "\n",
    "Así, en las notas, encerrando la lista de números 20, 10, 15, 5 entre\n",
    "paréntesis se genera un vector de $\\R[4]$\n",
    "\n",
    "$$\\begin{pmatrix}20\\\\10\\\\15\\\\5\\end{pmatrix}$$\n",
    "\n",
    "Aquí hacemos lo mismo poniendo la lista `[20, 10, 15, 5]` dentro de \n",
    "`Vector( )`"
   ]
  },
  {
   "cell_type": "code",
   "execution_count": null,
   "id": "abstract-extreme",
   "metadata": {},
   "outputs": [],
   "source": [
    "Vector( [20, 10, 15, 5] )"
   ]
  },
  {
   "cell_type": "markdown",
   "id": "celtic-netherlands",
   "metadata": {},
   "source": [
    "Obtenemos idéntico resultado poniendo la tupla `(20, 10, 15, 5)` dentro \n",
    "de `Vector( )`"
   ]
  },
  {
   "cell_type": "code",
   "execution_count": null,
   "id": "global-place",
   "metadata": {},
   "outputs": [],
   "source": [
    "a = (5, 20, 15, 10)\n",
    "Vector( a )"
   ]
  },
  {
   "cell_type": "markdown",
   "id": "laughing-explorer",
   "metadata": {},
   "source": [
    "#### Representación de Vectores: atributo `.rpr`\n",
    "\n",
    "Podemos indicar a Python que pinte el vector como una fila (asignando\n",
    "el valor `fila` al atributo `.rpr`). *Tenga en cuenta que esto solo\n",
    "afecta a la representación del vector en el entorno Jupyter (en un un\n",
    "terminal de texto la representación siempre sería: \n",
    "`Vector([5, 20, 15, 10])`).*"
   ]
  },
  {
   "cell_type": "code",
   "execution_count": null,
   "id": "fixed-committee",
   "metadata": {},
   "outputs": [],
   "source": [
    "x = Vector( a, rpr='fila' )\n",
    "x"
   ]
  },
  {
   "cell_type": "markdown",
   "id": "bigger-header",
   "metadata": {},
   "source": [
    "Se puede cambiar la representación de un vector. Por ejemplo $\\Vect{x}$ \n",
    "tiene representación en columna"
   ]
  },
  {
   "cell_type": "code",
   "execution_count": null,
   "id": "declared-postcard",
   "metadata": {},
   "outputs": [],
   "source": [
    "print(x.rpr)"
   ]
  },
  {
   "cell_type": "markdown",
   "id": "retired-student",
   "metadata": {},
   "source": [
    "pero podemos cambiar la representación cambiando el valor del atributo \n",
    "`rpr`."
   ]
  },
  {
   "cell_type": "code",
   "execution_count": null,
   "id": "portuguese-springer",
   "metadata": {},
   "outputs": [],
   "source": [
    "x.rpr = 'c' # cualquier valor distinto a 'fila' representará en columna"
   ]
  },
  {
   "cell_type": "code",
   "execution_count": null,
   "id": "middle-definition",
   "metadata": {},
   "outputs": [],
   "source": [
    "print(x.rpr)\n",
    "x"
   ]
  },
  {
   "cell_type": "markdown",
   "id": "italic-institute",
   "metadata": {},
   "source": [
    "Podemos ver cómo es la representación de un vector en consola con la \n",
    "función `print()`"
   ]
  },
  {
   "cell_type": "code",
   "execution_count": null,
   "id": "macro-reservoir",
   "metadata": {},
   "outputs": [],
   "source": [
    "print(x)"
   ]
  },
  {
   "cell_type": "markdown",
   "id": "respiratory-playback",
   "metadata": {},
   "source": [
    "#### Atributos: `.lista` y `.n`\n",
    "\n",
    "Nuestra librería de Python almacena el la lista ordenada de números de \n",
    "cada `Vector` en su atributo `lista`"
   ]
  },
  {
   "cell_type": "code",
   "execution_count": null,
   "id": "previous-distribution",
   "metadata": {},
   "outputs": [],
   "source": [
    "x.lista"
   ]
  },
  {
   "cell_type": "markdown",
   "id": "thirty-intelligence",
   "metadata": {},
   "source": [
    "El atributo `n` nos indica el número de elementos del `Vector`"
   ]
  },
  {
   "cell_type": "code",
   "execution_count": null,
   "id": "level-protection",
   "metadata": {},
   "outputs": [],
   "source": [
    "v = Vector( (2, 4, 6) )\n",
    "v.n"
   ]
  },
  {
   "cell_type": "markdown",
   "id": "micro-ideal",
   "metadata": {},
   "source": [
    "#### Método: `.sis()`\n",
    "Podemos recuperar el `Vector` en forma de `Sistema` con el método \n",
    "`sis()`"
   ]
  },
  {
   "cell_type": "code",
   "execution_count": null,
   "id": "powered-identifier",
   "metadata": {},
   "outputs": [],
   "source": [
    "x.sis()"
   ]
  },
  {
   "cell_type": "markdown",
   "id": "several-munich",
   "metadata": {},
   "source": [
    "#### Componentes no enteras: fracciones y números irracionales\n",
    "\n",
    "Con `fracc(a,b)` generamos la fracción $\\frac{a}{b}$ y la librería sympy \n",
    "(que NAcAL carga por defecto) tiene implementados los números irracionales. \n",
    "Vamos a generar un vector con distinto tipos de números:"
   ]
  },
  {
   "cell_type": "code",
   "execution_count": null,
   "id": "close-abuse",
   "metadata": {},
   "outputs": [],
   "source": [
    "Vector( [7, fracc(-3, 11), sympy.sqrt(2), -sympy.pi], 'fila' )"
   ]
  },
  {
   "cell_type": "markdown",
   "id": "existing-macintosh",
   "metadata": {},
   "source": [
    "## Seleccionando componentes\n",
    "\n",
    "Podemos seleccionar componentes con el operador *barra vertical* \n",
    "(en un teclado español es la combinación de teclas `[Alt Gr] + [1]`).\n",
    "\n",
    "Por ejemplo, seleccionamos la tercera componente de \n",
    "$\\Vect{a}:\\quad \\eleVR{a}{3}$"
   ]
  },
  {
   "cell_type": "code",
   "execution_count": null,
   "id": "closing-prague",
   "metadata": {},
   "outputs": [],
   "source": [
    "a = Vector( [10, 20, 30, 40, 50] )\n",
    "a|3"
   ]
  },
  {
   "cell_type": "markdown",
   "id": "induced-lying",
   "metadata": {},
   "source": [
    "y ahora escribimos la quinta componente  $\\Vect{a}:\\quad \\eleVR{a}{5}$"
   ]
  },
  {
   "cell_type": "code",
   "execution_count": null,
   "id": "simplified-robin",
   "metadata": {},
   "outputs": [],
   "source": [
    "print( a|5 )"
   ]
  },
  {
   "cell_type": "markdown",
   "id": "cooked-reward",
   "metadata": {},
   "source": [
    "La barra vertical funciona por ambos lados como un selector de \n",
    "componentes"
   ]
  },
  {
   "cell_type": "code",
   "execution_count": null,
   "id": "demonstrated-specification",
   "metadata": {},
   "outputs": [],
   "source": [
    "3|a"
   ]
  },
  {
   "cell_type": "markdown",
   "id": "close-fetish",
   "metadata": {},
   "source": [
    "Cuando seleccionamos un único elemento de un vector obtenemos un número \n",
    "(en el ejemplo un número entero: `int`)"
   ]
  },
  {
   "cell_type": "code",
   "execution_count": null,
   "id": "moving-disorder",
   "metadata": {},
   "outputs": [],
   "source": [
    "type( a|2 )"
   ]
  },
  {
   "cell_type": "markdown",
   "id": "technical-merit",
   "metadata": {},
   "source": [
    "##### Sub-vectores\n",
    "Cuando seleccionamos varios componentes con una tupla obtenemos un \n",
    "vector"
   ]
  },
  {
   "cell_type": "code",
   "execution_count": null,
   "id": "shaped-column",
   "metadata": {},
   "outputs": [],
   "source": [
    "a"
   ]
  },
  {
   "cell_type": "code",
   "execution_count": null,
   "id": "valuable-assumption",
   "metadata": {},
   "outputs": [],
   "source": [
    "a|(1,3,5)"
   ]
  },
  {
   "cell_type": "code",
   "execution_count": null,
   "id": "acknowledged-socket",
   "metadata": {},
   "outputs": [],
   "source": [
    "a|(1,1,1,5,5)"
   ]
  },
  {
   "cell_type": "markdown",
   "id": "uniform-bacteria",
   "metadata": {},
   "source": [
    "## Definición de algunos vectores especiales\n",
    "Con `V0(n)` generamos un vector nulo de `n` componentes"
   ]
  },
  {
   "cell_type": "code",
   "execution_count": null,
   "id": "forty-agency",
   "metadata": {},
   "outputs": [],
   "source": [
    "V0(3)"
   ]
  },
  {
   "cell_type": "code",
   "execution_count": null,
   "id": "renewable-german",
   "metadata": {},
   "outputs": [],
   "source": [
    "V0(5, 'fila')"
   ]
  },
  {
   "cell_type": "markdown",
   "id": "brazilian-palace",
   "metadata": {},
   "source": [
    "Con `-` delante de un vector, obtenemos su opuesto"
   ]
  },
  {
   "cell_type": "code",
   "execution_count": null,
   "id": "confidential-musical",
   "metadata": {},
   "outputs": [],
   "source": [
    "a = Vector( [2, 2, 2] )\n",
    "-a"
   ]
  },
  {
   "cell_type": "markdown",
   "id": "psychological-thong",
   "metadata": {},
   "source": [
    "## Igualdad de vectores\n",
    "Dos vectores son iguales si lo son los correspondientes sistemas (listas ordenadas de \n",
    "componentes), independientemente de si son representados como una fila o una columna.\n",
    "\n",
    "Con `==` comprobamos si dos vectores son iguales"
   ]
  },
  {
   "cell_type": "code",
   "execution_count": null,
   "id": "associate-excellence",
   "metadata": {},
   "outputs": [],
   "source": [
    "v = Vector( a )\n",
    "w = Vector( a, rpr='fila' )\n",
    "v == w"
   ]
  },
  {
   "cell_type": "code",
   "execution_count": null,
   "id": "revolutionary-tiffany",
   "metadata": {},
   "outputs": [],
   "source": [
    "b = Vector( [-2, -2, -2] )\n",
    "a == -b"
   ]
  },
  {
   "cell_type": "code",
   "execution_count": null,
   "id": "legendary-batch",
   "metadata": {},
   "outputs": [],
   "source": [
    "V0(2) == V0(3)"
   ]
  },
  {
   "cell_type": "markdown",
   "id": "considered-marshall",
   "metadata": {},
   "source": [
    "Con `!=` comprobamos si dos vectores son distintos"
   ]
  },
  {
   "cell_type": "code",
   "execution_count": null,
   "id": "chronic-breast",
   "metadata": {},
   "outputs": [],
   "source": [
    "a != b"
   ]
  },
  {
   "cell_type": "markdown",
   "id": "derived-infrared",
   "metadata": {},
   "source": [
    "Con el comando `help(objeto)` obtenemos ayuda sobre el `objeto` y sus \n",
    "procedimientos asociados"
   ]
  },
  {
   "cell_type": "code",
   "execution_count": null,
   "id": "consolidated-brave",
   "metadata": {},
   "outputs": [],
   "source": [
    "help(Vector)"
   ]
  }
 ],
 "metadata": {},
 "nbformat": 4,
 "nbformat_minor": 5
}
