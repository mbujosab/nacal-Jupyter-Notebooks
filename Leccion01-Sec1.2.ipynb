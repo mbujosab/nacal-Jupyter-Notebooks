{
 "cells": [
  {
   "cell_type": "markdown",
   "id": "sealed-journey",
   "metadata": {},
   "source": [
    "$\n",
    "\\renewcommand{\\R}[1][{}]{{\\mathbb{R}}^{#1}}\n",
    "\\renewcommand{\\Z}[1][{}]{{\\mathbb{Z}}^{#1}}\n",
    "%%%%%%%%%%%%%%%%%%%%%%%%%%%%%%%%%%%%%%%%%%%%%%%%%%%%%%%%%%%%%%%%%%%%%%%%%%%%\n",
    "\\renewcommand{\\getItem}{\\pmb{\\mid}}\n",
    "\\renewcommand{\\getitemR}[1]{\\getItem{#1}}\n",
    "\\newcommand{\\getitemL}[1]{{#1}\\getItem}\n",
    "\\renewcommand{\\elemR}[2]{{#1}^{\\phantom{\\T}}_{\\getitemR{#2}}} \n",
    "\\renewcommand{\\elemRP}[2]{{\\big(#1\\big)}^{\\phantom{\\T}}_{\\getitemR{#2}}} \n",
    "\\renewcommand{\\elemRPE}[2]{\\big({#1}^{\\phantom{\\T}}_{\\getitemR{#2}}\\big)}\n",
    "%%%%%%%%%%%%%%%%%%%%%%%%%%%%%%%%%%%%%%%%%%%%%%%%%%%%%%%%%%%%%%%%%%%%%%%%%%%%\n",
    "\\renewcommand{\\Vect}[2][{}]{{\\boldsymbol{#2}}_{#1}}\n",
    "\\renewcommand{\\eleVR}[2]  {\\elemR  {\\Vect{#1}}{#2}}      % con subindices\n",
    "\\renewcommand{\\eleVRP}[2] {\\elemRP {\\Vect{#1}}{#2}}      % con subindices y paréntesis interior\n",
    "\\renewcommand{\\eleVRPE}[2]{\\elemRPE{\\Vect{#1}}{#2}}      % con subindices y paréntesis exterior\n",
    "%%%%%%%%%%%%%%%%%%%%%%%%%%%%%%%%%%%%%%%%%%%%%%%%%%%%%%%%%%%%%%%%%%%%%%%%%%%%\n",
    "\\renewcommand{\\VectC}[2][{}]  {\\elemR  {\\Mat{#2}}{#1}}   % con subindices\n",
    "\\renewcommand{\\VectCP}[2][{}] {\\elemRP {\\Mat{#2}}{#1}}   % con subindices y paréntesis\n",
    "\\renewcommand{\\VectCPE}[2][{}]{\\elemRPE{\\Mat{#2}}{#1}}   % con subindices y paréntesis exterior\n",
    "%%%%%%%%%%%%%%%%%%%%%%%%%%%%%%%%%%%%%%%%%%%%%%%%%%%%%%%%%%%%%%%%%%%%%%%%%%%%\n",
    "\\renewcommand{\\mat}[1]{\\mathbf{#1}}\n",
    "\\renewcommand{\\Mat} [2][{}]{{\\mat{#2}}_{#1}} \n",
    "\\renewcommand{\\T}{\\intercal}\n",
    "\\renewcommand{\\MatT}[2][{}]{{\\mat{#2}}^{\\T}_{#1}}\n",
    "\\renewcommand{\\VectCC}[2][{}]   {\\elemRR {\\Mat{#2}}{#1}}   % con ()\n",
    "\\renewcommand{\\VectCCC}[2][{}]  {\\elemRRR{\\Mat{#2}}{#1}}   % con texto \"col\"\n",
    "%SELECCIÓNA de FILAS y COlUMNAS DE UNA MATRIZ TRANSPUESTA PARA GENERAR UN VECTOR DE Rn\n",
    "\\renewcommand{\\VectTC}[2][{}]   {\\elemR{\\MatT{#2}\\!}{#1}}  % con subindices\n",
    "\\renewcommand{\\VectTCC}[2][{}]  {\\elemRR{ \\MatT{#2}}{#1}}  % con ()\n",
    "\\renewcommand{\\VectTCCC}[2][{}] {\\elemRRR{\\MatT{#2}}{#1}}  % con texto \"col\"\n",
    "\\renewcommand{\\dotprod}[2][{}] {\\Vect{#1}\\cdot\\Vect{#2}}\n",
    "$"
   ]
  },
  {
   "cell_type": "markdown",
   "id": "rural-yield",
   "metadata": {},
   "source": [
    "${\\huge\\text{Jupyter notebook de la Lección 1 (Sección 1.2)}}$\n",
    "\n",
    "**Lea primero la Sección 1.2 de la Lección 1 del** [**libro**\n",
    "](https://github.com/mbujosab/CursoDeAlgebraLineal/blob/master/libro.pdf)\n",
    "\n",
    "<https://github.com/mbujosab/CursoDeAlgebraLineal/blob/master/libro.pdf>"
   ]
  },
  {
   "cell_type": "code",
   "execution_count": null,
   "id": "helpful-reconstruction",
   "metadata": {},
   "outputs": [],
   "source": [
    "from nacal import *"
   ]
  },
  {
   "cell_type": "markdown",
   "id": "dangerous-cookbook",
   "metadata": {},
   "source": [
    "## Suma de vectores\n",
    "Generamos dos vectores:\n",
    "- el vector $\\Vect{a}$ está formado por el sistema de números: 1, 4, 9, 2\n",
    "- el vector $\\Vect{b}$ está formado por el sistema de números: 1, 2, 1, 0\n",
    "\n",
    "Y obtenemos la tercera componente de la suma de ambos vectores: \n",
    "$\\elemR{(\\Vect{a}+\\Vect{b})}{3}$"
   ]
  },
  {
   "cell_type": "code",
   "execution_count": null,
   "id": "operational-example",
   "metadata": {},
   "outputs": [],
   "source": [
    "a = Vector( [1,4,9,2] )\n",
    "b = Vector( [1,2,1,0] )\n",
    "(a+b)|3"
   ]
  },
  {
   "cell_type": "markdown",
   "id": "harmful-quantum",
   "metadata": {},
   "source": [
    "Ahora sumamos la tercera componente de $\\Vect{a}$ más la tercera \n",
    "componente de\n",
    "$\\Vect{b}:\\qquad\\eleVRPE{a}{3}+\\eleVRPE{b}{3}$\n",
    "\n",
    "Compruebe que obtiene el mismo resultado que el obtenido en la celda\n",
    "anterior. ¿Cómo se llama esta propiedad?"
   ]
  },
  {
   "cell_type": "code",
   "execution_count": null,
   "id": "adjacent-virus",
   "metadata": {},
   "outputs": [],
   "source": [
    "(a|3) + (b|3)"
   ]
  },
  {
   "cell_type": "markdown",
   "id": "devoted-machinery",
   "metadata": {},
   "source": [
    "### Orden de ejecución de operaciones y necesidad de poner paréntesis\n",
    "\n",
    "Ahora pruebe a quitar los paréntesis de la expresión anterior y\n",
    "ejecutar el código, verá que Python nos da un error. Se debe a que\n",
    "Python aplica las operaciones consecutivamente de izquierda a derecha:\n",
    "Python secciona la tercera componente de $\\Vect{a}$ (que es el número\n",
    "`9`) y a continuación trata de sumar a dicho número el vector\n",
    "$\\Vect{b}$... pero no tiene sentido sumar a un número un vector. Tan\n",
    "solo está definida la suma entre números, o la suma entre vectores."
   ]
  },
  {
   "cell_type": "code",
   "execution_count": null,
   "id": "isolated-license",
   "metadata": {},
   "outputs": [],
   "source": []
  },
  {
   "cell_type": "markdown",
   "id": "flying-quantum",
   "metadata": {},
   "source": [
    "Cuando nosotros leemos en un libro la expresión:\n",
    "$\\;\\eleVR{a}{3}+\\eleVR{b}{3},\\;$ realmente interpretamos que lo que\n",
    "pone es $\\;\\eleVRPE{a}{3}+\\eleVRPE{b}{3};\\;$ es decir, ponemos\n",
    "mentalmente los paréntesis. Sin embargo Python necesita que le digamos\n",
    "cuál es el orden correcto para operar. El uso de los paréntesis\n",
    "resuelve ese problema. Primero se calcula lo que hay dentro de los\n",
    "paréntesis y luego se realiza la suma.\n",
    "\n",
    "Tenga en cuenta que cuando las expresiones son complicadas !incluso\n",
    "los humanos necesitamos los paréntesis para interpretar correctamente!\n",
    "Siempre que escriba en un papel una expresión matemática y dude si\n",
    "poner, o no, los paréntesis, decídase por ponerlos... es lo\n",
    "correcto. Los paréntesis se omiten solo cuando nos resulta muy\n",
    "evidente el orden de las operaciones.\n",
    "\n",
    "*Pero recuerde que Python siempre ejecuta consecutivamente las\n",
    "operaciones de izquierda a derecha. Así que no olvide la necesidad de\n",
    "poner paréntesis en Python.*"
   ]
  },
  {
   "cell_type": "markdown",
   "id": "running-australia",
   "metadata": {},
   "source": [
    "## Producto de un vector por un escalar\n",
    "Con el producto nos ocurre algo parecido. Nosotros comprendemos la\n",
    "expresión:\n",
    "$$2\\Vect{a}$$\n",
    "porque realmente interpretamos:\n",
    "$$2\\cdot\\Vect{a}.$$\n",
    "(fíjese en el punto que indica \"producto\").\n",
    "Esa extrapolación no la puede realizar un ordenador. Si usted teclea `2a`\n",
    "Python le mostrará un error. Compruébelo en la siguiente celda"
   ]
  },
  {
   "cell_type": "code",
   "execution_count": null,
   "id": "proved-cartoon",
   "metadata": {},
   "outputs": [],
   "source": []
  },
  {
   "cell_type": "markdown",
   "id": "chinese-horse",
   "metadata": {},
   "source": [
    "Python necesita que se le indique explícitamente el operador producto (*)."
   ]
  },
  {
   "cell_type": "code",
   "execution_count": null,
   "id": "binary-singer",
   "metadata": {},
   "outputs": [],
   "source": [
    "2*a"
   ]
  },
  {
   "cell_type": "markdown",
   "id": "recreational-syndrome",
   "metadata": {},
   "source": [
    "*Observación*: Tal como se ha programado la librería es aceptable \n",
    "multiplicar por ambos lados... algo que también aceptamos en el libro \n",
    "para mantener la asociatividad por la izquierda de la notación del \n",
    "operador selector."
   ]
  },
  {
   "cell_type": "code",
   "execution_count": null,
   "id": "backed-spanking",
   "metadata": {},
   "outputs": [],
   "source": [
    "a*2"
   ]
  },
  {
   "cell_type": "markdown",
   "id": "innocent-holder",
   "metadata": {},
   "source": [
    "Pero tenga en cuenta que una expresión como \"$\\Vect{x}2$\" nunca\n",
    "aparece en los textos; el modo convencional de escribir dicho producto es\n",
    "\"$2\\Vect{x}$\", es decir, \"con el coeficiente primero\")."
   ]
  },
  {
   "cell_type": "markdown",
   "id": "tight-sociology",
   "metadata": {},
   "source": [
    "Escriba en la siguiente celda el código que obtiene la tercera\n",
    "componente del doble del vector $\\Vect{a}:\\quad \\elemRP{2\\Vect{a}}{3}$"
   ]
  },
  {
   "cell_type": "code",
   "execution_count": null,
   "id": "tropical-short",
   "metadata": {},
   "outputs": [],
   "source": []
  },
  {
   "cell_type": "markdown",
   "id": "julian-listing",
   "metadata": {},
   "source": [
    "y ahora obtenga la tercera componente de $\\Vect{a}$ y multiplíquela\n",
    "por 2: $\\quad 2\\elemRPE{\\Vect{a}}{3}$."
   ]
  },
  {
   "cell_type": "code",
   "execution_count": null,
   "id": "anticipated-wayne",
   "metadata": {},
   "outputs": [],
   "source": []
  },
  {
   "cell_type": "markdown",
   "id": "conscious-arrangement",
   "metadata": {},
   "source": [
    "Observe que obtiene el mismo resultado que antes. ¿Cómo se llama esta\n",
    "propiedad?\n",
    "Así pues, el operador selector tiene dos importantes propiedades que\n",
    "lo convierten en un operador lin....¿?"
   ]
  },
  {
   "cell_type": "markdown",
   "id": "dried-questionnaire",
   "metadata": {},
   "source": [
    "### Orden de ejecución de operaciones y necesidad de poner paréntesis\n",
    "¿Cómo evalúa NAcAL las siguientes expresiones?\n",
    "- `(3*b)|2`\n",
    "- `3*(b|2)`\n",
    "- `3*b|2`"
   ]
  },
  {
   "cell_type": "code",
   "execution_count": null,
   "id": "unlimited-patent",
   "metadata": {},
   "outputs": [],
   "source": []
  },
  {
   "cell_type": "markdown",
   "id": "refined-freedom",
   "metadata": {},
   "source": [
    "¿Qué falla en la expresión `b+b|2`?"
   ]
  },
  {
   "cell_type": "code",
   "execution_count": null,
   "id": "studied-logging",
   "metadata": {},
   "outputs": [],
   "source": []
  }
 ],
 "metadata": {},
 "nbformat": 4,
 "nbformat_minor": 5
}
