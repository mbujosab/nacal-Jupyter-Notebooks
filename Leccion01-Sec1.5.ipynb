{
 "cells": [
  {
   "cell_type": "markdown",
   "id": "imposed-outline",
   "metadata": {},
   "source": [
    "$\n",
    "\\renewcommand{\\R}[1][{}]{{\\mathbb{R}}^{#1}}\n",
    "\\renewcommand{\\Z}[1][{}]{{\\mathbb{Z}}^{#1}}\n",
    "%%%%%%%%%%%%%%%%%%%%%%%%%%%%%%%%%%%%%%%%%%%%%%%%%%%%%%%%%%%%%%%%%%%%%%%%%%%%\n",
    "\\renewcommand{\\getItem}{\\pmb{\\mid}}\n",
    "\\renewcommand{\\getitemR}[1]{\\getItem{#1}}\n",
    "\\newcommand{\\getitemL}[1]{{#1}\\getItem}\n",
    "\\renewcommand{\\elemR}[2]{{#1}^{\\phantom{\\T}}_{\\getitemR{#2}}} \n",
    "\\renewcommand{\\elemRP}[2]{{\\big(#1\\big)}^{\\phantom{\\T}}_{\\getitemR{#2}}} \n",
    "\\renewcommand{\\elemRPE}[2]{\\big({#1}^{\\phantom{\\T}}_{\\getitemR{#2}}\\big)}\n",
    "%%%%%%%%%%%%%%%%%%%%%%%%%%%%%%%%%%%%%%%%%%%%%%%%%%%%%%%%%%%%%%%%%%%%%%%%%%%%\n",
    "\\renewcommand{\\Vect}[2][{}]{{\\boldsymbol{#2}}_{#1}}\n",
    "\\renewcommand{\\eleVR}[2]  {\\elemR  {\\Vect{#1}}{#2}}      % con subindices\n",
    "\\renewcommand{\\eleVRP}[2] {\\elemRP {\\Vect{#1}}{#2}}      % con subindices y paréntesis interior\n",
    "\\renewcommand{\\eleVRPE}[2]{\\elemRPE{\\Vect{#1}}{#2}}      % con subindices y paréntesis exterior\n",
    "%%%%%%%%%%%%%%%%%%%%%%%%%%%%%%%%%%%%%%%%%%%%%%%%%%%%%%%%%%%%%%%%%%%%%%%%%%%%\n",
    "\\renewcommand{\\VectC}[2][{}]  {\\elemR  {\\Mat{#2}}{#1}}   % con subindices\n",
    "\\renewcommand{\\VectCP}[2][{}] {\\elemRP {\\Mat{#2}}{#1}}   % con subindices y paréntesis\n",
    "\\renewcommand{\\VectCPE}[2][{}]{\\elemRPE{\\Mat{#2}}{#1}}   % con subindices y paréntesis exterior\n",
    "%%%%%%%%%%%%%%%%%%%%%%%%%%%%%%%%%%%%%%%%%%%%%%%%%%%%%%%%%%%%%%%%%%%%%%%%%%%%\n",
    "\\renewcommand{\\mat}[1]{\\mathbf{#1}}\n",
    "\\renewcommand{\\Mat} [2][{}]{{\\mat{#2}}_{#1}} \n",
    "\\renewcommand{\\T}{\\intercal}\n",
    "\\renewcommand{\\MatT}[2][{}]{{\\mat{#2}}^{\\T}_{#1}}\n",
    "\\renewcommand{\\VectCC}[2][{}]   {\\elemRR {\\Mat{#2}}{#1}}   % con ()\n",
    "\\renewcommand{\\VectCCC}[2][{}]  {\\elemRRR{\\Mat{#2}}{#1}}   % con texto \"col\"\n",
    "%SELECCIÓNA de FILAS y COlUMNAS DE UNA MATRIZ TRANSPUESTA PARA GENERAR UN VECTOR DE Rn\n",
    "\\renewcommand{\\VectTC}[2][{}]   {\\elemR{\\MatT{#2}\\!}{#1}}  % con subindices\n",
    "\\renewcommand{\\VectTCC}[2][{}]  {\\elemRR{ \\MatT{#2}}{#1}}  % con ()\n",
    "\\renewcommand{\\VectTCCC}[2][{}] {\\elemRRR{\\MatT{#2}}{#1}}  % con texto \"col\"\n",
    "\\renewcommand{\\dotprod}[2][{}] {\\Vect{#1}\\cdot\\Vect{#2}}\n",
    "$"
   ]
  },
  {
   "cell_type": "markdown",
   "id": "afraid-vintage",
   "metadata": {},
   "source": [
    "${\\huge\\text{Jupyter notebook de la Lección 1 (Sección 1.5)}}$\n",
    "\n",
    "**Lea primero las secciones 1.5 y 1.6 de la Lección 1 del** [**libro**\n",
    "](https://github.com/mbujosab/CursoDeAlgebraLineal/blob/master/libro.pdf)\n",
    "\n",
    "<https://github.com/mbujosab/CursoDeAlgebraLineal/blob/master/libro.pdf>"
   ]
  },
  {
   "cell_type": "code",
   "execution_count": null,
   "id": "aging-kuwait",
   "metadata": {},
   "outputs": [],
   "source": [
    "from nacal import *"
   ]
  },
  {
   "cell_type": "markdown",
   "id": "rising-channels",
   "metadata": {},
   "source": [
    "# Operaciones con matrices\n",
    "## Suma de matrices y producto por un escalar\n",
    "\n",
    "El comportamiento de la suma de matrices y el producto de una matriz\n",
    "por un escalar es similar al caso de los vectores."
   ]
  },
  {
   "cell_type": "code",
   "execution_count": null,
   "id": "fitting-father",
   "metadata": {},
   "outputs": [],
   "source": [
    "-1*Matrix([[1,5],[5,1]]) + I(2)*10"
   ]
  },
  {
   "cell_type": "markdown",
   "id": "composed-tampa",
   "metadata": {},
   "source": [
    "Verifique con algún ejemplo que el operador selector es lineal."
   ]
  },
  {
   "cell_type": "code",
   "execution_count": null,
   "id": "reported-spare",
   "metadata": {},
   "outputs": [],
   "source": []
  },
  {
   "cell_type": "markdown",
   "id": "actual-kenya",
   "metadata": {},
   "source": [
    "## Igualdad de matrices\n",
    "Dos matrices son iguales si lo son los correspondientes sistemas."
   ]
  },
  {
   "cell_type": "code",
   "execution_count": null,
   "id": "promotional-beatles",
   "metadata": {},
   "outputs": [],
   "source": [
    "a = Vector( [1,2] )\n",
    "b = Vector( [1,0] )\n",
    "c = Vector( [9,2] )"
   ]
  },
  {
   "cell_type": "code",
   "execution_count": null,
   "id": "frequent-choice",
   "metadata": {},
   "outputs": [],
   "source": [
    "A = Matrix( [a,b,c] )\n",
    "B = Matrix( [a,b,c] )\n",
    "A == B"
   ]
  },
  {
   "cell_type": "markdown",
   "id": "crucial-joint",
   "metadata": {},
   "source": [
    "# Jugando con la librería.\n",
    "Por ejemplo:\n",
    "\n",
    "*la primera fila de $\\Mat{A}$ es la primera columna de su transpuesta*"
   ]
  },
  {
   "cell_type": "code",
   "execution_count": null,
   "id": "direct-pride",
   "metadata": {},
   "outputs": [],
   "source": [
    "(~A)|1"
   ]
  },
  {
   "cell_type": "markdown",
   "id": "expected-liabilities",
   "metadata": {},
   "source": [
    "Si además queremos que la representación de la primera fila sea en\n",
    "forma de fila, podemos hacerlo del siguiente modo:"
   ]
  },
  {
   "cell_type": "code",
   "execution_count": null,
   "id": "exceptional-position",
   "metadata": {},
   "outputs": [],
   "source": [
    "Vector((~A)|1, rpr='fila')"
   ]
  },
  {
   "cell_type": "markdown",
   "id": "computational-technology",
   "metadata": {},
   "source": [
    "Siguiendo el método del libro, definamos una matriz cuya única fila es \n",
    "la primera fila de $\\Mat{A}$:"
   ]
  },
  {
   "cell_type": "code",
   "execution_count": null,
   "id": "narrow-standing",
   "metadata": {},
   "outputs": [],
   "source": [
    "~Matrix([1|A])"
   ]
  },
  {
   "cell_type": "markdown",
   "id": "outdoor-madagascar",
   "metadata": {},
   "source": [
    "Fíjese que es más sencillo usando una tupla con un único elemento y el \n",
    "operador selector"
   ]
  },
  {
   "cell_type": "code",
   "execution_count": null,
   "id": "geographic-tongue",
   "metadata": {},
   "outputs": [],
   "source": [
    "(1,)|A"
   ]
  },
  {
   "cell_type": "markdown",
   "id": "driven-karma",
   "metadata": {},
   "source": [
    "El elemento que está en la primera fila y tercera columna es:"
   ]
  },
  {
   "cell_type": "code",
   "execution_count": null,
   "id": "smooth-practice",
   "metadata": {},
   "outputs": [],
   "source": [
    "1|A|3"
   ]
  },
  {
   "cell_type": "markdown",
   "id": "mobile-egyptian",
   "metadata": {},
   "source": [
    "Pero si transponemos la matriz, hay que intercambiar los índices de\n",
    "dicho componente:"
   ]
  },
  {
   "cell_type": "code",
   "execution_count": null,
   "id": "asian-upset",
   "metadata": {},
   "outputs": [],
   "source": [
    "3|(~A)|1"
   ]
  },
  {
   "cell_type": "markdown",
   "id": "fleet-reality",
   "metadata": {},
   "source": [
    "Y si transponemos dos veces obtenemos la matriz original:"
   ]
  },
  {
   "cell_type": "code",
   "execution_count": null,
   "id": "organic-aruba",
   "metadata": {},
   "outputs": [],
   "source": [
    "~~A"
   ]
  },
  {
   "cell_type": "markdown",
   "id": "listed-george",
   "metadata": {},
   "source": [
    "La tercera columna de $\\Mat{A}$ es la tercera fila de su transpuesta:"
   ]
  },
  {
   "cell_type": "code",
   "execution_count": null,
   "id": "distributed-address",
   "metadata": {},
   "outputs": [],
   "source": [
    "A|3, 3|(~A)"
   ]
  },
  {
   "cell_type": "markdown",
   "id": "legislative-methodology",
   "metadata": {},
   "source": [
    "# Ejercicios de la Lección 1\n",
    "### Ej. 1) \n",
    "* Cree la matriz\n",
    "$$\n",
    "\\Mat{A}=\\left[ \n",
    "\\begin{array}{cccc}\n",
    "1&0&0&0\\\\2&0&0&0\\\\0&3&3&0\\\\0&3&4&1\\\\0&1&2&1\n",
    "\\end{array} \n",
    "\\right]\n",
    "$$"
   ]
  },
  {
   "cell_type": "code",
   "execution_count": null,
   "id": "damaged-piano",
   "metadata": {},
   "outputs": [],
   "source": []
  },
  {
   "cell_type": "markdown",
   "id": "ignored-czech",
   "metadata": {},
   "source": [
    "* Cree a partir de $\\Mat{A}$ una matriz cuya única columna sea la primera \n",
    "columna de $\\Mat{A}$"
   ]
  },
  {
   "cell_type": "code",
   "execution_count": null,
   "id": "minus-delay",
   "metadata": {},
   "outputs": [],
   "source": []
  },
  {
   "cell_type": "markdown",
   "id": "infectious-default",
   "metadata": {},
   "source": [
    "* Cree a partir de $\\Mat{A}$ una matriz cuya única columna sea la segunda \n",
    "fila de $\\Mat{A}$"
   ]
  },
  {
   "cell_type": "code",
   "execution_count": null,
   "id": "municipal-madonna",
   "metadata": {},
   "outputs": [],
   "source": []
  },
  {
   "cell_type": "markdown",
   "id": "executive-carter",
   "metadata": {},
   "source": [
    "* Cree a partir de $\\Mat{A}$ una matriz cuya única fila sea la primera \n",
    "fila de $\\Mat{A}$"
   ]
  },
  {
   "cell_type": "code",
   "execution_count": null,
   "id": "early-stack",
   "metadata": {},
   "outputs": [],
   "source": []
  },
  {
   "cell_type": "markdown",
   "id": "grateful-revision",
   "metadata": {},
   "source": [
    "* Cree a partir de $\\Mat{A}$ una matriz cuya única fila sea la segunda \n",
    "columna de $\\Mat{A}$"
   ]
  },
  {
   "cell_type": "code",
   "execution_count": null,
   "id": "informative-consolidation",
   "metadata": {},
   "outputs": [],
   "source": []
  },
  {
   "cell_type": "markdown",
   "id": "instrumental-cambridge",
   "metadata": {},
   "source": [
    "### Ej. 2)\n",
    "Calcule el siguiente vector: 3 la primera columna de $\\Mat{A}$ menos \n",
    "la segunda columna de $\\Mat{A}$ mas 2 veces la tercera columna menos \n",
    "3 veces la última columna de $\\Mat{A}$"
   ]
  },
  {
   "cell_type": "code",
   "execution_count": null,
   "id": "simple-uzbekistan",
   "metadata": {},
   "outputs": [],
   "source": []
  },
  {
   "cell_type": "markdown",
   "id": "marine-capital",
   "metadata": {},
   "source": [
    "### Ej. 3) \n",
    "Verifique con ejemplos que el operador transposición es lineal"
   ]
  },
  {
   "cell_type": "code",
   "execution_count": null,
   "id": "afraid-usage",
   "metadata": {},
   "outputs": [],
   "source": []
  },
  {
   "cell_type": "markdown",
   "id": "cubic-tender",
   "metadata": {},
   "source": [
    "### Ej. 4)\n",
    "Verifique con ejemplos la veracidad de las igualdades en las reglas de \n",
    "reescritura de la Sección 1.6 del [**libro**\n",
    "](https://github.com/mbujosab/CursoDeAlgebraLineal/blob/master/libro.pdf)"
   ]
  },
  {
   "cell_type": "code",
   "execution_count": null,
   "id": "radio-beaver",
   "metadata": {},
   "outputs": [],
   "source": []
  },
  {
   "cell_type": "markdown",
   "id": "passing-halifax",
   "metadata": {},
   "source": [
    "### Ej. 5)\n",
    "Proporcione ejemplos de matrices 3 por 3 no nulas de los siguientes \n",
    "tipos de matrices:\n",
    "* Una matriz diagonal"
   ]
  },
  {
   "cell_type": "code",
   "execution_count": null,
   "id": "classified-elder",
   "metadata": {},
   "outputs": [],
   "source": []
  },
  {
   "cell_type": "markdown",
   "id": "boxed-there",
   "metadata": {},
   "source": [
    "* Una matriz simétrica"
   ]
  },
  {
   "cell_type": "code",
   "execution_count": null,
   "id": "center-share",
   "metadata": {},
   "outputs": [],
   "source": []
  },
  {
   "cell_type": "markdown",
   "id": "western-milton",
   "metadata": {},
   "source": [
    "* Una matriz triangular superior"
   ]
  },
  {
   "cell_type": "code",
   "execution_count": null,
   "id": "competitive-montana",
   "metadata": {},
   "outputs": [],
   "source": []
  },
  {
   "cell_type": "markdown",
   "id": "impaired-identity",
   "metadata": {},
   "source": [
    "* Una matriz antisimétrica"
   ]
  }
 ],
 "metadata": {},
 "nbformat": 4,
 "nbformat_minor": 5
}
