{
 "cells": [
  {
   "cell_type": "markdown",
   "id": "whole-index",
   "metadata": {},
   "source": [
    "$\n",
    "\\renewcommand{\\R}[1][{}]{{\\mathbb{R}}^{#1}}\n",
    "\\renewcommand{\\Z}[1][{}]{{\\mathbb{Z}}^{#1}}\n",
    "%%%%%%%%%%%%%%%%%%%%%%%%%%%%%%%%%%%%%%%%%%%%%%%%%%%%%%%%%%%%%%%%%%%%%%%%%%%%\n",
    "\\renewcommand{\\getItem}{\\pmb{\\mid}}\n",
    "\\renewcommand{\\getitemR}[1]{\\getItem{#1}}\n",
    "\\newcommand{\\getitemL}[1]{{#1}\\getItem}\n",
    "\\renewcommand{\\elemR}[2]{{#1}^{\\phantom{\\T}}_{\\getitemR{#2}}} \n",
    "\\renewcommand{\\elemRP}[2]{{\\big(#1\\big)}^{\\phantom{\\T}}_{\\getitemR{#2}}} \n",
    "\\renewcommand{\\elemRPE}[2]{\\big({#1}^{\\phantom{\\T}}_{\\getitemR{#2}}\\big)}\n",
    "%%%%%%%%%%%%%%%%%%%%%%%%%%%%%%%%%%%%%%%%%%%%%%%%%%%%%%%%%%%%%%%%%%%%%%%%%%%%\n",
    "\\renewcommand{\\Vect}[2][{}]{{\\boldsymbol{#2}}_{#1}}\n",
    "\\renewcommand{\\eleVR}[2]  {\\elemR  {\\Vect{#1}}{#2}}      % con subindices\n",
    "\\renewcommand{\\eleVRP}[2] {\\elemRP {\\Vect{#1}}{#2}}      % con subindices y paréntesis interior\n",
    "\\renewcommand{\\eleVRPE}[2]{\\elemRPE{\\Vect{#1}}{#2}}      % con subindices y paréntesis exterior\n",
    "%%%%%%%%%%%%%%%%%%%%%%%%%%%%%%%%%%%%%%%%%%%%%%%%%%%%%%%%%%%%%%%%%%%%%%%%%%%%\n",
    "\\renewcommand{\\VectC}[2][{}]  {\\elemR  {\\Mat{#2}}{#1}}   % con subindices\n",
    "\\renewcommand{\\VectCP}[2][{}] {\\elemRP {\\Mat{#2}}{#1}}   % con subindices y paréntesis\n",
    "\\renewcommand{\\VectCPE}[2][{}]{\\elemRPE{\\Mat{#2}}{#1}}   % con subindices y paréntesis exterior\n",
    "%%%%%%%%%%%%%%%%%%%%%%%%%%%%%%%%%%%%%%%%%%%%%%%%%%%%%%%%%%%%%%%%%%%%%%%%%%%%\n",
    "\\renewcommand{\\mat}[1]{\\mathbf{#1}}\n",
    "\\renewcommand{\\Mat} [2][{}]{{\\mat{#2}}_{#1}} \n",
    "\\renewcommand{\\T}{\\intercal}\n",
    "\\renewcommand{\\MatT}[2][{}]{{\\mat{#2}}^{\\T}_{#1}}\n",
    "\\renewcommand{\\VectC}[2][{}]    {\\elemR  {\\Mat{#2}}{#1}}   % con subindices\n",
    "\\renewcommand{\\VectCP}[2][{}]   {\\elemRP  {\\Mat{#2}}{#1}}   % con subindices y paréntesis\n",
    "\\renewcommand{\\VectCPE}[2][{}]  {\\elemRPE  {\\Mat{#2}}{#1}}   % con subindices y paréntesis exterior\n",
    "\\renewcommand{\\VectCC}[2][{}]   {\\elemRR {\\Mat{#2}}{#1}}   % con ()\n",
    "\\renewcommand{\\VectCCC}[2][{}]  {\\elemRRR{\\Mat{#2}}{#1}}   % con texto \"col\"\n",
    "%SELECCIÓNA de FILAS y COlUMNAS DE UNA MATRIZ TRANSPUESTA PARA GENERAR UN VECTOR DE Rn\n",
    "\\renewcommand{\\VectTC}[2][{}]   {\\elemR{\\MatT{#2}\\!}{#1}}  % con subindices\n",
    "\\renewcommand{\\VectTCC}[2][{}]  {\\elemRR{ \\MatT{#2}}{#1}}  % con ()\n",
    "\\renewcommand{\\VectTCCC}[2][{}] {\\elemRRR{\\MatT{#2}}{#1}}  % con texto \"col\"\n",
    "\\renewcommand{\\dotprod}[2][{}] {\\Vect{#1}\\cdot\\Vect{#2}}\n",
    "$"
   ]
  },
  {
   "cell_type": "markdown",
   "id": "sitting-organizer",
   "metadata": {},
   "source": [
    "${\\huge\\text{Jupyter notebook de la Lección 1 (Sección 1.5)}}$\n",
    "\n",
    "**Léase primero las secciones 1.5 y 1.6 de la Lección 1 del** [**libro**\n",
    "](https://github.com/mbujosab/CursoDeAlgebraLineal/blob/master/libro.pdf)\n",
    "\n",
    "<https://github.com/mbujosab/CursoDeAlgebraLineal/blob/master/libro.pdf>"
   ]
  },
  {
   "cell_type": "markdown",
   "id": "external-judge",
   "metadata": {},
   "source": [
    "**Índice de contenidos de este notebook** (Requiere ejecutar todo el Notebook para que aparezca el índice)\n",
    "<div id=\"toc\"></div>"
   ]
  },
  {
   "cell_type": "code",
   "execution_count": null,
   "id": "veterinary-advisory",
   "metadata": {},
   "outputs": [],
   "source": [
    "from nacal import *"
   ]
  },
  {
   "cell_type": "markdown",
   "id": "fifty-grade",
   "metadata": {},
   "source": [
    "# Operaciones con matrices\n",
    "## Suma de matrices y producto por un escalar\n",
    "\n",
    "El comportamiento de la suma de matrices y el producto de una matriz\n",
    "por un escalar es similar al caso de los vectores."
   ]
  },
  {
   "cell_type": "code",
   "execution_count": null,
   "id": "sonic-importance",
   "metadata": {},
   "outputs": [],
   "source": [
    "-1*Matrix([[1,5],[5,1]]) + I(2)*10"
   ]
  },
  {
   "cell_type": "markdown",
   "id": "immune-photography",
   "metadata": {},
   "source": [
    "Verifique con algún ejemplo que el operador selector es lineal."
   ]
  },
  {
   "cell_type": "code",
   "execution_count": null,
   "id": "smoking-mention",
   "metadata": {},
   "outputs": [],
   "source": []
  },
  {
   "cell_type": "markdown",
   "id": "human-group",
   "metadata": {},
   "source": [
    "## Igualdad de matrices\n",
    "\n",
    "Dos matrices son iguales si lo son los correspondientes sistemas."
   ]
  },
  {
   "cell_type": "code",
   "execution_count": null,
   "id": "agreed-romania",
   "metadata": {},
   "outputs": [],
   "source": [
    "a = Vector( [1,2] )\n",
    "b = Vector( [1,0] )\n",
    "c = Vector( [9,2] )"
   ]
  },
  {
   "cell_type": "code",
   "execution_count": null,
   "id": "metric-enough",
   "metadata": {},
   "outputs": [],
   "source": [
    "A = Matrix( [a,b,c] )\n",
    "B = Matrix( [a,b,c] )\n",
    "A == B"
   ]
  },
  {
   "cell_type": "markdown",
   "id": "expected-ambassador",
   "metadata": {},
   "source": [
    "# Jugando con la librería.\n",
    "\n",
    "Por ejemplo:\n",
    "\n",
    "*la primera fila de $\\Mat{A}$ es la primera columna de su transpuesta*"
   ]
  },
  {
   "cell_type": "code",
   "execution_count": null,
   "id": "attached-skating",
   "metadata": {},
   "outputs": [],
   "source": [
    "(~A)|1"
   ]
  },
  {
   "cell_type": "markdown",
   "id": "minus-certificate",
   "metadata": {},
   "source": [
    "Si además queremos que la representación de la primera fila sea en\n",
    "forma de fila, podemos hacerlo del siguiente modo:"
   ]
  },
  {
   "cell_type": "code",
   "execution_count": null,
   "id": "latin-knock",
   "metadata": {},
   "outputs": [],
   "source": [
    "Vector((~A)|1, rpr='fila')"
   ]
  },
  {
   "cell_type": "markdown",
   "id": "divided-mechanism",
   "metadata": {},
   "source": [
    "Siguiendo el método del libro, definamos una matriz cuya única fila es \n",
    "la primera fila de $\\Mat{A}$:"
   ]
  },
  {
   "cell_type": "code",
   "execution_count": null,
   "id": "conscious-contractor",
   "metadata": {},
   "outputs": [],
   "source": [
    "~Matrix([1|A])"
   ]
  },
  {
   "cell_type": "markdown",
   "id": "received-cooper",
   "metadata": {},
   "source": [
    "Fíjese que es más sencillo usando una tupla con un único elemento y el \n",
    "operador selector"
   ]
  },
  {
   "cell_type": "code",
   "execution_count": null,
   "id": "practical-theorem",
   "metadata": {},
   "outputs": [],
   "source": [
    "(1,)|A"
   ]
  },
  {
   "cell_type": "markdown",
   "id": "auburn-precipitation",
   "metadata": {},
   "source": [
    "El elemento que está en la primera fila y tercera columna es:"
   ]
  },
  {
   "cell_type": "code",
   "execution_count": null,
   "id": "ethical-reunion",
   "metadata": {},
   "outputs": [],
   "source": [
    "1|A|3"
   ]
  },
  {
   "cell_type": "markdown",
   "id": "cross-tender",
   "metadata": {},
   "source": [
    "Pero si transponemos la matriz, hay que intercambiar los índices de\n",
    "dicho componente:"
   ]
  },
  {
   "cell_type": "code",
   "execution_count": null,
   "id": "referenced-paris",
   "metadata": {},
   "outputs": [],
   "source": [
    "3|(~A)|1"
   ]
  },
  {
   "cell_type": "markdown",
   "id": "lesbian-printing",
   "metadata": {},
   "source": [
    "Y si transponemos dos veces obtenemos la matriz original:"
   ]
  },
  {
   "cell_type": "code",
   "execution_count": null,
   "id": "substantial-damages",
   "metadata": {},
   "outputs": [],
   "source": [
    "~~A"
   ]
  },
  {
   "cell_type": "markdown",
   "id": "technical-induction",
   "metadata": {},
   "source": [
    "La tercera columna de $\\Mat{A}$ es la tercera fila de su transpuesta:"
   ]
  },
  {
   "cell_type": "code",
   "execution_count": null,
   "id": "after-election",
   "metadata": {},
   "outputs": [],
   "source": [
    "A|3, 3|(~A)"
   ]
  },
  {
   "cell_type": "markdown",
   "id": "infectious-assurance",
   "metadata": {},
   "source": [
    "# Ejercicios de la Lección 1\n",
    "### Ej. 1) \n",
    "* Cree la matriz\n",
    "$$\n",
    "\\Mat{A}=\\left[ \n",
    "\\begin{array}{cccc}\n",
    "1&0&0&0\\\\2&0&0&0\\\\0&3&3&0\\\\0&3&4&1\\\\0&1&2&1\n",
    "\\end{array} \n",
    "\\right]\n",
    "$$"
   ]
  },
  {
   "cell_type": "code",
   "execution_count": null,
   "id": "persistent-pursuit",
   "metadata": {},
   "outputs": [],
   "source": []
  },
  {
   "cell_type": "markdown",
   "id": "abstract-regard",
   "metadata": {},
   "source": [
    "* Cree a partir de $\\Mat{A}$ una matriz cuya única columna sea la primera \n",
    "columna de $\\Mat{A}$"
   ]
  },
  {
   "cell_type": "code",
   "execution_count": null,
   "id": "written-fabric",
   "metadata": {},
   "outputs": [],
   "source": []
  },
  {
   "cell_type": "markdown",
   "id": "jewish-enough",
   "metadata": {},
   "source": [
    "* Cree a partir de $\\Mat{A}$ una matriz cuya única columna sea la segunda \n",
    "fila de $\\Mat{A}$"
   ]
  },
  {
   "cell_type": "code",
   "execution_count": null,
   "id": "moving-vegetable",
   "metadata": {},
   "outputs": [],
   "source": []
  },
  {
   "cell_type": "markdown",
   "id": "confused-block",
   "metadata": {},
   "source": [
    "* Cree a partir de $\\Mat{A}$ una matriz cuya única fila sea la primera \n",
    "fila de $\\Mat{A}$"
   ]
  },
  {
   "cell_type": "code",
   "execution_count": null,
   "id": "gross-blanket",
   "metadata": {},
   "outputs": [],
   "source": []
  },
  {
   "cell_type": "markdown",
   "id": "informative-holder",
   "metadata": {},
   "source": [
    "* Cree a partir de $\\Mat{A}$ una matriz cuya única fila sea la segunda \n",
    "columna de $\\Mat{A}$"
   ]
  },
  {
   "cell_type": "code",
   "execution_count": null,
   "id": "opponent-thesis",
   "metadata": {},
   "outputs": [],
   "source": []
  },
  {
   "cell_type": "markdown",
   "id": "prostate-biography",
   "metadata": {},
   "source": [
    "### Ej. 2)\n",
    "Calcule el siguiente vector: 3 la primera columna de $\\Mat{A}$ menos \n",
    "la segunda columna de $\\Mat{A}$ mas 2 veces la trecera columna menos \n",
    "3 veces la última columna de $\\Mat{A}$"
   ]
  },
  {
   "cell_type": "code",
   "execution_count": null,
   "id": "basic-withdrawal",
   "metadata": {},
   "outputs": [],
   "source": []
  },
  {
   "cell_type": "markdown",
   "id": "built-design",
   "metadata": {},
   "source": [
    "### Ej. 3) \n",
    "Verifique con ejemplos que el operador transposición es lineal"
   ]
  },
  {
   "cell_type": "code",
   "execution_count": null,
   "id": "negative-fight",
   "metadata": {},
   "outputs": [],
   "source": []
  },
  {
   "cell_type": "markdown",
   "id": "higher-coverage",
   "metadata": {},
   "source": [
    "### Ej. 4)\n",
    "Verifique con ejemplos la veracidad de las igualdades en las reglas de \n",
    "reescritura de la Sección 1.6 del [**libro**\n",
    "](https://github.com/mbujosab/CursoDeAlgebraLineal/blob/master/libro.pdf)"
   ]
  },
  {
   "cell_type": "code",
   "execution_count": null,
   "id": "vulnerable-processor",
   "metadata": {},
   "outputs": [],
   "source": []
  },
  {
   "cell_type": "markdown",
   "id": "varied-associate",
   "metadata": {},
   "source": [
    "### Ej. 5)\n",
    "Proporcione ejemplos de matrices 3 por 3 no nulas de los siguientes \n",
    "tipos de matrices:\n",
    "* Una matriz diagonal"
   ]
  },
  {
   "cell_type": "code",
   "execution_count": null,
   "id": "embedded-robertson",
   "metadata": {},
   "outputs": [],
   "source": []
  },
  {
   "cell_type": "markdown",
   "id": "breeding-editing",
   "metadata": {},
   "source": [
    "* Una matriz simétrica"
   ]
  },
  {
   "cell_type": "code",
   "execution_count": null,
   "id": "lyric-sellers",
   "metadata": {},
   "outputs": [],
   "source": []
  },
  {
   "cell_type": "markdown",
   "id": "verified-vietnam",
   "metadata": {},
   "source": [
    "* Una matriz triangular superior"
   ]
  },
  {
   "cell_type": "code",
   "execution_count": null,
   "id": "micro-interval",
   "metadata": {},
   "outputs": [],
   "source": []
  },
  {
   "cell_type": "markdown",
   "id": "connected-poland",
   "metadata": {},
   "source": [
    "* Una matriz antisimétrica"
   ]
  },
  {
   "cell_type": "code",
   "execution_count": null,
   "id": "protective-hamburg",
   "metadata": {},
   "outputs": [],
   "source": []
  },
  {
   "cell_type": "markdown",
   "id": "agricultural-speaking",
   "metadata": {},
   "source": [
    "---- FIN DE LA LECCIÓN -----\n",
    "\n",
    "\n",
    "\n",
    "Lo que sigue es sólo para crear un índice de contenidos de este notebook (y se muestra al principio de la página)"
   ]
  },
  {
   "cell_type": "code",
   "execution_count": null,
   "id": "accepted-pleasure",
   "metadata": {},
   "outputs": [],
   "source": [
    "%%javascript\n",
    "$.getScript('https://kmahelona.github.io/ipython_notebook_goodies/ipython_notebook_toc.js')"
   ]
  }
 ],
 "metadata": {
  "kernelspec": {
   "display_name": "Python 3",
   "language": "python",
   "name": "python3"
  },
  "language_info": {
   "codemirror_mode": {
    "name": "ipython",
    "version": 3
   },
   "file_extension": ".py",
   "mimetype": "text/x-python",
   "name": "python",
   "nbconvert_exporter": "python",
   "pygments_lexer": "ipython3",
   "version": "3.9.2"
  }
 },
 "nbformat": 4,
 "nbformat_minor": 5
}
