{
 "cells": [
  {
   "cell_type": "markdown",
   "metadata": {},
   "source": [
    "Lección 01 - Sección 1.2\n",
    "========================\n",
    "\n",
    "**Author:** Marcos Bujosa\n",
    "\n"
   ]
  },
  {
   "cell_type": "markdown",
   "metadata": {},
   "source": [
    "*Lea primero la Sección 1.4 de la Lección 1 del [libro](https://github.com/mbujosab/CursoDeAlgebraLineal/blob/master/libro.pdf)*  \n",
    "\n",
    "([https://github.com/mbujosab/CursoDeAlgebraLineal/blob/master/libro.pdf](https://github.com/mbujosab/CursoDeAlgebraLineal/blob/master/libro.pdf))\n",
    "\n"
   ]
  },
  {
   "cell_type": "code",
   "execution_count": 1,
   "metadata": {},
   "outputs": [],
   "source": [
    "from nacal import *"
   ]
  },
  {
   "cell_type": "markdown",
   "metadata": {},
   "source": [
    "$\n",
    "\\newcommand{\\R}[1][{}]{{\\mathbb{R}}^{#1}}\n",
    "\\newcommand{\\Z}[1][{}]{{\\mathbb{Z}}^{#1}}\n",
    "%%%%%%%%%%%%%%%%%%%%%%%%%%%%%%%%%%%%%%%%%%%%%%%%%%%%%%%%%%%%%%%%%%%%%%%%%%%%\n",
    "\\newcommand{\\getItem}{\\pmb{\\mid}}\n",
    "\\newcommand{\\getitemR}[1]{\\getItem{#1}}\n",
    "\\newcommand{\\getitemL}[1]{{#1}\\getItem}\n",
    "\\newcommand{\\elemR}[2]{{#1}^{\\phantom{\\T}}_{\\getitemR{#2}}} \n",
    "\\newcommand{\\elemRP}[2]{{\\big(#1\\big)}^{\\phantom{\\T}}_{\\getitemR{#2}}} \n",
    "\\newcommand{\\elemRPE}[2]{\\big({#1}^{\\phantom{\\T}}_{\\getitemR{#2}}\\big)}\n",
    "%%%%%%%%%%%%%%%%%%%%%%%%%%%%%%%%%%%%%%%%%%%%%%%%%%%%%%%%%%%%%%%%%%%%%%%%%%%%\n",
    "\\newcommand{\\Vect}[2][{}]{{\\boldsymbol{#2}}_{#1}}\n",
    "\\newcommand{\\eleVR}[2]  {\\elemR  {\\Vect{#1}}{#2}}\t % con subindices\n",
    "\\newcommand{\\eleVRP}[2] {\\elemRP {\\Vect{#1}}{#2}}      % con subindices y paréntesis interior\n",
    "\\newcommand{\\eleVRPE}[2]{\\elemRPE{\\Vect{#1}}{#2}}      % con subindices y paréntesis exterior\n",
    "%%%%%%%%%%%%%%%%%%%%%%%%%%%%%%%%%%%%%%%%%%%%%%%%%%%%%%%%%%%%%%%%%%%%%%%%%%%%\n",
    "\\newcommand{\\VectC}[2][{}]  {\\elemR  {\\Mat{#2}}{#1}}   % con subindices\n",
    "\\newcommand{\\VectCP}[2][{}] {\\elemRP {\\Mat{#2}}{#1}}   % con subindices y paréntesis\n",
    "\\newcommand{\\VectCPE}[2][{}]{\\elemRPE{\\Mat{#2}}{#1}}   % con subindices y paréntesis exterior\n",
    "%%%%%%%%%%%%%%%%%%%%%%%%%%%%%%%%%%%%%%%%%%%%%%%%%%%%%%%%%%%%%%%%%%%%%%%%%%%%\n",
    "\\newcommand{\\mat}[1]{\\mathbf{#1}}\n",
    "\\newcommand{\\Mat} [2][{}]{{\\mat{#2}}_{#1}} \n",
    "\\newcommand{\\T}{\\intercal}\n",
    "\\newcommand{\\MatT}[2][{}]{{\\mat{#2}}^{\\T}_{#1}}\n",
    "\\newcommand{\\VectCC}[2][{}]   {\\elemRR {\\Mat{#2}}{#1}}   % con ()\n",
    "\\newcommand{\\VectCCC}[2][{}]  {\\elemRRR{\\Mat{#2}}{#1}}   % con texto \"col\"\n",
    "%SELECCIÓNA de FILAS y COlUMNAS DE UNA MATRIZ TRANSPUESTA PARA GENERAR UN VECTOR DE Rn\n",
    "\\newcommand{\\VectTC}[2][{}]   {\\elemR{\\MatT{#2}\\!}{#1}}  % con subindices\n",
    "\\newcommand{\\VectTCC}[2][{}]  {\\elemRR{ \\MatT{#2}}{#1}}  % con ()\n",
    "\\newcommand{\\VectTCCC}[2][{}] {\\elemRRR{\\MatT{#2}}{#1}}  % con texto \"col\"\n",
    "\\newcommand{\\dotprod}[2][{}] {\\Vect{#1}\\cdot\\Vect{#2}}\n",
    "$\n",
    "\n"
   ]
  },
  {
   "cell_type": "markdown",
   "metadata": {},
   "source": [
    "## Suma de vectores\n",
    "\n"
   ]
  },
  {
   "cell_type": "markdown",
   "metadata": {},
   "source": [
    "Genere los vectores $\\Vect{a}$ y $\\Vect{b}$:\n",
    "\n",
    "-   el vector $\\Vect{a}$ está formado por la lista de números: 1, 4, 9, 2\n",
    "-   el vector $\\Vect{b}$ está formado por la lista de números: 1, 2, 1, 0\n",
    "\n",
    "Después obtenga la tercera componente de la suma de ambos: \n",
    "$\\elemR{(\\Vect{a}+\\Vect{b})}{3}$\n",
    "\n"
   ]
  },
  {
   "cell_type": "code",
   "execution_count": 1,
   "metadata": {},
   "outputs": [
    {
     "name": "stdout",
     "output_type": "stream",
     "text": [
      "10"
     ]
    }
   ],
   "source": [
    "a = Vector( [1,4,9,2] )\n",
    "b = Vector( [1,2,1,0] )\n",
    "(a+b)|3"
   ]
  },
  {
   "cell_type": "markdown",
   "metadata": {},
   "source": [
    "Ahora sume la tercera componente de $\\Vect{a}$ más la tercera\n",
    "componente de $\\Vect{b}:\\qquad\\eleVRPE{a}{3}+\\eleVRPE{b}{3}$.   \n",
    "Compruebe que obtiene el mismo resultado que obtuvo en la celda\n",
    "anterior. ¿Cómo se llama esta propiedad? (*encontrará el nombre de la\n",
    "propiedad en el [libro](https://github.com/mbujosab/CursoDeAlgebraLineal/blob/master/libro.pdf)*)\n",
    "\n"
   ]
  },
  {
   "cell_type": "code",
   "execution_count": 1,
   "metadata": {},
   "outputs": [
    {
     "name": "stdout",
     "output_type": "stream",
     "text": [
      "10"
     ]
    }
   ],
   "source": [
    "(a|3) + (b|3)"
   ]
  },
  {
   "cell_type": "markdown",
   "metadata": {},
   "source": [
    "### Orden de ejecución de operaciones y necesidad de poner paréntesis\n",
    "\n"
   ]
  },
  {
   "cell_type": "markdown",
   "metadata": {},
   "source": [
    "Ahora pruebe a quitar los paréntesis de la expresión anterior y\n",
    "ejecutar el código, verá que Python nos da un aviso de error. Se debe\n",
    "a que Python aplica las operaciones consecutivamente de izquierda a\n",
    "derecha: Python secciona la tercera componente de $\\Vect{a}$ (que es\n",
    "el número `9`) y a continuación trata de sumar el siguiente elemento\n",
    "de la expresión introducida, es decir, trata de sumar el vector\n",
    "$\\Vect{b}$&#x2026; pero no tiene sentido sumar a un número un\n",
    "vector. Consecuentemente ejecutar el siguiente código da un error\n",
    "(*pero quite la almohadilla `#` para que Jupyter ejecute el código*).\n",
    "\n"
   ]
  },
  {
   "cell_type": "code",
   "execution_count": 1,
   "metadata": {},
   "outputs": [],
   "source": [
    "# a|3 + b|3"
   ]
  },
  {
   "cell_type": "markdown",
   "metadata": {},
   "source": [
    "Cuando nosotros leemos la expresión: $\\;\\eleVR{a}{3}+\\eleVR{b}{3},\\;$\n",
    "realmente interpretamos que lo que pone es\n",
    "$\\;\\eleVRPE{a}{3}+\\eleVRPE{b}{3};\\;$ es decir, ponemos mentalmente los\n",
    "paréntesis. Sin embargo Python necesita que le digamos cuál es el\n",
    "orden correcto para operar. El uso de los paréntesis resuelve ese\n",
    "problema. Primero se calcula lo que hay dentro de los paréntesis y\n",
    "luego se realiza la suma (en este caso la suma de dos números).\n",
    "\n",
    "¡Tenga presente que cuando las expresiones son complicadas&#x2026; incluso\n",
    "los humanos necesitamos los paréntesis para interpretar correctamente!\n",
    "Siempre que escriba en un papel una expresión matemática y dude si\n",
    "poner, o no, los paréntesis, decídase por ponerlos&#x2026; es lo\n",
    "correcto. Los paréntesis se omiten solo cuando resulta *muy evidente*\n",
    "el orden de las operaciones.\n",
    "\n",
    "*Recuerde que Python siempre ejecuta consecutivamente las operaciones\n",
    "de izquierda a derecha.* *Por tanto, no olvide la necesidad de poner\n",
    "paréntesis al trabajar con Python.*\n",
    "\n"
   ]
  },
  {
   "cell_type": "markdown",
   "metadata": {},
   "source": [
    "## Producto de un vector por un escalar\n",
    "\n"
   ]
  },
  {
   "cell_type": "markdown",
   "metadata": {},
   "source": [
    "Con el producto ocurre algo parecido. Nosotros comprendemos la\n",
    "expresión: $$2\\Vect{a}$$ porque realmente interpretamos:\n",
    "$$2\\cdot\\Vect{a}$$ (fíjese en el punto que indica el *producto*).\n",
    "Python no realiza esa extrapolación. Si usted teclea `2a` Python le\n",
    "mostrará un error. Compruébelo en la siguiente celda\n",
    "\n"
   ]
  },
  {
   "cell_type": "code",
   "execution_count": 1,
   "metadata": {},
   "outputs": [],
   "source": [
    "#"
   ]
  },
  {
   "cell_type": "markdown",
   "metadata": {},
   "source": [
    "Python necesita que se le indique explícitamente la operación producto\n",
    "con el símbolo (`*`).\n",
    "\n"
   ]
  },
  {
   "cell_type": "code",
   "execution_count": 1,
   "metadata": {},
   "outputs": [
    {
     "data": {
      "image/png": "[encoded data removed]",
      "text/plain": [
       "<matplotlib.figure.Figure>"
      ]
     },
     "metadata": {},
     "output_type": "display_data"
    }
   ],
   "source": [
    "2*a"
   ]
  },
  {
   "cell_type": "markdown",
   "metadata": {},
   "source": [
    "*Observación*: Tal como se ha programado la librería [NAcAL](https://github.com/mbujosab/nacallib), se admite\n",
    "multiplicar por ambos lados&#x2026; reflejando el hecho de que también se\n",
    "admite en el [libro](https://github.com/mbujosab/CursoDeAlgebraLineal/blob/master/libro.pdf) (para mantener la asociatividad por la izquierda\n",
    "del operador selector).\n",
    "\n"
   ]
  },
  {
   "cell_type": "code",
   "execution_count": 1,
   "metadata": {},
   "outputs": [
    {
     "data": {
      "image/png": "[encoded data removed]",
      "text/plain": [
       "<matplotlib.figure.Figure>"
      ]
     },
     "metadata": {},
     "output_type": "display_data"
    }
   ],
   "source": [
    "a*2"
   ]
  },
  {
   "cell_type": "markdown",
   "metadata": {},
   "source": [
    "Pero tenga en cuenta que una expresión como $\\Vect{x}2$ nunca aparece\n",
    "en los textos; el modo convencional de escribir dicho producto es\n",
    "$2\\Vect{x}$, es decir, *el coeficiente aparece primero*).\n",
    "\n",
    "Obtenga la tercera componente del doble del vector $\\Vect{a}$ es\n",
    "decir: $\\elemRP{2\\Vect{a}}{3}$\n",
    "\n"
   ]
  },
  {
   "cell_type": "code",
   "execution_count": 1,
   "metadata": {},
   "outputs": [],
   "source": [
    "#"
   ]
  },
  {
   "cell_type": "markdown",
   "metadata": {},
   "source": [
    "y ahora obtenga la tercera componente de $\\Vect{a}$ y multiplíquela\n",
    "por 2: $\\quad 2\\elemRPE{\\Vect{a}}{3}$.\n",
    "\n"
   ]
  },
  {
   "cell_type": "code",
   "execution_count": 1,
   "metadata": {},
   "outputs": [],
   "source": [
    "#"
   ]
  },
  {
   "cell_type": "markdown",
   "metadata": {},
   "source": [
    "Observe que en ambos casos se obtiene el mismo resultado. ¿Cómo se\n",
    "llama esta propiedad? (*encontrará la respuesta en el [libro](https://github.com/mbujosab/CursoDeAlgebraLineal/blob/master/libro.pdf)*)\n",
    "\n",
    "Acabamos de constatar que el operador selector tiene dos importantes\n",
    "propiedades que lo convierten en un *operador li&hellip;* ¿?\n",
    "(*encontrará la respuesta en el [libro](https://github.com/mbujosab/CursoDeAlgebraLineal/blob/master/libro.pdf)*)\n",
    "\n"
   ]
  },
  {
   "cell_type": "markdown",
   "metadata": {},
   "source": [
    "### Orden de ejecución de operaciones y necesidad de poner paréntesis\n",
    "\n"
   ]
  },
  {
   "cell_type": "markdown",
   "metadata": {},
   "source": [
    "Piense en cómo evalúa [NAcAL](https://github.com/mbujosab/nacallib) las siguientes expresiones?\n",
    "\n",
    "-   `(3*b)|2`\n",
    "-   `3*(b|2)`\n",
    "-   `3*b|2`\n",
    "\n"
   ]
  },
  {
   "cell_type": "code",
   "execution_count": 1,
   "metadata": {},
   "outputs": [],
   "source": [
    "#"
   ]
  },
  {
   "cell_type": "markdown",
   "metadata": {},
   "source": [
    "¿Qué problema tiene la expresión `b+b|2`?\n",
    "\n"
   ]
  },
  {
   "cell_type": "code",
   "execution_count": 1,
   "metadata": {},
   "outputs": [],
   "source": [
    "#"
   ]
  }
 ],
 "metadata": {
  "kernelspec": {
   "display_name": "Python 3",
   "language": "python",
   "name": "python3"
  },
  "language_info": {
   "codemirror_mode": {
    "name": "ipython",
    "version": 3
   },
   "file_extension": ".py",
   "mimetype": "text/x-python",
   "name": "python",
   "nbconvert_exporter": "python",
   "pygments_lexer": "ipython3",
   "version": "3.9.2"
  },
  "org": [
   null,
   null
  ]
 },
 "nbformat": 4,
 "nbformat_minor": 1
}
