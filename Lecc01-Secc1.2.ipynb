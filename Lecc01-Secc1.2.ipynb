{
 "cells": [
  {
   "cell_type": "markdown",
   "id": "3f8ed7e9-4a51-4071-9d86-47cb15b3a25e",
   "metadata": {},
   "source": [
    "Lección 01 - Sección 1.2\n",
    "========================\n",
    "\n",
    "**Author:** Marcos Bujosa\n",
    "\n"
   ]
  },
  {
   "cell_type": "code",
   "execution_count": 1,
   "id": "4e1acdf9-6deb-49af-b9b7-cddd3172d063",
   "metadata": {},
   "outputs": [],
   "source": [
    "from nacal import *\n",
    "from IPython.display import YouTubeVideo"
   ]
  },
  {
   "cell_type": "markdown",
   "id": "f3a20e5a-f24f-4613-8234-e5b823c61c4c",
   "metadata": {},
   "source": [
    "*Vea primero el siguiente vídeo y lea la [Sección 1.2](https://mbujosab.github.io/CursoDeAlgebraLineal/libro.pdf#section.1.2) de la Lección 1 del libro* \n",
    "([https://mbujosab.github.io/CursoDeAlgebraLineal](https://mbujosab.github.io/CursoDeAlgebraLineal))\n",
    "\n"
   ]
  },
  {
   "cell_type": "code",
   "execution_count": 1,
   "id": "da1fd807-0d55-453f-bcd5-08d103184814",
   "metadata": {},
   "outputs": [
    {
     "data": {
      "image/png": "[encoded data removed]",
      "text/plain": [
       "<matplotlib.figure.Figure>"
      ]
     },
     "metadata": {},
     "output_type": "display_data"
    }
   ],
   "source": [
    "YouTubeVideo('LvcerzXX3IM')  # ejecute este bloque de código para ver el vídeo"
   ]
  },
  {
   "cell_type": "markdown",
   "id": "ebd1c1e5-3ce0-447a-a2dc-c8a0623d9df6",
   "metadata": {},
   "source": [
    "$\n",
    "\\newcommand{\\R}[1][{}]{{\\mathbb{R}}^{#1}}\n",
    "\\newcommand{\\Z}[1][{}]{{\\mathbb{Z}}^{#1}}\n",
    "%%%%%%%%%%%%%%%%%%%%%%%%%%%%%%%%%%%%%%%%%%%%%%%%%%%%%%%%%%%%%%%%%%%%%%%%%%%%\n",
    "\\newcommand{\\getItem}{\\pmb{\\mid}}\n",
    "\\newcommand{\\getitemR}[1]{\\getItem{#1}}\n",
    "\\newcommand{\\getitemL}[1]{{#1}\\getItem}\n",
    "\\newcommand{\\elemR}[2]{{#1}^{\\phantom{\\T}}_{\\getitemR{#2}}} \n",
    "\\newcommand{\\elemRP}[2]{{\\big(#1\\big)}^{\\phantom{\\T}}_{\\getitemR{#2}}} \n",
    "\\newcommand{\\elemRPE}[2]{\\big({#1}^{\\phantom{\\T}}_{\\getitemR{#2}}\\big)}\n",
    "%%%%%%%%%%%%%%%%%%%%%%%%%%%%%%%%%%%%%%%%%%%%%%%%%%%%%%%%%%%%%%%%%%%%%%%%%%%%\n",
    "\\newcommand{\\Vect}[2][{}]{{\\boldsymbol{#2}}_{#1}}\n",
    "\\newcommand{\\eleVR}[2]  {\\elemR  {\\Vect{#1}}{#2}}\t % con subindices\n",
    "\\newcommand{\\eleVRP}[2] {\\elemRP {\\Vect{#1}}{#2}}      % con subindices y paréntesis interior\n",
    "\\newcommand{\\eleVRPE}[2]{\\elemRPE{\\Vect{#1}}{#2}}      % con subindices y paréntesis exterior\n",
    "%%%%%%%%%%%%%%%%%%%%%%%%%%%%%%%%%%%%%%%%%%%%%%%%%%%%%%%%%%%%%%%%%%%%%%%%%%%%\n",
    "\\newcommand{\\VectC}[2][{}]  {\\elemR  {\\Mat{#2}}{#1}}   % con subindices\n",
    "\\newcommand{\\VectCP}[2][{}] {\\elemRP {\\Mat{#2}}{#1}}   % con subindices y paréntesis\n",
    "\\newcommand{\\VectCPE}[2][{}]{\\elemRPE{\\Mat{#2}}{#1}}   % con subindices y paréntesis exterior\n",
    "%%%%%%%%%%%%%%%%%%%%%%%%%%%%%%%%%%%%%%%%%%%%%%%%%%%%%%%%%%%%%%%%%%%%%%%%%%%%\n",
    "\\newcommand{\\mat}[1]{\\mathbf{#1}}\n",
    "\\newcommand{\\Mat} [2][{}]{{\\mat{#2}}_{#1}} \n",
    "\\newcommand{\\T}{\\intercal}\n",
    "\\newcommand{\\MatT}[2][{}]{{\\mat{#2}}^{\\T}_{#1}}\n",
    "\\newcommand{\\VectCC}[2][{}]   {\\elemRR {\\Mat{#2}}{#1}}   % con ()\n",
    "\\newcommand{\\VectCCC}[2][{}]  {\\elemRRR{\\Mat{#2}}{#1}}   % con texto \"col\"\n",
    "%SELECCIÓNA de FILAS y COlUMNAS DE UNA MATRIZ TRANSPUESTA PARA GENERAR UN VECTOR DE Rn\n",
    "\\newcommand{\\VectTC}[2][{}]   {\\elemR{\\MatT{#2}\\!}{#1}}  % con subindices\n",
    "\\newcommand{\\VectTCC}[2][{}]  {\\elemRR{ \\MatT{#2}}{#1}}  % con ()\n",
    "\\newcommand{\\VectTCCC}[2][{}] {\\elemRRR{\\MatT{#2}}{#1}}  % con texto \"col\"\n",
    "\\newcommand{\\dotprod}[2][{}] {\\Vect{#1}\\cdot\\Vect{#2}}\n",
    "$\n",
    "\n"
   ]
  },
  {
   "cell_type": "markdown",
   "id": "95f0463d-6b66-4027-acf3-5faf65196229",
   "metadata": {},
   "source": [
    "## Suma de vectores\n",
    "\n"
   ]
  },
  {
   "cell_type": "markdown",
   "id": "07b9a13c-8293-4b78-a735-78bdb546203c",
   "metadata": {},
   "source": [
    "Genere los vectores $\\Vect{a}$ y $\\Vect{b}$:\n",
    "\n",
    "-   el vector $\\Vect{a}$ está formado por la lista de números: 1, 4, 9, 2\n",
    "-   el vector $\\Vect{b}$ está formado por la lista de números: 1, 2, 1, 0\n",
    "-   súmelos\n",
    "\n"
   ]
  },
  {
   "cell_type": "code",
   "execution_count": 1,
   "id": "070b2ce4-db82-4b0c-8717-fad60cd28c38",
   "metadata": {},
   "outputs": [],
   "source": [
    "a = Vector( [1,4,9,2] )\n",
    "b = Vector( [1,2,1,0] )\n",
    "a+b"
   ]
  },
  {
   "cell_type": "markdown",
   "id": "c57200ac-2c43-4b90-bf6c-7febf9ca90f9",
   "metadata": {},
   "source": [
    "Después obtenga la tercera componente de la suma de ambos: \n",
    "$\\elemR{(\\Vect{a}+\\Vect{b})}{3}$\n",
    "\n"
   ]
  },
  {
   "cell_type": "code",
   "execution_count": 1,
   "id": "f344db6d-e450-42df-9a16-813716b68849",
   "metadata": {},
   "outputs": [],
   "source": [
    "(a+b)|3"
   ]
  },
  {
   "cell_type": "markdown",
   "id": "0f736014-36ae-4e3e-94a1-551c7d951166",
   "metadata": {},
   "source": [
    "Ahora sume la tercera componente de $\\Vect{a}$ más la tercera\n",
    "componente de $\\Vect{b}:\\qquad\\eleVRPE{a}{3}+\\eleVRPE{b}{3}$.   \n",
    "Compruebe que obtiene el mismo resultado que obtuvo en la celda\n",
    "anterior. ¿Cómo se llama esta propiedad? (*encontrará el nombre de la\n",
    "propiedad en el [libro](https://mbujosab.github.io/CursoDeAlgebraLineal/libro.pdf#section.1.2)*)\n",
    "\n"
   ]
  },
  {
   "cell_type": "code",
   "execution_count": 1,
   "id": "e0d6dc1e-b487-4cfc-b306-68df64f40a33",
   "metadata": {},
   "outputs": [],
   "source": [
    "(a|3) + (b|3)"
   ]
  },
  {
   "cell_type": "markdown",
   "id": "58a2af54-fbf6-433f-8763-c8ece6d335ce",
   "metadata": {},
   "source": [
    "### Orden de ejecución de operaciones y necesidad de poner paréntesis\n",
    "\n"
   ]
  },
  {
   "cell_type": "markdown",
   "id": "a2549e65-5fdf-45f6-86bd-0ca785feedf0",
   "metadata": {},
   "source": [
    "Ahora pruebe a quitar los paréntesis de la expresión anterior y\n",
    "ejecutar el código, verá que Python nos da un aviso de error. Se debe\n",
    "a que Python aplica las operaciones consecutivamente de izquierda a\n",
    "derecha: Python secciona la tercera componente de $\\Vect{a}$ (que es\n",
    "el número `9`) y, a continuación, trata de sumar el siguiente elemento\n",
    "de la expresión introducida, es decir, trata de sumar el vector\n",
    "$\\Vect{b}$&#x2026; pero no tiene sentido sumar a un número un\n",
    "vector. Consecuentemente arroja un error (*quite la almohadilla `#` y\n",
    "ejecute el siguiente código para verlo*).\n",
    "\n"
   ]
  },
  {
   "cell_type": "code",
   "execution_count": 1,
   "id": "0dfdcd0a-a0d4-4aa5-a458-6c7fbf8f34fa",
   "metadata": {},
   "outputs": [],
   "source": [
    "# a|3 + b|3"
   ]
  },
  {
   "cell_type": "markdown",
   "id": "77a2cd73-d1ad-40d3-b9ea-d828773b2e4b",
   "metadata": {},
   "source": [
    "Cuando nosotros leemos la expresión: $\\;\\eleVR{a}{3}+\\eleVR{b}{3},\\;$\n",
    "realmente interpretamos que lo que pone es\n",
    "$\\;\\eleVRPE{a}{3}+\\eleVRPE{b}{3};\\;$ es decir, ponemos mentalmente los\n",
    "paréntesis. Sin embargo Python necesita que le digamos cuál es el\n",
    "orden correcto para operar. El uso de los paréntesis resuelve ese\n",
    "problema. Primero se calcula lo que hay dentro de los paréntesis y\n",
    "luego se realiza la suma (en este caso la suma de dos números).\n",
    "\n",
    "¡Tenga presente que cuando las expresiones son complicadas&#x2026; incluso\n",
    "los humanos necesitamos los paréntesis para interpretar correctamente!\n",
    "Siempre que escriba en un papel una expresión matemática y dude si\n",
    "poner, o no, los paréntesis, decídase por ponerlos&#x2026; es lo\n",
    "correcto. Los paréntesis se omiten solo cuando resulta *muy evidente*\n",
    "el orden de las operaciones.\n",
    "\n",
    "*Al trabajar con Python, recuerde que se ejecutan las operaciones de\n",
    "izquierda a derecha.* *No olvide la necesidad de poner paréntesis al\n",
    "trabajar con Python.*\n",
    "\n"
   ]
  },
  {
   "cell_type": "markdown",
   "id": "ea9e5dc8-ddf8-4a4f-b197-cb7f0a8a3c97",
   "metadata": {},
   "source": [
    "### Interpretación geométrica de la suma\n",
    "\n"
   ]
  },
  {
   "cell_type": "code",
   "execution_count": 1,
   "id": "f0e6379b-549c-4249-b331-ff6507a9e97c",
   "metadata": {},
   "outputs": [
    {
     "data": {
      "image/png": "[encoded data removed]",
      "text/plain": [
       "<matplotlib.figure.Figure>"
      ]
     },
     "metadata": {},
     "output_type": "display_data"
    }
   ],
   "source": [
    "YouTubeVideo('kSgd-davYhw')  # ejecute este bloque de código para ver el vídeo"
   ]
  },
  {
   "cell_type": "markdown",
   "id": "d90c6661-5d93-4bba-863f-11aa0dc75267",
   "metadata": {},
   "source": [
    "## Producto de un vector por un escalar\n",
    "\n"
   ]
  },
  {
   "cell_type": "markdown",
   "id": "98ff11b7-06d3-4559-927d-96f3b06f3d26",
   "metadata": {},
   "source": [
    "Con el producto ocurre algo parecido. Nosotros comprendemos la\n",
    "expresión: $$2\\Vect{a}$$ porque realmente interpretamos:\n",
    "$$2\\cdot\\Vect{a}$$ (fíjese en el punto que indica el *producto*).\n",
    "Python no realiza esa extrapolación. Si usted teclea `2a` Python le\n",
    "mostrará un error. Compruébelo en la siguiente celda\n",
    "\n"
   ]
  },
  {
   "cell_type": "code",
   "execution_count": 1,
   "id": "4ebbefb2-d5d0-4612-8a25-f9358a63678b",
   "metadata": {},
   "outputs": [],
   "source": [
    "# 2a"
   ]
  },
  {
   "cell_type": "markdown",
   "id": "61058383-90eb-49a3-8294-9a7b1d171824",
   "metadata": {},
   "source": [
    "Python necesita que se le indique explícitamente la operación producto\n",
    "con el símbolo (`*`).\n",
    "\n"
   ]
  },
  {
   "cell_type": "code",
   "execution_count": 1,
   "id": "b16573f0-be0f-4c74-a380-37ceb0d29927",
   "metadata": {},
   "outputs": [],
   "source": [
    "2*a"
   ]
  },
  {
   "cell_type": "markdown",
   "id": "99315f08-1a4c-431c-800c-ccd6dfbf5886",
   "metadata": {},
   "source": [
    "*Observación*: Tal como se ha programado el módulo [NAcAL](https://github.com/mbujosab/nacallib), éste admite\n",
    "la multiplicación por ambos lados&#x2026; de este modo mantiene la\n",
    "asociatividad por la izquierda del operador selector (tal como se\n",
    "explica en el [libro](https://mbujosab.github.io/CursoDeAlgebraLineal/libro.pdf#subsection.1.4.4)).\n",
    "\n"
   ]
  },
  {
   "cell_type": "code",
   "execution_count": 1,
   "id": "a82476e4-f75f-4a83-b447-fdb14d3eceef",
   "metadata": {},
   "outputs": [],
   "source": [
    "a*2"
   ]
  },
  {
   "cell_type": "markdown",
   "id": "7371b036-be65-479a-be5e-4697e957e4ad",
   "metadata": {},
   "source": [
    "Pero tenga en cuenta que una expresión como $\\Vect{x}2$ nunca aparece\n",
    "en los libros de texto; el modo convencional de escribir dicho\n",
    "producto es $2\\Vect{x}$, es decir, *con el coeficiente delante*).\n",
    "\n",
    "Obtenga la tercera componente del doble del vector $\\Vect{a}$ es\n",
    "decir: $\\elemRP{2\\Vect{a}}{3}$\n",
    "\n"
   ]
  },
  {
   "cell_type": "code",
   "execution_count": 1,
   "id": "090d0dfe-fa25-4290-b06a-4b431648bd73",
   "metadata": {},
   "outputs": [],
   "source": []
  },
  {
   "cell_type": "markdown",
   "id": "47d0295f-5841-4094-9505-e12ae85299a9",
   "metadata": {},
   "source": [
    "y ahora obtenga la tercera componente de $\\Vect{a}$ y multiplíquela\n",
    "por 2: $\\quad 2\\elemRPE{\\Vect{a}}{3}$.\n",
    "\n"
   ]
  },
  {
   "cell_type": "code",
   "execution_count": 1,
   "id": "df275c4a-6da2-4e87-b7a6-734483a32589",
   "metadata": {},
   "outputs": [],
   "source": []
  },
  {
   "cell_type": "markdown",
   "id": "2e1ad042-bc6d-4c1d-a647-2284502b1464",
   "metadata": {},
   "source": [
    "Observe que en ambos casos se obtiene el mismo resultado. ¿Cómo se\n",
    "llama esta propiedad? (*encontrará la respuesta en el [libro](https://mbujosab.github.io/CursoDeAlgebraLineal/libro.pdf#section.1.2)*)\n",
    "\n",
    "Acabamos de constatar que el operador selector tiene dos importantes\n",
    "propiedades que lo convierten en un *operador li&hellip;* ¿?  (*de\n",
    "nuevo encontrará la respuesta en el [libro](https://mbujosab.github.io/CursoDeAlgebraLineal/libro.pdf#section.1.2)*)\n",
    "\n"
   ]
  },
  {
   "cell_type": "markdown",
   "id": "11958135-4be8-4038-8d18-6e77d328179f",
   "metadata": {},
   "source": [
    "### Orden de ejecución de operaciones y necesidad de poner paréntesis\n",
    "\n"
   ]
  },
  {
   "cell_type": "markdown",
   "id": "15bd1ef7-5957-4c34-bbb5-4107415f5891",
   "metadata": {},
   "source": [
    "Piense en cómo evalúa [NAcAL](https://github.com/mbujosab/nacallib) las siguientes expresiones?\n",
    "\n",
    "-   `(3*b)|2`\n",
    "-   `3*(b|2)`\n",
    "-   `3*b|2`\n",
    "\n"
   ]
  },
  {
   "cell_type": "code",
   "execution_count": 1,
   "id": "190f15cd-1e2f-49a1-b842-4ab6fca3de39",
   "metadata": {},
   "outputs": [],
   "source": []
  },
  {
   "cell_type": "code",
   "execution_count": 1,
   "id": "933349f8-7c82-41c8-a5e4-dbc47dabac5e",
   "metadata": {},
   "outputs": [],
   "source": []
  },
  {
   "cell_type": "code",
   "execution_count": 1,
   "id": "173373e5-50a3-470f-a0fa-3e5d996559d3",
   "metadata": {},
   "outputs": [],
   "source": []
  },
  {
   "cell_type": "markdown",
   "id": "6f3c7b20-9b4b-45b0-8736-c371e0f88e07",
   "metadata": {},
   "source": [
    "¿Qué problema tiene la expresión `b+b|2`?\n",
    "\n"
   ]
  },
  {
   "cell_type": "code",
   "execution_count": 1,
   "id": "316e013b-4c7a-4dc1-849a-69155c0ab09d",
   "metadata": {},
   "outputs": [],
   "source": []
  }
 ],
 "metadata": {
  "kernelspec": {
   "display_name": "Python 3 (ipykernel)",
   "language": "python",
   "name": "python3"
  },
  "language_info": {
   "codemirror_mode": {
    "name": "ipython",
    "version": 3
   },
   "file_extension": ".py",
   "mimetype": "text/x-python",
   "name": "python",
   "nbconvert_exporter": "python",
   "pygments_lexer": "ipython3",
   "version": "3.11.2"
  },
  "org": [
   null,
   null
  ]
 },
 "nbformat": 4,
 "nbformat_minor": 5
}
