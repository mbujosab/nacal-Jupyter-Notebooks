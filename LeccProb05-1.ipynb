{
 "cells": [
  {
   "cell_type": "markdown",
   "metadata": {},
   "source": [
    "Lección 23 - Lanzamiento de monedas\n",
    "===================================\n",
    "\n",
    "**Author:** Marcos Bujosa\n",
    "\n"
   ]
  },
  {
   "cell_type": "markdown",
   "metadata": {},
   "source": [
    "$\n",
    "\\newcommand{\\R}[1][{}]{{\\mathbb{R}}^{#1}}\n",
    "\\newcommand{\\Z}[1][{}]{{\\mathbb{Z}}^{#1}}\n",
    "%%%%%%%%%%%%%%%%%%%%%%%%%%%%%%%%%%%%%%%%%%%%%%%%%%%%%%%%%%%%%%%%%%%%%%%%%%%%\n",
    "\\newcommand{\\getItem}{\\pmb{\\mid}}\n",
    "\\newcommand{\\getitemR}[1]{\\getItem{#1}}\n",
    "\\newcommand{\\getitemL}[1]{{#1}\\getItem}\n",
    "\\newcommand{\\elemR}[2]{{#1}^{\\phantom{\\T}}_{\\getitemR{#2}}} \n",
    "\\newcommand{\\elemRP}[2]{{\\big(#1\\big)}^{\\phantom{\\T}}_{\\getitemR{#2}}} \n",
    "\\newcommand{\\elemRPE}[2]{\\big({#1}^{\\phantom{\\T}}_{\\getitemR{#2}}\\big)}\n",
    "%%%%%%%%%%%%%%%%%%%%%%%%%%%%%%%%%%%%%%%%%%%%%%%%%%%%%%%%%%%%%%%%%%%%%%%%%%%%\n",
    "\\newcommand{\\Vect}[2][{}]{{\\boldsymbol{#2}}_{#1}}\n",
    "\\newcommand{\\eleVR}[2]  {\\elemR  {\\Vect{#1}}{#2}}\t % con subindices\n",
    "\\newcommand{\\eleVRP}[2] {\\elemRP {\\Vect{#1}}{#2}}      % con subindices y paréntesis interior\n",
    "\\newcommand{\\eleVRPE}[2]{\\elemRPE{\\Vect{#1}}{#2}}      % con subindices y paréntesis exterior\n",
    "%%%%%%%%%%%%%%%%%%%%%%%%%%%%%%%%%%%%%%%%%%%%%%%%%%%%%%%%%%%%%%%%%%%%%%%%%%%%\n",
    "\\newcommand{\\VectC}[2][{}]  {\\elemR  {\\Mat{#2}}{#1}}   % con subindices\n",
    "\\newcommand{\\VectCP}[2][{}] {\\elemRP {\\Mat{#2}}{#1}}   % con subindices y paréntesis\n",
    "\\newcommand{\\VectCPE}[2][{}]{\\elemRPE{\\Mat{#2}}{#1}}   % con subindices y paréntesis exterior\n",
    "%%%%%%%%%%%%%%%%%%%%%%%%%%%%%%%%%%%%%%%%%%%%%%%%%%%%%%%%%%%%%%%%%%%%%%%%%%%%\n",
    "\\newcommand{\\mat}[1]{\\mathbf{#1}}\n",
    "\\newcommand{\\Mat} [2][{}]{{\\mat{#2}}_{#1}} \n",
    "\\newcommand{\\T}{\\intercal}\n",
    "\\newcommand{\\MatT}[2][{}]{{\\mat{#2}}^{\\T}_{#1}}\n",
    "\\newcommand{\\VectCC}[2][{}]   {\\elemRR {\\Mat{#2}}{#1}}   % con ()\n",
    "\\newcommand{\\VectCCC}[2][{}]  {\\elemRRR{\\Mat{#2}}{#1}}   % con texto \"col\"\n",
    "%SELECCIÓNA de FILAS y COlUMNAS DE UNA MATRIZ TRANSPUESTA PARA GENERAR UN VECTOR DE Rn\n",
    "\\newcommand{\\VectTC}[2][{}]   {\\elemR{\\MatT{#2}\\!}{#1}}  % con subindices\n",
    "\\newcommand{\\VectTCC}[2][{}]  {\\elemRR{ \\MatT{#2}}{#1}}  % con ()\n",
    "\\newcommand{\\VectTCCC}[2][{}] {\\elemRRR{\\MatT{#2}}{#1}}  % con texto \"col\"\n",
    "\\newcommand{\\dotprod}[2][{}] {\\Vect{#1}\\cdot\\Vect{#2}}\n",
    "$\n",
    "\n"
   ]
  },
  {
   "cell_type": "markdown",
   "metadata": {},
   "source": [
    "#### Primer paso para usar [NAcAL](https://github.com/mbujosab/nacallib)\n",
    "\n"
   ]
  },
  {
   "cell_type": "markdown",
   "metadata": {},
   "source": [
    "Para poder usar [NAcAL](https://github.com/mbujosab/nacallib) es necesario importar el módulo:\n",
    "\n"
   ]
  },
  {
   "cell_type": "code",
   "execution_count": 1,
   "metadata": {},
   "outputs": [],
   "source": [
    "from nacal import *"
   ]
  },
  {
   "cell_type": "markdown",
   "metadata": {},
   "source": [
    "## Definición de algunas operaciones y objetos\n",
    "\n"
   ]
  },
  {
   "cell_type": "markdown",
   "metadata": {},
   "source": [
    "Definamos el productorio *aspa* introducido en la lección anterior del\n",
    "libro:\n",
    "\n"
   ]
  },
  {
   "cell_type": "code",
   "execution_count": 2,
   "metadata": {},
   "outputs": [],
   "source": [
    "def aspa(lista):\n",
    "    result = [[]]\n",
    "    for pool in lista:\n",
    "        result = [x+[y] for x in result for y in pool]\n",
    "    for prod in result:\n",
    "        yield tuple(prod)"
   ]
  },
  {
   "cell_type": "markdown",
   "metadata": {},
   "source": [
    "### Variable aleatoria indicatriz\n",
    "\n"
   ]
  },
  {
   "cell_type": "markdown",
   "metadata": {},
   "source": [
    "Vamos a crear un nuevo tipo de vector (que debe ser indicatriz) y que\n",
    "posee un atributo adicional: la probabilidad asociada al suceso\n",
    "indicado por dicho vector indicatriz (si el vector en nulo su\n",
    "probabilidad será cero y si el vector es la constante 1, la\n",
    "probabilidad será uno).\n",
    "\n"
   ]
  },
  {
   "cell_type": "code",
   "execution_count": 3,
   "metadata": {},
   "outputs": [],
   "source": [
    "class VAI(Vector):\n",
    "    def __init__(self, data, prb = 0, rpr = 'columna'):\n",
    "        super().__init__(data)\n",
    "        if not all([int(i==0 or i==1) for i in self]):\n",
    "            raise ValueError('No es un vector indicatriz')\n",
    "        if Vector(self).es_nulo(): prb = 0 \n",
    "        if Vector(self)==V1(Vector(self).n): prb = 1\n",
    "        self.prb = prb"
   ]
  },
  {
   "cell_type": "markdown",
   "metadata": {},
   "source": [
    "Así, podemos generar un vector indicatriz e indicar la probabilidad\n",
    "asociada al correspondiente suceso.\n",
    "\n"
   ]
  },
  {
   "cell_type": "code",
   "execution_count": 4,
   "metadata": {},
   "outputs": [
    {
     "name": "stdout",
     "output_type": "stream",
     "text": [
      "1/2\n"
     ]
    },
    {
     "data": {
      "image/png": "[encoded data removed]",
      "text/html": [
       "<p style=\"text-align:center;\">$\\begin{pmatrix}1\\\\ 1\\\\ 0\\\\ 1\\end{pmatrix}$</p>"
      ],
      "text/latex": [
       "$\\begin{pmatrix}1\\\\ 1\\\\ 0\\\\ 1\\end{pmatrix}$"
      ],
      "text/plain": [
       "Vector([1, 1, 0, 1])"
      ]
     },
     "execution_count": 4,
     "metadata": {},
     "output_type": "execute_result"
    }
   ],
   "source": [
    "u = VAI([1,1,0,1], fracc(1,2))\n",
    "print(u.prb)\n",
    "u"
   ]
  },
  {
   "cell_type": "markdown",
   "metadata": {},
   "source": [
    "Si el vector es nulo o es la constante uno, ignora la probabilidad que\n",
    "indiquemos y asocia la probabilidad cero o uno respectivamente.\n",
    "\n"
   ]
  },
  {
   "cell_type": "code",
   "execution_count": 5,
   "metadata": {},
   "outputs": [
    {
     "data": {
      "text/plain": [
       "0"
      ]
     },
     "execution_count": 5,
     "metadata": {},
     "output_type": "execute_result"
    }
   ],
   "source": [
    "VAI(V0(5), fracc(1,2)).prb"
   ]
  },
  {
   "cell_type": "markdown",
   "metadata": {},
   "source": [
    "### Subespacio probabilizable\n",
    "\n"
   ]
  },
  {
   "cell_type": "markdown",
   "metadata": {},
   "source": [
    "La clase `SubEspacioProb` es una subclase de la clase `SubEspacio`\n",
    "cuyo atributo `base` siempre es la *base canónica* y con un atributo\n",
    "adicional que es un `embrion` del subespacio compuesto por sucesivos\n",
    "números naturales.\n",
    "\n"
   ]
  },
  {
   "cell_type": "code",
   "execution_count": 6,
   "metadata": {},
   "outputs": [],
   "source": [
    "class SubEspacioProb(SubEspacio):\n",
    "    def __init__(self, data):\n",
    "        if not isinstance(data, (Sistema, Matrix, Vector)):\n",
    "            raise ValueError('Argumento debe ser un Sistema, una Matrix o un Vector embrión')\n",
    "        prodH     = lambda u,w: Vector([u[i]*w[i] for i in range(u.n)])\n",
    "        productoH = lambda x,n: V1(n) if not x else prodH(x[0], productoH(x[1:], n) )\n",
    "        def BaseCspanEmbrion(v):\n",
    "            return Sistema([Vector([int(i==j) for i in v.lista]) for j in set(v.lista)])\n",
    "        \n",
    "        if isinstance(data, Vector):\n",
    "            baseC = BaseCspanEmbrion(data)\n",
    "        elif isinstance(data, (Sistema, Matrix)):\n",
    "            n = (data[0]).n\n",
    "            Q = [x for x in aspa([BaseCspanEmbrion(u) for u in data]) ]\n",
    "            baseC = Sistema([v for v in [productoH(s,n) for s in Q] if v.no_es_nulo()])\n",
    "        baseC = ElimG(baseC).sis()\n",
    "        super().__init__(baseC)\n",
    "        \n",
    "        self.embrion = Matrix(baseC)*Vector(list(range(1,len(baseC)+1)))"
   ]
  },
  {
   "cell_type": "code",
   "execution_count": 7,
   "metadata": {},
   "outputs": [
    {
     "data": {
      "image/png": "[encoded data removed]",
      "text/html": [
       "<p style=\"text-align:center;\">$\\begin{pmatrix}5\\\\ 1\\\\ 2\\\\ 5\\end{pmatrix}$</p>"
      ],
      "text/latex": [
       "$\\begin{pmatrix}5\\\\ 1\\\\ 2\\\\ 5\\end{pmatrix}$"
      ],
      "text/plain": [
       "Vector([5, 1, 2, 5])"
      ]
     },
     "execution_count": 7,
     "metadata": {},
     "output_type": "execute_result"
    }
   ],
   "source": [
    "a=Vector([5,1,2,5]); a"
   ]
  },
  {
   "cell_type": "markdown",
   "metadata": {},
   "source": [
    "Si empleamos un vector como argumento, usará este como embrión del\n",
    "subespacio probabilizable.  El atributo `base` es la base canónica del\n",
    "subespacio.\n",
    "\n"
   ]
  },
  {
   "cell_type": "code",
   "execution_count": 8,
   "metadata": {},
   "outputs": [
    {
     "data": {
      "image/png": "[encoded data removed]",
      "text/html": [
       "<p style=\"text-align:center;\">$\\begin{bmatrix}\\begin{pmatrix}1\\\\ 0\\\\ 0\\\\ 1\\end{pmatrix};& \\begin{pmatrix}0\\\\ 1\\\\ 0\\\\ 0\\end{pmatrix};& \\begin{pmatrix}0\\\\ 0\\\\ 1\\\\ 0\\end{pmatrix};\\end{bmatrix}$</p>"
      ],
      "text/latex": [
       "$\\begin{bmatrix}\\begin{pmatrix}1\\\\ 0\\\\ 0\\\\ 1\\end{pmatrix};& \\begin{pmatrix}0\\\\ 1\\\\ 0\\\\ 0\\end{pmatrix};& \\begin{pmatrix}0\\\\ 0\\\\ 1\\\\ 0\\end{pmatrix};\\end{bmatrix}$"
      ],
      "text/plain": [
       "Sistema([Vector([1, 0, 0, 1]); Vector([0, 1, 0, 0]); Vector([0, 0, 1, 0]);])"
      ]
     },
     "execution_count": 8,
     "metadata": {},
     "output_type": "execute_result"
    }
   ],
   "source": [
    "G = SubEspacioProb(a)\n",
    "G.base"
   ]
  },
  {
   "cell_type": "markdown",
   "metadata": {},
   "source": [
    "Si empleamos una matriz como argumento, usará sus columnas como\n",
    "embriones y el resultado será la envolvente probabilizable de los\n",
    "subespacios creados con cada uno de los embriones (columnas).\n",
    "\n"
   ]
  },
  {
   "cell_type": "code",
   "execution_count": 9,
   "metadata": {},
   "outputs": [
    {
     "data": {
      "image/png": "[encoded data removed]",
      "text/html": [
       "<p style=\"text-align:center;\">$\\left[ \\begin{array}{cccc}1&0&0&5\\\\0&1&0&1\\\\0&0&1&2\\\\1&0&0&5\\\\ \\end{array} \\right]$</p>"
      ],
      "text/latex": [
       "$\\left[ \\begin{array}{cccc}1&0&0&5\\\\0&1&0&1\\\\0&0&1&2\\\\1&0&0&5\\\\ \\end{array} \\right]$"
      ],
      "text/plain": [
       "Matrix([Vector([1, 0, 0, 1]), Vector([0, 1, 0, 0]), Vector([0, 0, 1, 0]), Vector([5, 1, 2, 5])])"
      ]
     },
     "execution_count": 9,
     "metadata": {},
     "output_type": "execute_result"
    }
   ],
   "source": [
    "B=Matrix([Vector([1,0,0,1]),Vector([0,1,0,0]),Vector([0,0,1,0]),a]); B"
   ]
  },
  {
   "cell_type": "code",
   "execution_count": 10,
   "metadata": {},
   "outputs": [
    {
     "data": {
      "image/png": "[encoded data removed]",
      "text/html": [
       "<p style=\"text-align:center;\">$\\begin{bmatrix}\\begin{pmatrix}1\\\\ 0\\\\ 0\\\\ 1\\end{pmatrix};& \\begin{pmatrix}0\\\\ 1\\\\ 0\\\\ 0\\end{pmatrix};& \\begin{pmatrix}0\\\\ 0\\\\ 1\\\\ 0\\end{pmatrix};\\end{bmatrix}$</p>"
      ],
      "text/latex": [
       "$\\begin{bmatrix}\\begin{pmatrix}1\\\\ 0\\\\ 0\\\\ 1\\end{pmatrix};& \\begin{pmatrix}0\\\\ 1\\\\ 0\\\\ 0\\end{pmatrix};& \\begin{pmatrix}0\\\\ 0\\\\ 1\\\\ 0\\end{pmatrix};\\end{bmatrix}$"
      ],
      "text/plain": [
       "Sistema([Vector([1, 0, 0, 1]); Vector([0, 1, 0, 0]); Vector([0, 0, 1, 0]);])"
      ]
     },
     "execution_count": 10,
     "metadata": {},
     "output_type": "execute_result"
    }
   ],
   "source": [
    "H = SubEspacioProb(B)\n",
    "H.base"
   ]
  },
  {
   "cell_type": "markdown",
   "metadata": {},
   "source": [
    "El atributo `embrión` es un embrión del subespacio\n",
    "\n"
   ]
  },
  {
   "cell_type": "code",
   "execution_count": 11,
   "metadata": {},
   "outputs": [
    {
     "data": {
      "image/png": "[encoded data removed]",
      "text/html": [
       "<p style=\"text-align:center;\">$\\begin{pmatrix}1\\\\ 2\\\\ 3\\\\ 1\\end{pmatrix}$</p>"
      ],
      "text/latex": [
       "$\\begin{pmatrix}1\\\\ 2\\\\ 3\\\\ 1\\end{pmatrix}$"
      ],
      "text/plain": [
       "Vector([1, 2, 3, 1])"
      ]
     },
     "execution_count": 11,
     "metadata": {},
     "output_type": "execute_result"
    }
   ],
   "source": [
    "H.embrion"
   ]
  },
  {
   "cell_type": "code",
   "execution_count": 12,
   "metadata": {},
   "outputs": [
    {
     "data": {
      "image/png": "[encoded data removed]",
      "text/html": [
       "<p style=\"text-align:center;\">$\\left[ \\begin{array}{cccc}1&0&0&5\\\\0&1&0&1\\\\0&0&1&2\\\\0&0&0&5\\\\ \\end{array} \\right]$</p>"
      ],
      "text/latex": [
       "$\\left[ \\begin{array}{cccc}1&0&0&5\\\\0&1&0&1\\\\0&0&1&2\\\\0&0&0&5\\\\ \\end{array} \\right]$"
      ],
      "text/plain": [
       "Matrix([Vector([1, 0, 0, 0]), Vector([0, 1, 0, 0]), Vector([0, 0, 1, 0]), Vector([5, 1, 2, 5])])"
      ]
     },
     "execution_count": 12,
     "metadata": {},
     "output_type": "execute_result"
    }
   ],
   "source": [
    "C=(I(4)|(1,2,3)).concatena(Matrix([a])); C"
   ]
  },
  {
   "cell_type": "code",
   "execution_count": 13,
   "metadata": {},
   "outputs": [
    {
     "data": {
      "image/png": "[encoded data removed]",
      "text/html": [
       "<p style=\"text-align:center;\">$\\begin{pmatrix}1\\\\ 2\\\\ 3\\\\ 4\\end{pmatrix}$</p>"
      ],
      "text/latex": [
       "$\\begin{pmatrix}1\\\\ 2\\\\ 3\\\\ 4\\end{pmatrix}$"
      ],
      "text/plain": [
       "Vector([1, 2, 3, 4])"
      ]
     },
     "execution_count": 13,
     "metadata": {},
     "output_type": "execute_result"
    }
   ],
   "source": [
    "J = SubEspacioProb(C)\n",
    "J.embrion"
   ]
  },
  {
   "cell_type": "markdown",
   "metadata": {},
   "source": [
    "### Espacio Euclídeo de probabilidad\n",
    "\n"
   ]
  },
  {
   "cell_type": "markdown",
   "metadata": {},
   "source": [
    "La clase `EspacioEuclideoProb` es una subclase de la clase\n",
    "`SubEspacioProb` que incluye las probabilidades asociadas a los\n",
    "vectores indicatrices de su base canónica y la función de masa de\n",
    "probabilidad asociada al embrión.\n",
    "\n"
   ]
  },
  {
   "cell_type": "code",
   "execution_count": 14,
   "metadata": {},
   "outputs": [],
   "source": [
    "class EspacioEuclideoProb(SubEspacioProb):\n",
    "    def __init__(self, data, fmp={}):\n",
    "        super().__init__(SubEspacioProb(data).base)\n",
    "        if not fmp:\n",
    "            fmp = dict(zip(set(self.embrion),[fracc(1,len(set(self.embrion)))]*len(set(a))))\n",
    "        elif isinstance(fmp, (list, tuple, dict)) and len(fmp)!=len(self.base):\n",
    "            raise ValueError('La función de masa de probab. debe ser una lista, tupla o dicionario con probabilidades para cada vector de la base canónica')\n",
    "        elif isinstance(fmp, (list, tuple)):\n",
    "            fmp = dict(zip(set(self.embrion),fmp))\n",
    "        self.fmp = fmp\n",
    "        if sum([p for p in fmp.values()])!=1:\n",
    "            raise ValueError('Las probabilidades deben sumar 1')\n",
    "        self.base = Sistema([VAI(v,list((self.fmp).values())[c]) for c,v in enumerate(self.base)])"
   ]
  },
  {
   "cell_type": "code",
   "execution_count": 15,
   "metadata": {},
   "outputs": [
    {
     "name": "stdout",
     "output_type": "stream",
     "text": [
      "1/3\n",
      "{1: 1/3, 2: 1/3, 3: 1/3}\n"
     ]
    },
    {
     "data": {
      "image/png": "[encoded data removed]",
      "text/html": [
       "<p style=\"text-align:center;\">$\\begin{bmatrix}\\begin{pmatrix}1\\\\ 0\\\\ 0\\\\ 1\\end{pmatrix};& \\begin{pmatrix}0\\\\ 1\\\\ 0\\\\ 0\\end{pmatrix};& \\begin{pmatrix}0\\\\ 0\\\\ 1\\\\ 0\\end{pmatrix};\\end{bmatrix}$</p>"
      ],
      "text/latex": [
       "$\\begin{bmatrix}\\begin{pmatrix}1\\\\ 0\\\\ 0\\\\ 1\\end{pmatrix};& \\begin{pmatrix}0\\\\ 1\\\\ 0\\\\ 0\\end{pmatrix};& \\begin{pmatrix}0\\\\ 0\\\\ 1\\\\ 0\\end{pmatrix};\\end{bmatrix}$"
      ],
      "text/plain": [
       "Sistema([Vector([1, 0, 0, 1]); Vector([0, 1, 0, 0]); Vector([0, 0, 1, 0]);])"
      ]
     },
     "execution_count": 15,
     "metadata": {},
     "output_type": "execute_result"
    }
   ],
   "source": [
    "K = EspacioEuclideoProb(a)\n",
    "print(K.base[0].prb)\n",
    "print(K.fmp)\n",
    "K.base"
   ]
  },
  {
   "cell_type": "code",
   "execution_count": 16,
   "metadata": {},
   "outputs": [
    {
     "name": "stdout",
     "output_type": "stream",
     "text": [
      "1/2\n",
      "{1: 1/2, 2: 1/4, 5: 1/4}\n"
     ]
    },
    {
     "data": {
      "text/latex": [
       "$\\displaystyle \\frac{1}{2}$"
      ],
      "text/plain": [
       "1/2"
      ]
     },
     "execution_count": 16,
     "metadata": {},
     "output_type": "execute_result"
    }
   ],
   "source": [
    "K = EspacioEuclideoProb(a,dict(zip(set(a),[fracc(1,2),fracc(1,4),fracc(1,4)])))\n",
    "print(K.base[0].prb)\n",
    "print(K.fmp)\n",
    "K.base[0].prb"
   ]
  },
  {
   "cell_type": "code",
   "execution_count": 17,
   "metadata": {},
   "outputs": [
    {
     "name": "stdout",
     "output_type": "stream",
     "text": [
      "1/2\n",
      "{1: 1/2, 2: 3/8, 3: 1/8}\n"
     ]
    },
    {
     "data": {
      "text/latex": [
       "$\\displaystyle \\frac{3}{8}$"
      ],
      "text/plain": [
       "3/8"
      ]
     },
     "execution_count": 17,
     "metadata": {},
     "output_type": "execute_result"
    }
   ],
   "source": [
    "K = EspacioEuclideoProb(a,[fracc(1,2),fracc(3,8),fracc(1,8)])\n",
    "print(K.base[0].prb)\n",
    "print(K.fmp)\n",
    "K.base[1].prb"
   ]
  },
  {
   "cell_type": "markdown",
   "metadata": {},
   "source": [
    "## Ejemplo de la demostración en el libro sobre la *construcción de subespacios independientes e isomorfos*.\n",
    "\n"
   ]
  },
  {
   "cell_type": "markdown",
   "metadata": {},
   "source": [
    "En dicho ejemplo\n",
    "$\\mathcal{R}_1=\\mathcal{L}(\\Vect[1]{u},\\Vect[2]{u})$ y $\\mathcal{R}_2=\\mathcal{L}(\\Vect[1]{w},\\Vect[2]{w},\\Vect[3]{w})$ \n",
    "\n",
    "Para usar variables simbólicas correspondientes a los anteriores\n",
    "vectores cargamos el siguiente módulo\n",
    "\n"
   ]
  },
  {
   "cell_type": "code",
   "execution_count": 18,
   "metadata": {},
   "outputs": [],
   "source": [
    "from sympy import symbols"
   ]
  },
  {
   "cell_type": "markdown",
   "metadata": {},
   "source": [
    "Generemos la lista con los cinco vectores (aquí los subíndices\n",
    "comienzan con cero como es costumbre en python).\n",
    "\n"
   ]
  },
  {
   "cell_type": "code",
   "execution_count": 19,
   "metadata": {},
   "outputs": [
    {
     "data": {
      "text/plain": [
       "(u0, u1, w0, w1, w2)"
      ]
     },
     "execution_count": 19,
     "metadata": {},
     "output_type": "execute_result"
    }
   ],
   "source": [
    "R1=symbols('u:2')\n",
    "R2=symbols('w:3')\n",
    "lista=R1+R2\n",
    "lista"
   ]
  },
  {
   "cell_type": "markdown",
   "metadata": {},
   "source": [
    "El productorio aspa entre la lista `R1` y `R2` nos da el conjunto de\n",
    "todos pares posibles $(\\Vect[i]{u},\\Vect[j]{w})$ con $i=0:1$ y $j=0:2$\n",
    "\n"
   ]
  },
  {
   "cell_type": "code",
   "execution_count": 20,
   "metadata": {},
   "outputs": [
    {
     "data": {
      "text/plain": [
       "[(u0, w0), (u0, w1), (u0, w2), (u1, w0), (u1, w1), (u1, w2)]"
      ]
     },
     "execution_count": 20,
     "metadata": {},
     "output_type": "execute_result"
    }
   ],
   "source": [
    "B = [x for x in aspa((R1,R2)) ]\n",
    "B"
   ]
  },
  {
   "cell_type": "markdown",
   "metadata": {},
   "source": [
    "Enumerando los pares y indicando si cada uno de los vectores está o no\n",
    "en el par enumerado, construimos los vectores versión *estrella* de la\n",
    "demo (aquí se ha seguido la numeración consecutiva de todos los pares,\n",
    "y por eso obtenemos unos vectores estrella diferentes de los del\n",
    "libro). Así la primera columna es $\\Vect[0]{u}^*$, la segunda\n",
    "$\\Vect[1]{u}^*$, la tercera $\\Vect[0]{w}^*$, la cuarta\n",
    "$\\Vect[1]{w}^*$ y la quinta $\\Vect[2]{w}^*$\n",
    "\n"
   ]
  },
  {
   "cell_type": "code",
   "execution_count": 21,
   "metadata": {},
   "outputs": [
    {
     "data": {
      "image/png": "[encoded data removed]",
      "text/html": [
       "<p style=\"text-align:center;\">$\\left[ \\begin{array}{cc|ccc}1&0&1&0&0\\\\1&0&0&1&0\\\\1&0&0&0&1\\\\0&1&1&0&0\\\\0&1&0&1&0\\\\0&1&0&0&1\\\\ \\end{array} \\right]$</p>"
      ],
      "text/latex": [
       "$\\left[ \\begin{array}{cc|ccc}1&0&1&0&0\\\\1&0&0&1&0\\\\1&0&0&0&1\\\\0&1&1&0&0\\\\0&1&0&1&0\\\\0&1&0&0&1\\\\ \\end{array} \\right]$"
      ],
      "text/plain": [
       "Matrix([Vector([1, 1, 1, 0, 0, 0]), Vector([0, 0, 0, 1, 1, 1]), Vector([1, 0, 0, 1, 0, 0]), Vector([0, 1, 0, 0, 1, 0]), Vector([0, 0, 1, 0, 0, 1])])"
      ]
     },
     "execution_count": 21,
     "metadata": {},
     "output_type": "execute_result"
    }
   ],
   "source": [
    "M = Matrix([ [ int(i in w) for i in lista ] for w in B]).ccol({len(R1),len(R1+R2)})\n",
    "M"
   ]
  },
  {
   "cell_type": "markdown",
   "metadata": {},
   "source": [
    "Así pues, las dos primeras columnas son la base canónica del\n",
    "subespacio probabilizable $\\mathcal{R}_1^*$ isomorfo a $\\mathcal{R}_1$\n",
    "y las tres últimas columnas son la base canónica del subespacio\n",
    "probabilizable $\\mathcal{R}_2^*$ isomorfo a $\\mathcal{R}_2$. \n",
    "\n",
    "Obtenemos la envolvente probabilizable de ambos espacios con todos los\n",
    "productos de Hadamard entre los vectores indicatrices de ambas bases.\n",
    "\n"
   ]
  },
  {
   "cell_type": "code",
   "execution_count": 22,
   "metadata": {},
   "outputs": [],
   "source": [
    "prodH     = lambda u,w: Vector([u[i]*w[i] for i in range(u.n)])\n",
    "productoH = lambda x,n: V1(n) if not x else prodH(x[0], productoH(x[1:], n) )"
   ]
  },
  {
   "cell_type": "code",
   "execution_count": 23,
   "metadata": {},
   "outputs": [
    {
     "data": {
      "image/png": "[encoded data removed]",
      "text/html": [
       "<p style=\"text-align:center;\">$\\begin{bmatrix}\\begin{pmatrix}1\\\\ 0\\\\ 0\\\\ 0\\\\ 0\\\\ 0\\end{pmatrix};& \\begin{pmatrix}0\\\\ 1\\\\ 0\\\\ 0\\\\ 0\\\\ 0\\end{pmatrix};& \\begin{pmatrix}0\\\\ 0\\\\ 1\\\\ 0\\\\ 0\\\\ 0\\end{pmatrix};& \\begin{pmatrix}0\\\\ 0\\\\ 0\\\\ 1\\\\ 0\\\\ 0\\end{pmatrix};& \\begin{pmatrix}0\\\\ 0\\\\ 0\\\\ 0\\\\ 1\\\\ 0\\end{pmatrix};& \\begin{pmatrix}0\\\\ 0\\\\ 0\\\\ 0\\\\ 0\\\\ 1\\end{pmatrix};\\end{bmatrix}$</p>"
      ],
      "text/latex": [
       "$\\begin{bmatrix}\\begin{pmatrix}1\\\\ 0\\\\ 0\\\\ 0\\\\ 0\\\\ 0\\end{pmatrix};& \\begin{pmatrix}0\\\\ 1\\\\ 0\\\\ 0\\\\ 0\\\\ 0\\end{pmatrix};& \\begin{pmatrix}0\\\\ 0\\\\ 1\\\\ 0\\\\ 0\\\\ 0\\end{pmatrix};& \\begin{pmatrix}0\\\\ 0\\\\ 0\\\\ 1\\\\ 0\\\\ 0\\end{pmatrix};& \\begin{pmatrix}0\\\\ 0\\\\ 0\\\\ 0\\\\ 1\\\\ 0\\end{pmatrix};& \\begin{pmatrix}0\\\\ 0\\\\ 0\\\\ 0\\\\ 0\\\\ 1\\end{pmatrix};\\end{bmatrix}$"
      ],
      "text/plain": [
       "Sistema([Vector([1, 0, 0, 0, 0, 0]); Vector([0, 1, 0, 0, 0, 0]); Vector([0, 0, 1, 0, 0, 0]); Vector([0, 0, 0, 1, 0, 0]); Vector([0, 0, 0, 0, 1, 0]); Vector([0, 0, 0, 0, 0, 1]);])"
      ]
     },
     "execution_count": 23,
     "metadata": {},
     "output_type": "execute_result"
    }
   ],
   "source": [
    "n = M.m\n",
    "Q = [x for x in aspa([M[:2],M[2:]]) ]\n",
    "baseC = Sistema([v for v in [productoH(s,n) for s in Q] if v.no_es_nulo()])\n",
    "baseC"
   ]
  },
  {
   "cell_type": "markdown",
   "metadata": {},
   "source": [
    "En este caso la base canónica de la envolvente son las columnas de la\n",
    "matriz identidad de orden 6.\n",
    "\n"
   ]
  },
  {
   "cell_type": "markdown",
   "metadata": {},
   "source": [
    "## Lanzamiento de $m$ monedas\n",
    "\n"
   ]
  },
  {
   "cell_type": "markdown",
   "metadata": {},
   "source": [
    "Para generar variables simbólicas con doble subíndice usaré el siguiente módulo\n",
    "\n"
   ]
  },
  {
   "cell_type": "code",
   "execution_count": 24,
   "metadata": {},
   "outputs": [],
   "source": [
    "from sympy import Symbol"
   ]
  },
  {
   "cell_type": "markdown",
   "metadata": {},
   "source": [
    "En el lanzamiento de una moneda hay dos `lados` posibles en cada\n",
    "lanzamiento (cara o cruz). También especificamos el número de\n",
    "lanzamientos, `rep` (*poner más de 14 lanzamientos empieza a ser\n",
    "demasiado*)\n",
    "\n"
   ]
  },
  {
   "cell_type": "code",
   "execution_count": 25,
   "metadata": {},
   "outputs": [],
   "source": [
    "lados = 2\n",
    "rep   = 4 # 14"
   ]
  },
  {
   "cell_type": "markdown",
   "metadata": {},
   "source": [
    "La siguiente función auxiliar genera una tupla con los elementos en\n",
    "las tuplas de una lista de tuplas\n",
    "\n"
   ]
  },
  {
   "cell_type": "code",
   "execution_count": 26,
   "metadata": {},
   "outputs": [],
   "source": [
    "listaElementos = lambda x: () if not x else x[0] + listaElementos(x[1:])"
   ]
  },
  {
   "cell_type": "markdown",
   "metadata": {},
   "source": [
    "Generamos una lista `A` de pares. El primer par corresponde al primer\n",
    "lanzamiento, el segundo par al segundo, etc. En cada par, la primera\n",
    "variable corresponde al resultado cara y la segunda al resultado\n",
    "cruz. Por tanto el primer subíndice de cada variable simbólica indica\n",
    "el número de lanzamiento, el segundo subíndice indica cara (0) o cruz\n",
    "(1).\n",
    "\n"
   ]
  },
  {
   "cell_type": "code",
   "execution_count": 27,
   "metadata": {},
   "outputs": [
    {
     "data": {
      "text/plain": [
       "[(u_00, u_01), (u_10, u_11), (u_20, u_21), (u_30, u_31)]"
      ]
     },
     "execution_count": 27,
     "metadata": {},
     "output_type": "execute_result"
    }
   ],
   "source": [
    "A = [tuple(Symbol(f'u_{i}{j}' ) for j in range(lados)) for i in range(rep) ]\n",
    "A"
   ]
  },
  {
   "cell_type": "markdown",
   "metadata": {},
   "source": [
    "### Repetición de los pasos del ejemplo de la demostración correspondiente a la sección anterior\n",
    "\n"
   ]
  },
  {
   "cell_type": "markdown",
   "metadata": {},
   "source": [
    "`B` es una lista con el conjunto de las *n*-tuplas (donde *n* es el\n",
    "número de lanzamientos) con todos los resultados posibles.\n",
    "\n",
    "<u>¡Ojo! Esta lista crece mucho con el número de lanzamientos `rep`; es\n",
    "mejor no pedir que se muestre el resultado en pantalla</u> (salvo cuando\n",
    "`rep` es un número reducido, por ejemplo, 3 o menos)\n",
    "\n"
   ]
  },
  {
   "cell_type": "code",
   "execution_count": 28,
   "metadata": {},
   "outputs": [
    {
     "name": "stdout",
     "output_type": "stream",
     "text": [
      "[(u_00, u_10, u_20, u_30), (u_00, u_10, u_20, u_31), (u_00, u_10, u_21, u_30), (u_00, u_10, u_21, u_31), (u_00, u_11, u_20, u_30), (u_00, u_11, u_20, u_31), (u_00, u_11, u_21, u_30), (u_00, u_11, u_21, u_31), (u_01, u_10, u_20, u_30), (u_01, u_10, u_20, u_31), (u_01, u_10, u_21, u_30), (u_01, u_10, u_21, u_31), (u_01, u_11, u_20, u_30), (u_01, u_11, u_20, u_31), (u_01, u_11, u_21, u_30), (u_01, u_11, u_21, u_31)]\n"
     ]
    }
   ],
   "source": [
    "B = [x for x in aspa(A) ]\n",
    "if rep<=4: print(B)"
   ]
  },
  {
   "cell_type": "markdown",
   "metadata": {},
   "source": [
    "#### Construcción del subespacio probabilizable envolvente $\\mathcal{E}$\n",
    "\n"
   ]
  },
  {
   "cell_type": "markdown",
   "metadata": {},
   "source": [
    "<u>¡De nuevo esta matriz crece mucho con el número de lanzamientos\n",
    "`rep`! Es mejor no pedir que se muestre el resultado en pantalla</u> si\n",
    "`rep` es mayor que 4.\n",
    "\n",
    "Las columnas de las submatrices de $\\mathcal{E}$ son las bases\n",
    "canónicas de cada una de las réplicas $\\mathcal{R^*_j}$ del espacio\n",
    "probabilizable $\\mathcal{R}$ original correspondiente al lanzamiento\n",
    "de una moneda.\n",
    "\n"
   ]
  },
  {
   "cell_type": "code",
   "execution_count": 29,
   "metadata": {},
   "outputs": [
    {
     "data": {
      "image/png": "[encoded data removed]",
      "text/html": [
       "<p style=\"text-align:center;\">$\\left[ \\begin{array}{cc|cc|cc|cc}1&0&1&0&1&0&1&0\\\\1&0&1&0&1&0&0&1\\\\1&0&1&0&0&1&1&0\\\\1&0&1&0&0&1&0&1\\\\1&0&0&1&1&0&1&0\\\\1&0&0&1&1&0&0&1\\\\1&0&0&1&0&1&1&0\\\\1&0&0&1&0&1&0&1\\\\0&1&1&0&1&0&1&0\\\\0&1&1&0&1&0&0&1\\\\0&1&1&0&0&1&1&0\\\\0&1&1&0&0&1&0&1\\\\0&1&0&1&1&0&1&0\\\\0&1&0&1&1&0&0&1\\\\0&1&0&1&0&1&1&0\\\\0&1&0&1&0&1&0&1\\\\ \\end{array} \\right]$</p>"
      ],
      "text/latex": [
       "$\\left[ \\begin{array}{cc|cc|cc|cc}1&0&1&0&1&0&1&0\\\\1&0&1&0&1&0&0&1\\\\1&0&1&0&0&1&1&0\\\\1&0&1&0&0&1&0&1\\\\1&0&0&1&1&0&1&0\\\\1&0&0&1&1&0&0&1\\\\1&0&0&1&0&1&1&0\\\\1&0&0&1&0&1&0&1\\\\0&1&1&0&1&0&1&0\\\\0&1&1&0&1&0&0&1\\\\0&1&1&0&0&1&1&0\\\\0&1&1&0&0&1&0&1\\\\0&1&0&1&1&0&1&0\\\\0&1&0&1&1&0&0&1\\\\0&1&0&1&0&1&1&0\\\\0&1&0&1&0&1&0&1\\\\ \\end{array} \\right]$"
      ],
      "text/plain": [
       "Matrix([Vector([1, 1, 1, 1, 1, 1, 1, 1, 0, 0, 0, 0, 0, 0, 0, 0]), Vector([0, 0, 0, 0, 0, 0, 0, 0, 1, 1, 1, 1, 1, 1, 1, 1]), Vector([1, 1, 1, 1, 0, 0, 0, 0, 1, 1, 1, 1, 0, 0, 0, 0]), Vector([0, 0, 0, 0, 1, 1, 1, 1, 0, 0, 0, 0, 1, 1, 1, 1]), Vector([1, 1, 0, 0, 1, 1, 0, 0, 1, 1, 0, 0, 1, 1, 0, 0]), Vector([0, 0, 1, 1, 0, 0, 1, 1, 0, 0, 1, 1, 0, 0, 1, 1]), Vector([1, 0, 1, 0, 1, 0, 1, 0, 1, 0, 1, 0, 1, 0, 1, 0]), Vector([0, 1, 0, 1, 0, 1, 0, 1, 0, 1, 0, 1, 0, 1, 0, 1])])"
      ]
     },
     "metadata": {},
     "output_type": "display_data"
    }
   ],
   "source": [
    "E = Matrix([ [ int(i in w) for i in listaElementos(A) ] for w in B]).ccol({2,4,6})\n",
    "if rep<=4: display(E)"
   ]
  },
  {
   "cell_type": "markdown",
   "metadata": {},
   "source": [
    "El número de filas de esta matriz corresponde al número de posibles\n",
    "resultados al lanzar `rep` veces una moneda:\n",
    "\n"
   ]
  },
  {
   "cell_type": "code",
   "execution_count": 30,
   "metadata": {},
   "outputs": [
    {
     "name": "stdout",
     "output_type": "stream",
     "text": [
      "Number of possible outcomes:  16\n"
     ]
    }
   ],
   "source": [
    "print('Number of possible outcomes: ', E.m)"
   ]
  },
  {
   "cell_type": "markdown",
   "metadata": {},
   "source": [
    "#### Construcción del espacio muestral para el lanzamiento de *m* monedas.\n",
    "\n"
   ]
  },
  {
   "cell_type": "markdown",
   "metadata": {},
   "source": [
    "Para construir el espacio muestral para el lanzamiento de *m* monedas,\n",
    "en lugar de las bases canónicas estrella, necesitamos *m* embriones\n",
    "(variables aleatorias) correspondientes a los espacios probabilizables\n",
    "$\\mathcal{R^*_j}$\n",
    "\n",
    "Las columnas de la siguiente matriz son embriones de cada una de las\n",
    "réplicas $\\mathcal{R^*_j}$ del espacio probabilizable $\\mathcal{R}$\n",
    "original correspondiente al lanzamiento de una moneda.\n",
    "\n"
   ]
  },
  {
   "cell_type": "code",
   "execution_count": 31,
   "metadata": {},
   "outputs": [
    {
     "data": {
      "image/png": "[encoded data removed]",
      "text/html": [
       "<p style=\"text-align:center;\">$\\left[ \\begin{array}{cccc}1&1&1&1\\\\1&1&1&2\\\\1&1&2&1\\\\1&1&2&2\\\\1&2&1&1\\\\1&2&1&2\\\\1&2&2&1\\\\1&2&2&2\\\\2&1&1&1\\\\2&1&1&2\\\\2&1&2&1\\\\2&1&2&2\\\\2&2&1&1\\\\2&2&1&2\\\\2&2&2&1\\\\2&2&2&2\\\\ \\end{array} \\right]$</p>"
      ],
      "text/latex": [
       "$\\left[ \\begin{array}{cccc}1&1&1&1\\\\1&1&1&2\\\\1&1&2&1\\\\1&1&2&2\\\\1&2&1&1\\\\1&2&1&2\\\\1&2&2&1\\\\1&2&2&2\\\\2&1&1&1\\\\2&1&1&2\\\\2&1&2&1\\\\2&1&2&2\\\\2&2&1&1\\\\2&2&1&2\\\\2&2&2&1\\\\2&2&2&2\\\\ \\end{array} \\right]$"
      ],
      "text/plain": [
       "Matrix([Vector([1, 1, 1, 1, 1, 1, 1, 1, 2, 2, 2, 2, 2, 2, 2, 2]), Vector([1, 1, 1, 1, 2, 2, 2, 2, 1, 1, 1, 1, 2, 2, 2, 2]), Vector([1, 1, 2, 2, 1, 1, 2, 2, 1, 1, 2, 2, 1, 1, 2, 2]), Vector([1, 2, 1, 2, 1, 2, 1, 2, 1, 2, 1, 2, 1, 2, 1, 2])])"
      ]
     },
     "metadata": {},
     "output_type": "display_data"
    }
   ],
   "source": [
    "SampleSp = Matrix([SubEspacioProb(Matrix(E[i*lados:(i+1)*lados])).embrion for i in range(rep)])\n",
    "if rep<=4  and lados<=3: display(SampleSp)"
   ]
  },
  {
   "cell_type": "markdown",
   "metadata": {},
   "source": [
    "El conjunto de las filas de la matriz anterior es el espacio\n",
    "muestral. En cada fila, un `1` corresponde al caso \"*la moneda muestra\n",
    "cara*\" (H) y un `2` corresponde al caso \"*la moneda muestra cruz*\"\n",
    "(T). Por tanto, las filas de la matriz anterior muestran todos los\n",
    "resultados posibles al lanzar una moneda `rep` veces, donde `rep` es\n",
    "el número de columnas, es decir de variables aleatorias (donde cada\n",
    "una de ellas corresponde a un lanzamiento).\n",
    "\n"
   ]
  },
  {
   "cell_type": "markdown",
   "metadata": {},
   "source": [
    "#### Experimento\n",
    "\n"
   ]
  },
  {
   "cell_type": "markdown",
   "metadata": {},
   "source": [
    "Así, \"*realizar*\" el experimento consiste en evaluar las variables\n",
    "aleatorias de la matriz anterior (las columnas) en un mismo elemento\n",
    "$n$ de su dominio $\\Omega$ (se suele denominar a dicho elemento\n",
    "*suceso elemental*); es decir, consiste en mirar la componente\n",
    "$n$-ésima de los `rep` embriones, o lo que es lo mismo, en elegir\n",
    "\"una\" fila de la matriz.\n",
    "\n",
    "El azar consiste en que no sabemos en que punto del dominio se\n",
    "evaluarán las variables aleatorias. Para simular dicha circunstancia\n",
    "usaremos el modulo `random` para escoger una fila al azar.\n",
    "\n"
   ]
  },
  {
   "cell_type": "code",
   "execution_count": 32,
   "metadata": {},
   "outputs": [],
   "source": [
    "import random"
   ]
  },
  {
   "cell_type": "code",
   "execution_count": 33,
   "metadata": {},
   "outputs": [
    {
     "name": "stdout",
     "output_type": "stream",
     "text": [
      "0\n"
     ]
    },
    {
     "data": {
      "image/png": "[encoded data removed]",
      "text/html": [
       "<p style=\"text-align:center;\">$\\begin{pmatrix}2,& 2,& 2,& 2,\\end{pmatrix}$</p>"
      ],
      "text/latex": [
       "$\\begin{pmatrix}2,& 2,& 2,& 2,\\end{pmatrix}$"
      ],
      "text/plain": [
       "Vector([2, 2, 2, 2])"
      ]
     },
     "execution_count": 33,
     "metadata": {},
     "output_type": "execute_result"
    }
   ],
   "source": [
    "trial   = random.choice(range(SampleSp.m))\n",
    "outcome = trial|SampleSp\n",
    "print(trial)\n",
    "outcome"
   ]
  },
  {
   "cell_type": "code",
   "execution_count": 34,
   "metadata": {},
   "outputs": [
    {
     "name": "stdout",
     "output_type": "stream",
     "text": [
      "number of heads:  0\n"
     ]
    }
   ],
   "source": [
    "print('number of heads: ', sum([int(e==1) for e in outcome]) )"
   ]
  },
  {
   "cell_type": "code",
   "execution_count": 35,
   "metadata": {},
   "outputs": [
    {
     "name": "stdout",
     "output_type": "stream",
     "text": [
      "number of tails:  4\n"
     ]
    }
   ],
   "source": [
    "print('number of tails: ', sum([int(e==2) for e in trial|SampleSp]) )"
   ]
  },
  {
   "cell_type": "markdown",
   "metadata": {},
   "source": [
    "##### Frecuencia de los posibles resultados\n",
    "\n"
   ]
  },
  {
   "cell_type": "markdown",
   "metadata": {},
   "source": [
    "Podemos contar el número de caras en cada uno de los posibles\n",
    "resultados\n",
    "\n"
   ]
  },
  {
   "cell_type": "code",
   "execution_count": 36,
   "metadata": {},
   "outputs": [
    {
     "data": {
      "text/plain": [
       "[4, 3, 3, 2, 3, 2, 2, 1, 3, 2, 2, 1, 2, 1, 1, 0]"
      ]
     },
     "execution_count": 36,
     "metadata": {},
     "output_type": "execute_result"
    }
   ],
   "source": [
    "res = [sum([int(e==1) for e in r]) for r in (~SampleSp).lista]\n",
    "res"
   ]
  },
  {
   "cell_type": "markdown",
   "metadata": {},
   "source": [
    "Podemos mirar la frecuencia contando el número de veces que aparece\n",
    "cada lado en cada caso.\n",
    "\n"
   ]
  },
  {
   "cell_type": "code",
   "execution_count": 37,
   "metadata": {},
   "outputs": [],
   "source": [
    "def count_elements(seq) -> dict:\n",
    "    \"\"\"Tally elements from `seq`.\"\"\"\n",
    "    hist = {}\n",
    "    for i in seq:\n",
    "        hist[i] = hist.get(i, 0) + 1\n",
    "    return hist"
   ]
  },
  {
   "cell_type": "code",
   "execution_count": 38,
   "metadata": {},
   "outputs": [
    {
     "data": {
      "text/plain": [
       "{4: 1, 3: 4, 2: 6, 1: 4, 0: 1}"
      ]
     },
     "execution_count": 38,
     "metadata": {},
     "output_type": "execute_result"
    }
   ],
   "source": [
    "count_elements(res)"
   ]
  },
  {
   "cell_type": "markdown",
   "metadata": {},
   "source": [
    "O con un histograma\n",
    "\n"
   ]
  },
  {
   "cell_type": "code",
   "execution_count": 39,
   "metadata": {},
   "outputs": [
    {
     "data": {
      "text/plain": [
       "(0.0, 10.0)"
      ]
     },
     "execution_count": 39,
     "metadata": {},
     "output_type": "execute_result"
    },
    {
     "data": {
      "image/png": "[encoded data removed]",
      "text/plain": [
       "<Figure size 432x288 with 1 Axes>"
      ]
     },
     "metadata": {
      "needs_background": "light"
     },
     "output_type": "display_data"
    }
   ],
   "source": [
    "import numpy as np\n",
    "import matplotlib.pyplot as plt\n",
    "\n",
    "# An \"interface\" to matplotlib.axes.Axes.hist() method\n",
    "n, bins, patches = plt.hist(x=res, bins='auto', color='#0504aa',\n",
    "                            alpha=0.7, rwidth=0.85)\n",
    "plt.grid(axis='y', alpha=0.75)\n",
    "plt.xlabel('Number of heads')\n",
    "plt.ylabel('Frequency')\n",
    "plt.title('Histogram of possible number of heads')\n",
    "#plt.text(23, 45, r'$\\mu=15, b=3$')\n",
    "maxfreq = n.max()\n",
    "# Set a clean upper y-axis limit.\n",
    "plt.ylim(ymax=np.ceil(maxfreq / 10) * 10 if maxfreq % 10 else maxfreq + 10)"
   ]
  },
  {
   "cell_type": "markdown",
   "metadata": {},
   "source": [
    "Este histograma de frecuencias nada tiene que ver con la probabilidad\n",
    "de cada resultado (salvo si la moneda es justa y dividimos cada\n",
    "frecuencia absoluta del histograma por el número de casos).\n",
    "\n",
    "Para reflejar la probabilidad es necesario emplear el espacio euclídeo\n",
    "de probabilidad, es decir, al espacio probabilizable hay que definir\n",
    "una función esperanza. Lo podemos hacer incorporando una función de\n",
    "masa de probabilidad, para los distintos valores de la variable\n",
    "aleatoria embrión, o alternativamente asignando una probabilidad a\n",
    "cada vector de la base canónica. \n",
    "\n",
    "Por cuestiones didácticas implementaremos ambas vías.\n",
    "\n"
   ]
  },
  {
   "cell_type": "markdown",
   "metadata": {},
   "source": [
    "## Lanzamiento de $m$ dados con $k$ lados\n",
    "\n"
   ]
  },
  {
   "cell_type": "markdown",
   "metadata": {},
   "source": [
    "Indicamos el numero de `lados` y el número de lanzamientos, `rep`\n",
    "(*ambos números deben ser pequeños o tendremos problemas con la\n",
    "memoria del ordenador*)\n",
    "\n"
   ]
  },
  {
   "cell_type": "code",
   "execution_count": 40,
   "metadata": {},
   "outputs": [],
   "source": [
    "lados = 3\n",
    "rep   = 4 # ó 5 (con 3 lados y 6 repeticiones ya tarda mucho)"
   ]
  },
  {
   "cell_type": "markdown",
   "metadata": {},
   "source": [
    "Generamos una lista `A` de $k$-tuplas. La primera corresponde al\n",
    "primer lanzamiento, la segunda par al segundo, etc. En cada $k$-tupla,\n",
    "la primera variable corresponde al resultado primera cara y la segunda\n",
    "al resultado segunda cara, etc. Por tanto el primer subíndice de cada\n",
    "variable simbólica indica el número de lanzamiento, el segundo\n",
    "subíndice indica el lado mostrado por el dado.\n",
    "\n"
   ]
  },
  {
   "cell_type": "code",
   "execution_count": 41,
   "metadata": {},
   "outputs": [
    {
     "data": {
      "text/plain": [
       "[(u_00, u_01, u_02),\n",
       " (u_10, u_11, u_12),\n",
       " (u_20, u_21, u_22),\n",
       " (u_30, u_31, u_32)]"
      ]
     },
     "execution_count": 41,
     "metadata": {},
     "output_type": "execute_result"
    }
   ],
   "source": [
    "A = [tuple(Symbol(f'u_{i}{j}' ) for j in range(lados)) for i in range(rep) ]\n",
    "A"
   ]
  },
  {
   "cell_type": "markdown",
   "metadata": {},
   "source": [
    "### Repetición de los pasos del ejemplo de la demostración correspondiente a la sección anterior\n",
    "\n"
   ]
  },
  {
   "cell_type": "markdown",
   "metadata": {},
   "source": [
    "`B` es una lista con el conjunto de las *n*-tuplas (donde *n* es el\n",
    "número de lanzamientos) con todos los resultados posibles.\n",
    "\n",
    "<u>¡Ojo! Esta lista crece mucho con el número de lanzamientos `rep`; es\n",
    "mejor no pedir que se muestre el resultado en pantalla</u> (salvo cuando\n",
    "`rep` es un número reducido, por ejemplo, 3 o menos)\n",
    "\n"
   ]
  },
  {
   "cell_type": "code",
   "execution_count": 42,
   "metadata": {},
   "outputs": [
    {
     "name": "stdout",
     "output_type": "stream",
     "text": [
      "[(u_00, u_10, u_20, u_30), (u_00, u_10, u_20, u_31), (u_00, u_10, u_20, u_32), (u_00, u_10, u_21, u_30), (u_00, u_10, u_21, u_31), (u_00, u_10, u_21, u_32), (u_00, u_10, u_22, u_30), (u_00, u_10, u_22, u_31), (u_00, u_10, u_22, u_32), (u_00, u_11, u_20, u_30), (u_00, u_11, u_20, u_31), (u_00, u_11, u_20, u_32), (u_00, u_11, u_21, u_30), (u_00, u_11, u_21, u_31), (u_00, u_11, u_21, u_32), (u_00, u_11, u_22, u_30), (u_00, u_11, u_22, u_31), (u_00, u_11, u_22, u_32), (u_00, u_12, u_20, u_30), (u_00, u_12, u_20, u_31), (u_00, u_12, u_20, u_32), (u_00, u_12, u_21, u_30), (u_00, u_12, u_21, u_31), (u_00, u_12, u_21, u_32), (u_00, u_12, u_22, u_30), (u_00, u_12, u_22, u_31), (u_00, u_12, u_22, u_32), (u_01, u_10, u_20, u_30), (u_01, u_10, u_20, u_31), (u_01, u_10, u_20, u_32), (u_01, u_10, u_21, u_30), (u_01, u_10, u_21, u_31), (u_01, u_10, u_21, u_32), (u_01, u_10, u_22, u_30), (u_01, u_10, u_22, u_31), (u_01, u_10, u_22, u_32), (u_01, u_11, u_20, u_30), (u_01, u_11, u_20, u_31), (u_01, u_11, u_20, u_32), (u_01, u_11, u_21, u_30), (u_01, u_11, u_21, u_31), (u_01, u_11, u_21, u_32), (u_01, u_11, u_22, u_30), (u_01, u_11, u_22, u_31), (u_01, u_11, u_22, u_32), (u_01, u_12, u_20, u_30), (u_01, u_12, u_20, u_31), (u_01, u_12, u_20, u_32), (u_01, u_12, u_21, u_30), (u_01, u_12, u_21, u_31), (u_01, u_12, u_21, u_32), (u_01, u_12, u_22, u_30), (u_01, u_12, u_22, u_31), (u_01, u_12, u_22, u_32), (u_02, u_10, u_20, u_30), (u_02, u_10, u_20, u_31), (u_02, u_10, u_20, u_32), (u_02, u_10, u_21, u_30), (u_02, u_10, u_21, u_31), (u_02, u_10, u_21, u_32), (u_02, u_10, u_22, u_30), (u_02, u_10, u_22, u_31), (u_02, u_10, u_22, u_32), (u_02, u_11, u_20, u_30), (u_02, u_11, u_20, u_31), (u_02, u_11, u_20, u_32), (u_02, u_11, u_21, u_30), (u_02, u_11, u_21, u_31), (u_02, u_11, u_21, u_32), (u_02, u_11, u_22, u_30), (u_02, u_11, u_22, u_31), (u_02, u_11, u_22, u_32), (u_02, u_12, u_20, u_30), (u_02, u_12, u_20, u_31), (u_02, u_12, u_20, u_32), (u_02, u_12, u_21, u_30), (u_02, u_12, u_21, u_31), (u_02, u_12, u_21, u_32), (u_02, u_12, u_22, u_30), (u_02, u_12, u_22, u_31), (u_02, u_12, u_22, u_32)]\n"
     ]
    }
   ],
   "source": [
    "B = [x for x in aspa(A) ]\n",
    "if rep<=4 and lados<=3: print(B)"
   ]
  },
  {
   "cell_type": "markdown",
   "metadata": {},
   "source": [
    "#### Construcción del subespacio probabilizable envolvente $\\mathcal{E}$\n",
    "\n"
   ]
  },
  {
   "cell_type": "markdown",
   "metadata": {},
   "source": [
    "\\_¡De nuevo esta matriz crece mucho con el número de lanzamientos `rep`\n",
    "y el número de lados (`lados`)! Es mejor no pedir que se muestre el\n",
    "resultado en pantalla\\_ si `rep` es mayor que 4.\n",
    "\n",
    "Las columnas de las submatrices de $\\mathcal{E}$ son las bases\n",
    "canónicas de cada una de las réplicas $\\mathcal{R^*_j}$ del espacio\n",
    "probabilizable $\\mathcal{R}$ original correspondiente al lanzamiento\n",
    "de una moneda.\n",
    "\n"
   ]
  },
  {
   "cell_type": "code",
   "execution_count": 43,
   "metadata": {},
   "outputs": [
    {
     "data": {
      "image/png": "[encoded data removed]",
      "text/html": [
       "<p style=\"text-align:center;\">$\\left[ \\begin{array}{ccc|ccc|ccc|ccc}1&0&0&1&0&0&1&0&0&1&0&0\\\\1&0&0&1&0&0&1&0&0&0&1&0\\\\1&0&0&1&0&0&1&0&0&0&0&1\\\\1&0&0&1&0&0&0&1&0&1&0&0\\\\1&0&0&1&0&0&0&1&0&0&1&0\\\\1&0&0&1&0&0&0&1&0&0&0&1\\\\1&0&0&1&0&0&0&0&1&1&0&0\\\\1&0&0&1&0&0&0&0&1&0&1&0\\\\1&0&0&1&0&0&0&0&1&0&0&1\\\\1&0&0&0&1&0&1&0&0&1&0&0\\\\1&0&0&0&1&0&1&0&0&0&1&0\\\\1&0&0&0&1&0&1&0&0&0&0&1\\\\1&0&0&0&1&0&0&1&0&1&0&0\\\\1&0&0&0&1&0&0&1&0&0&1&0\\\\1&0&0&0&1&0&0&1&0&0&0&1\\\\1&0&0&0&1&0&0&0&1&1&0&0\\\\1&0&0&0&1&0&0&0&1&0&1&0\\\\1&0&0&0&1&0&0&0&1&0&0&1\\\\1&0&0&0&0&1&1&0&0&1&0&0\\\\1&0&0&0&0&1&1&0&0&0&1&0\\\\1&0&0&0&0&1&1&0&0&0&0&1\\\\1&0&0&0&0&1&0&1&0&1&0&0\\\\1&0&0&0&0&1&0&1&0&0&1&0\\\\1&0&0&0&0&1&0&1&0&0&0&1\\\\1&0&0&0&0&1&0&0&1&1&0&0\\\\1&0&0&0&0&1&0&0&1&0&1&0\\\\1&0&0&0&0&1&0&0&1&0&0&1\\\\0&1&0&1&0&0&1&0&0&1&0&0\\\\0&1&0&1&0&0&1&0&0&0&1&0\\\\0&1&0&1&0&0&1&0&0&0&0&1\\\\0&1&0&1&0&0&0&1&0&1&0&0\\\\0&1&0&1&0&0&0&1&0&0&1&0\\\\0&1&0&1&0&0&0&1&0&0&0&1\\\\0&1&0&1&0&0&0&0&1&1&0&0\\\\0&1&0&1&0&0&0&0&1&0&1&0\\\\0&1&0&1&0&0&0&0&1&0&0&1\\\\0&1&0&0&1&0&1&0&0&1&0&0\\\\0&1&0&0&1&0&1&0&0&0&1&0\\\\0&1&0&0&1&0&1&0&0&0&0&1\\\\0&1&0&0&1&0&0&1&0&1&0&0\\\\0&1&0&0&1&0&0&1&0&0&1&0\\\\0&1&0&0&1&0&0&1&0&0&0&1\\\\0&1&0&0&1&0&0&0&1&1&0&0\\\\0&1&0&0&1&0&0&0&1&0&1&0\\\\0&1&0&0&1&0&0&0&1&0&0&1\\\\0&1&0&0&0&1&1&0&0&1&0&0\\\\0&1&0&0&0&1&1&0&0&0&1&0\\\\0&1&0&0&0&1&1&0&0&0&0&1\\\\0&1&0&0&0&1&0&1&0&1&0&0\\\\0&1&0&0&0&1&0&1&0&0&1&0\\\\0&1&0&0&0&1&0&1&0&0&0&1\\\\0&1&0&0&0&1&0&0&1&1&0&0\\\\0&1&0&0&0&1&0&0&1&0&1&0\\\\0&1&0&0&0&1&0&0&1&0&0&1\\\\0&0&1&1&0&0&1&0&0&1&0&0\\\\0&0&1&1&0&0&1&0&0&0&1&0\\\\0&0&1&1&0&0&1&0&0&0&0&1\\\\0&0&1&1&0&0&0&1&0&1&0&0\\\\0&0&1&1&0&0&0&1&0&0&1&0\\\\0&0&1&1&0&0&0&1&0&0&0&1\\\\0&0&1&1&0&0&0&0&1&1&0&0\\\\0&0&1&1&0&0&0&0&1&0&1&0\\\\0&0&1&1&0&0&0&0&1&0&0&1\\\\0&0&1&0&1&0&1&0&0&1&0&0\\\\0&0&1&0&1&0&1&0&0&0&1&0\\\\0&0&1&0&1&0&1&0&0&0&0&1\\\\0&0&1&0&1&0&0&1&0&1&0&0\\\\0&0&1&0&1&0&0&1&0&0&1&0\\\\0&0&1&0&1&0&0&1&0&0&0&1\\\\0&0&1&0&1&0&0&0&1&1&0&0\\\\0&0&1&0&1&0&0&0&1&0&1&0\\\\0&0&1&0&1&0&0&0&1&0&0&1\\\\0&0&1&0&0&1&1&0&0&1&0&0\\\\0&0&1&0&0&1&1&0&0&0&1&0\\\\0&0&1&0&0&1&1&0&0&0&0&1\\\\0&0&1&0&0&1&0&1&0&1&0&0\\\\0&0&1&0&0&1&0&1&0&0&1&0\\\\0&0&1&0&0&1&0&1&0&0&0&1\\\\0&0&1&0&0&1&0&0&1&1&0&0\\\\0&0&1&0&0&1&0&0&1&0&1&0\\\\0&0&1&0&0&1&0&0&1&0&0&1\\\\ \\end{array} \\right]$</p>"
      ],
      "text/latex": [
       "$\\left[ \\begin{array}{ccc|ccc|ccc|ccc}1&0&0&1&0&0&1&0&0&1&0&0\\\\1&0&0&1&0&0&1&0&0&0&1&0\\\\1&0&0&1&0&0&1&0&0&0&0&1\\\\1&0&0&1&0&0&0&1&0&1&0&0\\\\1&0&0&1&0&0&0&1&0&0&1&0\\\\1&0&0&1&0&0&0&1&0&0&0&1\\\\1&0&0&1&0&0&0&0&1&1&0&0\\\\1&0&0&1&0&0&0&0&1&0&1&0\\\\1&0&0&1&0&0&0&0&1&0&0&1\\\\1&0&0&0&1&0&1&0&0&1&0&0\\\\1&0&0&0&1&0&1&0&0&0&1&0\\\\1&0&0&0&1&0&1&0&0&0&0&1\\\\1&0&0&0&1&0&0&1&0&1&0&0\\\\1&0&0&0&1&0&0&1&0&0&1&0\\\\1&0&0&0&1&0&0&1&0&0&0&1\\\\1&0&0&0&1&0&0&0&1&1&0&0\\\\1&0&0&0&1&0&0&0&1&0&1&0\\\\1&0&0&0&1&0&0&0&1&0&0&1\\\\1&0&0&0&0&1&1&0&0&1&0&0\\\\1&0&0&0&0&1&1&0&0&0&1&0\\\\1&0&0&0&0&1&1&0&0&0&0&1\\\\1&0&0&0&0&1&0&1&0&1&0&0\\\\1&0&0&0&0&1&0&1&0&0&1&0\\\\1&0&0&0&0&1&0&1&0&0&0&1\\\\1&0&0&0&0&1&0&0&1&1&0&0\\\\1&0&0&0&0&1&0&0&1&0&1&0\\\\1&0&0&0&0&1&0&0&1&0&0&1\\\\0&1&0&1&0&0&1&0&0&1&0&0\\\\0&1&0&1&0&0&1&0&0&0&1&0\\\\0&1&0&1&0&0&1&0&0&0&0&1\\\\0&1&0&1&0&0&0&1&0&1&0&0\\\\0&1&0&1&0&0&0&1&0&0&1&0\\\\0&1&0&1&0&0&0&1&0&0&0&1\\\\0&1&0&1&0&0&0&0&1&1&0&0\\\\0&1&0&1&0&0&0&0&1&0&1&0\\\\0&1&0&1&0&0&0&0&1&0&0&1\\\\0&1&0&0&1&0&1&0&0&1&0&0\\\\0&1&0&0&1&0&1&0&0&0&1&0\\\\0&1&0&0&1&0&1&0&0&0&0&1\\\\0&1&0&0&1&0&0&1&0&1&0&0\\\\0&1&0&0&1&0&0&1&0&0&1&0\\\\0&1&0&0&1&0&0&1&0&0&0&1\\\\0&1&0&0&1&0&0&0&1&1&0&0\\\\0&1&0&0&1&0&0&0&1&0&1&0\\\\0&1&0&0&1&0&0&0&1&0&0&1\\\\0&1&0&0&0&1&1&0&0&1&0&0\\\\0&1&0&0&0&1&1&0&0&0&1&0\\\\0&1&0&0&0&1&1&0&0&0&0&1\\\\0&1&0&0&0&1&0&1&0&1&0&0\\\\0&1&0&0&0&1&0&1&0&0&1&0\\\\0&1&0&0&0&1&0&1&0&0&0&1\\\\0&1&0&0&0&1&0&0&1&1&0&0\\\\0&1&0&0&0&1&0&0&1&0&1&0\\\\0&1&0&0&0&1&0&0&1&0&0&1\\\\0&0&1&1&0&0&1&0&0&1&0&0\\\\0&0&1&1&0&0&1&0&0&0&1&0\\\\0&0&1&1&0&0&1&0&0&0&0&1\\\\0&0&1&1&0&0&0&1&0&1&0&0\\\\0&0&1&1&0&0&0&1&0&0&1&0\\\\0&0&1&1&0&0&0&1&0&0&0&1\\\\0&0&1&1&0&0&0&0&1&1&0&0\\\\0&0&1&1&0&0&0&0&1&0&1&0\\\\0&0&1&1&0&0&0&0&1&0&0&1\\\\0&0&1&0&1&0&1&0&0&1&0&0\\\\0&0&1&0&1&0&1&0&0&0&1&0\\\\0&0&1&0&1&0&1&0&0&0&0&1\\\\0&0&1&0&1&0&0&1&0&1&0&0\\\\0&0&1&0&1&0&0&1&0&0&1&0\\\\0&0&1&0&1&0&0&1&0&0&0&1\\\\0&0&1&0&1&0&0&0&1&1&0&0\\\\0&0&1&0&1&0&0&0&1&0&1&0\\\\0&0&1&0&1&0&0&0&1&0&0&1\\\\0&0&1&0&0&1&1&0&0&1&0&0\\\\0&0&1&0&0&1&1&0&0&0&1&0\\\\0&0&1&0&0&1&1&0&0&0&0&1\\\\0&0&1&0&0&1&0&1&0&1&0&0\\\\0&0&1&0&0&1&0&1&0&0&1&0\\\\0&0&1&0&0&1&0&1&0&0&0&1\\\\0&0&1&0&0&1&0&0&1&1&0&0\\\\0&0&1&0&0&1&0&0&1&0&1&0\\\\0&0&1&0&0&1&0&0&1&0&0&1\\\\ \\end{array} \\right]$"
      ],
      "text/plain": [
       "Matrix([Vector([1, 1, 1, 1, 1, 1, 1, 1, 1, 1, 1, 1, 1, 1, 1, 1, 1, 1, 1, 1, 1, 1, 1, 1, 1, 1, 1, 0, 0, 0, 0, 0, 0, 0, 0, 0, 0, 0, 0, 0, 0, 0, 0, 0, 0, 0, 0, 0, 0, 0, 0, 0, 0, 0, 0, 0, 0, 0, 0, 0, 0, 0, 0, 0, 0, 0, 0, 0, 0, 0, 0, 0, 0, 0, 0, 0, 0, 0, 0, 0, 0]), Vector([0, 0, 0, 0, 0, 0, 0, 0, 0, 0, 0, 0, 0, 0, 0, 0, 0, 0, 0, 0, 0, 0, 0, 0, 0, 0, 0, 1, 1, 1, 1, 1, 1, 1, 1, 1, 1, 1, 1, 1, 1, 1, 1, 1, 1, 1, 1, 1, 1, 1, 1, 1, 1, 1, 0, 0, 0, 0, 0, 0, 0, 0, 0, 0, 0, 0, 0, 0, 0, 0, 0, 0, 0, 0, 0, 0, 0, 0, 0, 0, 0]), Vector([0, 0, 0, 0, 0, 0, 0, 0, 0, 0, 0, 0, 0, 0, 0, 0, 0, 0, 0, 0, 0, 0, 0, 0, 0, 0, 0, 0, 0, 0, 0, 0, 0, 0, 0, 0, 0, 0, 0, 0, 0, 0, 0, 0, 0, 0, 0, 0, 0, 0, 0, 0, 0, 0, 1, 1, 1, 1, 1, 1, 1, 1, 1, 1, 1, 1, 1, 1, 1, 1, 1, 1, 1, 1, 1, 1, 1, 1, 1, 1, 1]), Vector([1, 1, 1, 1, 1, 1, 1, 1, 1, 0, 0, 0, 0, 0, 0, 0, 0, 0, 0, 0, 0, 0, 0, 0, 0, 0, 0, 1, 1, 1, 1, 1, 1, 1, 1, 1, 0, 0, 0, 0, 0, 0, 0, 0, 0, 0, 0, 0, 0, 0, 0, 0, 0, 0, 1, 1, 1, 1, 1, 1, 1, 1, 1, 0, 0, 0, 0, 0, 0, 0, 0, 0, 0, 0, 0, 0, 0, 0, 0, 0, 0]), Vector([0, 0, 0, 0, 0, 0, 0, 0, 0, 1, 1, 1, 1, 1, 1, 1, 1, 1, 0, 0, 0, 0, 0, 0, 0, 0, 0, 0, 0, 0, 0, 0, 0, 0, 0, 0, 1, 1, 1, 1, 1, 1, 1, 1, 1, 0, 0, 0, 0, 0, 0, 0, 0, 0, 0, 0, 0, 0, 0, 0, 0, 0, 0, 1, 1, 1, 1, 1, 1, 1, 1, 1, 0, 0, 0, 0, 0, 0, 0, 0, 0]), Vector([0, 0, 0, 0, 0, 0, 0, 0, 0, 0, 0, 0, 0, 0, 0, 0, 0, 0, 1, 1, 1, 1, 1, 1, 1, 1, 1, 0, 0, 0, 0, 0, 0, 0, 0, 0, 0, 0, 0, 0, 0, 0, 0, 0, 0, 1, 1, 1, 1, 1, 1, 1, 1, 1, 0, 0, 0, 0, 0, 0, 0, 0, 0, 0, 0, 0, 0, 0, 0, 0, 0, 0, 1, 1, 1, 1, 1, 1, 1, 1, 1]), Vector([1, 1, 1, 0, 0, 0, 0, 0, 0, 1, 1, 1, 0, 0, 0, 0, 0, 0, 1, 1, 1, 0, 0, 0, 0, 0, 0, 1, 1, 1, 0, 0, 0, 0, 0, 0, 1, 1, 1, 0, 0, 0, 0, 0, 0, 1, 1, 1, 0, 0, 0, 0, 0, 0, 1, 1, 1, 0, 0, 0, 0, 0, 0, 1, 1, 1, 0, 0, 0, 0, 0, 0, 1, 1, 1, 0, 0, 0, 0, 0, 0]), Vector([0, 0, 0, 1, 1, 1, 0, 0, 0, 0, 0, 0, 1, 1, 1, 0, 0, 0, 0, 0, 0, 1, 1, 1, 0, 0, 0, 0, 0, 0, 1, 1, 1, 0, 0, 0, 0, 0, 0, 1, 1, 1, 0, 0, 0, 0, 0, 0, 1, 1, 1, 0, 0, 0, 0, 0, 0, 1, 1, 1, 0, 0, 0, 0, 0, 0, 1, 1, 1, 0, 0, 0, 0, 0, 0, 1, 1, 1, 0, 0, 0]), Vector([0, 0, 0, 0, 0, 0, 1, 1, 1, 0, 0, 0, 0, 0, 0, 1, 1, 1, 0, 0, 0, 0, 0, 0, 1, 1, 1, 0, 0, 0, 0, 0, 0, 1, 1, 1, 0, 0, 0, 0, 0, 0, 1, 1, 1, 0, 0, 0, 0, 0, 0, 1, 1, 1, 0, 0, 0, 0, 0, 0, 1, 1, 1, 0, 0, 0, 0, 0, 0, 1, 1, 1, 0, 0, 0, 0, 0, 0, 1, 1, 1]), Vector([1, 0, 0, 1, 0, 0, 1, 0, 0, 1, 0, 0, 1, 0, 0, 1, 0, 0, 1, 0, 0, 1, 0, 0, 1, 0, 0, 1, 0, 0, 1, 0, 0, 1, 0, 0, 1, 0, 0, 1, 0, 0, 1, 0, 0, 1, 0, 0, 1, 0, 0, 1, 0, 0, 1, 0, 0, 1, 0, 0, 1, 0, 0, 1, 0, 0, 1, 0, 0, 1, 0, 0, 1, 0, 0, 1, 0, 0, 1, 0, 0]), Vector([0, 1, 0, 0, 1, 0, 0, 1, 0, 0, 1, 0, 0, 1, 0, 0, 1, 0, 0, 1, 0, 0, 1, 0, 0, 1, 0, 0, 1, 0, 0, 1, 0, 0, 1, 0, 0, 1, 0, 0, 1, 0, 0, 1, 0, 0, 1, 0, 0, 1, 0, 0, 1, 0, 0, 1, 0, 0, 1, 0, 0, 1, 0, 0, 1, 0, 0, 1, 0, 0, 1, 0, 0, 1, 0, 0, 1, 0, 0, 1, 0]), Vector([0, 0, 1, 0, 0, 1, 0, 0, 1, 0, 0, 1, 0, 0, 1, 0, 0, 1, 0, 0, 1, 0, 0, 1, 0, 0, 1, 0, 0, 1, 0, 0, 1, 0, 0, 1, 0, 0, 1, 0, 0, 1, 0, 0, 1, 0, 0, 1, 0, 0, 1, 0, 0, 1, 0, 0, 1, 0, 0, 1, 0, 0, 1, 0, 0, 1, 0, 0, 1, 0, 0, 1, 0, 0, 1, 0, 0, 1, 0, 0, 1])])"
      ]
     },
     "metadata": {},
     "output_type": "display_data"
    }
   ],
   "source": [
    "E = Matrix([ [ int(i in w) for i in listaElementos(A) ] for w in B]).ccol({3,6,9},)\n",
    "if rep<=4  and lados<=3: display(E)"
   ]
  },
  {
   "cell_type": "markdown",
   "metadata": {},
   "source": [
    "El número de filas de esta matriz corresponde al número de posibles\n",
    "resultados al lanzar `rep` veces una moneda:\n",
    "\n"
   ]
  },
  {
   "cell_type": "code",
   "execution_count": 44,
   "metadata": {},
   "outputs": [
    {
     "name": "stdout",
     "output_type": "stream",
     "text": [
      "Number of possible outcomes:  81\n"
     ]
    }
   ],
   "source": [
    "print('Number of possible outcomes: ', E.m)"
   ]
  },
  {
   "cell_type": "markdown",
   "metadata": {},
   "source": [
    "#### Construcción del espacio muestral para el lanzamiento de *m* monedas.\n",
    "\n"
   ]
  },
  {
   "cell_type": "markdown",
   "metadata": {},
   "source": [
    "Para construir el espacio muestral para el lanzamiento de *m* monedas,\n",
    "en lugar de las bases canónicas estrella, necesitamos *m* embriones\n",
    "(variables aleatorias) correspondientes a los espacios probabilizables\n",
    "$\\mathcal{R^*_j}$\n",
    "\n",
    "Las columnas de la siguiente matriz son embriones de cada una de las\n",
    "réplicas $\\mathcal{R^*_j}$ del espacio probabilizable $\\mathcal{R}$\n",
    "original correspondiente al lanzamiento de una moneda.\n",
    "\n"
   ]
  },
  {
   "cell_type": "code",
   "execution_count": 45,
   "metadata": {},
   "outputs": [
    {
     "data": {
      "image/png": "[encoded data removed]",
      "text/html": [
       "<p style=\"text-align:center;\">$\\left[ \\begin{array}{cccc}1&1&1&1\\\\1&1&1&2\\\\1&1&1&3\\\\1&1&2&1\\\\1&1&2&2\\\\1&1&2&3\\\\1&1&3&1\\\\1&1&3&2\\\\1&1&3&3\\\\1&2&1&1\\\\1&2&1&2\\\\1&2&1&3\\\\1&2&2&1\\\\1&2&2&2\\\\1&2&2&3\\\\1&2&3&1\\\\1&2&3&2\\\\1&2&3&3\\\\1&3&1&1\\\\1&3&1&2\\\\1&3&1&3\\\\1&3&2&1\\\\1&3&2&2\\\\1&3&2&3\\\\1&3&3&1\\\\1&3&3&2\\\\1&3&3&3\\\\2&1&1&1\\\\2&1&1&2\\\\2&1&1&3\\\\2&1&2&1\\\\2&1&2&2\\\\2&1&2&3\\\\2&1&3&1\\\\2&1&3&2\\\\2&1&3&3\\\\2&2&1&1\\\\2&2&1&2\\\\2&2&1&3\\\\2&2&2&1\\\\2&2&2&2\\\\2&2&2&3\\\\2&2&3&1\\\\2&2&3&2\\\\2&2&3&3\\\\2&3&1&1\\\\2&3&1&2\\\\2&3&1&3\\\\2&3&2&1\\\\2&3&2&2\\\\2&3&2&3\\\\2&3&3&1\\\\2&3&3&2\\\\2&3&3&3\\\\3&1&1&1\\\\3&1&1&2\\\\3&1&1&3\\\\3&1&2&1\\\\3&1&2&2\\\\3&1&2&3\\\\3&1&3&1\\\\3&1&3&2\\\\3&1&3&3\\\\3&2&1&1\\\\3&2&1&2\\\\3&2&1&3\\\\3&2&2&1\\\\3&2&2&2\\\\3&2&2&3\\\\3&2&3&1\\\\3&2&3&2\\\\3&2&3&3\\\\3&3&1&1\\\\3&3&1&2\\\\3&3&1&3\\\\3&3&2&1\\\\3&3&2&2\\\\3&3&2&3\\\\3&3&3&1\\\\3&3&3&2\\\\3&3&3&3\\\\ \\end{array} \\right]$</p>"
      ],
      "text/latex": [
       "$\\left[ \\begin{array}{cccc}1&1&1&1\\\\1&1&1&2\\\\1&1&1&3\\\\1&1&2&1\\\\1&1&2&2\\\\1&1&2&3\\\\1&1&3&1\\\\1&1&3&2\\\\1&1&3&3\\\\1&2&1&1\\\\1&2&1&2\\\\1&2&1&3\\\\1&2&2&1\\\\1&2&2&2\\\\1&2&2&3\\\\1&2&3&1\\\\1&2&3&2\\\\1&2&3&3\\\\1&3&1&1\\\\1&3&1&2\\\\1&3&1&3\\\\1&3&2&1\\\\1&3&2&2\\\\1&3&2&3\\\\1&3&3&1\\\\1&3&3&2\\\\1&3&3&3\\\\2&1&1&1\\\\2&1&1&2\\\\2&1&1&3\\\\2&1&2&1\\\\2&1&2&2\\\\2&1&2&3\\\\2&1&3&1\\\\2&1&3&2\\\\2&1&3&3\\\\2&2&1&1\\\\2&2&1&2\\\\2&2&1&3\\\\2&2&2&1\\\\2&2&2&2\\\\2&2&2&3\\\\2&2&3&1\\\\2&2&3&2\\\\2&2&3&3\\\\2&3&1&1\\\\2&3&1&2\\\\2&3&1&3\\\\2&3&2&1\\\\2&3&2&2\\\\2&3&2&3\\\\2&3&3&1\\\\2&3&3&2\\\\2&3&3&3\\\\3&1&1&1\\\\3&1&1&2\\\\3&1&1&3\\\\3&1&2&1\\\\3&1&2&2\\\\3&1&2&3\\\\3&1&3&1\\\\3&1&3&2\\\\3&1&3&3\\\\3&2&1&1\\\\3&2&1&2\\\\3&2&1&3\\\\3&2&2&1\\\\3&2&2&2\\\\3&2&2&3\\\\3&2&3&1\\\\3&2&3&2\\\\3&2&3&3\\\\3&3&1&1\\\\3&3&1&2\\\\3&3&1&3\\\\3&3&2&1\\\\3&3&2&2\\\\3&3&2&3\\\\3&3&3&1\\\\3&3&3&2\\\\3&3&3&3\\\\ \\end{array} \\right]$"
      ],
      "text/plain": [
       "Matrix([Vector([1, 1, 1, 1, 1, 1, 1, 1, 1, 1, 1, 1, 1, 1, 1, 1, 1, 1, 1, 1, 1, 1, 1, 1, 1, 1, 1, 2, 2, 2, 2, 2, 2, 2, 2, 2, 2, 2, 2, 2, 2, 2, 2, 2, 2, 2, 2, 2, 2, 2, 2, 2, 2, 2, 3, 3, 3, 3, 3, 3, 3, 3, 3, 3, 3, 3, 3, 3, 3, 3, 3, 3, 3, 3, 3, 3, 3, 3, 3, 3, 3]), Vector([1, 1, 1, 1, 1, 1, 1, 1, 1, 2, 2, 2, 2, 2, 2, 2, 2, 2, 3, 3, 3, 3, 3, 3, 3, 3, 3, 1, 1, 1, 1, 1, 1, 1, 1, 1, 2, 2, 2, 2, 2, 2, 2, 2, 2, 3, 3, 3, 3, 3, 3, 3, 3, 3, 1, 1, 1, 1, 1, 1, 1, 1, 1, 2, 2, 2, 2, 2, 2, 2, 2, 2, 3, 3, 3, 3, 3, 3, 3, 3, 3]), Vector([1, 1, 1, 2, 2, 2, 3, 3, 3, 1, 1, 1, 2, 2, 2, 3, 3, 3, 1, 1, 1, 2, 2, 2, 3, 3, 3, 1, 1, 1, 2, 2, 2, 3, 3, 3, 1, 1, 1, 2, 2, 2, 3, 3, 3, 1, 1, 1, 2, 2, 2, 3, 3, 3, 1, 1, 1, 2, 2, 2, 3, 3, 3, 1, 1, 1, 2, 2, 2, 3, 3, 3, 1, 1, 1, 2, 2, 2, 3, 3, 3]), Vector([1, 2, 3, 1, 2, 3, 1, 2, 3, 1, 2, 3, 1, 2, 3, 1, 2, 3, 1, 2, 3, 1, 2, 3, 1, 2, 3, 1, 2, 3, 1, 2, 3, 1, 2, 3, 1, 2, 3, 1, 2, 3, 1, 2, 3, 1, 2, 3, 1, 2, 3, 1, 2, 3, 1, 2, 3, 1, 2, 3, 1, 2, 3, 1, 2, 3, 1, 2, 3, 1, 2, 3, 1, 2, 3, 1, 2, 3, 1, 2, 3])])"
      ]
     },
     "metadata": {},
     "output_type": "display_data"
    }
   ],
   "source": [
    "SampleSp = Matrix([SubEspacioProb(Matrix(E[i*lados:(i+1)*lados])).embrion for i in range(rep)])\n",
    "if rep<=4  and lados<=3: display(SampleSp)"
   ]
  },
  {
   "cell_type": "markdown",
   "metadata": {},
   "source": [
    "El conjunto de las filas de la matriz anterior es el espacio\n",
    "muestral. En cada fila, un `1` corresponde al caso \"*la moneda muestra\n",
    "cara*\" (H) y un `2` corresponde al caso \"*la moneda muestra cruz*\"\n",
    "(T). Por tanto, las filas de la matriz anterior muestran todos los\n",
    "resultados posibles al lanzar una moneda `rep` veces, donde `rep` es\n",
    "el número de columnas, es decir de variables aleatorias (donde cada\n",
    "una de ellas corresponde a un lanzamiento).\n",
    "\n"
   ]
  },
  {
   "cell_type": "markdown",
   "metadata": {},
   "source": [
    "#### Experimento\n",
    "\n"
   ]
  },
  {
   "cell_type": "markdown",
   "metadata": {},
   "source": [
    "Así, \"*realizar*\" el experimento consiste en evaluar las variables\n",
    "aleatorias de la matriz anterior (las columnas) en un mismo elemento\n",
    "$n$ de su dominio $\\Omega$ (se suele denominar a dicho elemento\n",
    "*suceso elemental*); es decir, consiste en mirar la componente\n",
    "$n$-ésima de los `rep` embriones, o lo que es lo mismo, en elegir\n",
    "\"una\" fila de la matriz.\n",
    "\n",
    "El azar consiste en que no sabemos en que punto del dominio se\n",
    "evaluarán las variables aleatorias. Para simular dicha circunstancia\n",
    "usaremos el modulo `random` para escoger una fila al azar.\n",
    "\n"
   ]
  },
  {
   "cell_type": "code",
   "execution_count": 46,
   "metadata": {},
   "outputs": [],
   "source": [
    "import random"
   ]
  },
  {
   "cell_type": "code",
   "execution_count": 47,
   "metadata": {},
   "outputs": [
    {
     "name": "stdout",
     "output_type": "stream",
     "text": [
      "51\n"
     ]
    },
    {
     "data": {
      "image/png": "[encoded data removed]",
      "text/html": [
       "<p style=\"text-align:center;\">$\\begin{pmatrix}2,& 3,& 2,& 3,\\end{pmatrix}$</p>"
      ],
      "text/latex": [
       "$\\begin{pmatrix}2,& 3,& 2,& 3,\\end{pmatrix}$"
      ],
      "text/plain": [
       "Vector([2, 3, 2, 3])"
      ]
     },
     "execution_count": 47,
     "metadata": {},
     "output_type": "execute_result"
    }
   ],
   "source": [
    "trial   = random.choice(range(SampleSp.m))\n",
    "outcome = trial|SampleSp\n",
    "print(trial)\n",
    "outcome"
   ]
  },
  {
   "cell_type": "code",
   "execution_count": 48,
   "metadata": {},
   "outputs": [
    {
     "name": "stdout",
     "output_type": "stream",
     "text": [
      "number of heads:  0\n"
     ]
    }
   ],
   "source": [
    "print('number of heads: ', sum([int(e==1) for e in outcome]) )"
   ]
  },
  {
   "cell_type": "code",
   "execution_count": 49,
   "metadata": {},
   "outputs": [
    {
     "name": "stdout",
     "output_type": "stream",
     "text": [
      "number of tails:  2\n"
     ]
    }
   ],
   "source": [
    "print('number of tails: ', sum([int(e==2) for e in trial|SampleSp]) )"
   ]
  },
  {
   "cell_type": "code",
   "execution_count": 50,
   "metadata": {},
   "outputs": [
    {
     "name": "stdout",
     "output_type": "stream",
     "text": [
      "number of tails:  2\n"
     ]
    }
   ],
   "source": [
    "print('number of tails: ', sum([int(e==3) for e in trial|SampleSp]) )"
   ]
  },
  {
   "cell_type": "markdown",
   "metadata": {},
   "source": [
    "##### Frecuencia de los posibles resultados\n",
    "\n"
   ]
  },
  {
   "cell_type": "markdown",
   "metadata": {},
   "source": [
    "Podemos contar el número de veces que se nuestra la primera cara en\n",
    "cada uno de los posibles resultados\n",
    "\n"
   ]
  },
  {
   "cell_type": "code",
   "execution_count": 51,
   "metadata": {},
   "outputs": [],
   "source": [
    "res = [sum([int(e==1) for e in r]) for r in (~SampleSp).lista]"
   ]
  },
  {
   "cell_type": "markdown",
   "metadata": {},
   "source": [
    "Podemos mirar la frecuencia contando el número de veces que aparece\n",
    "cada lado en cada caso.\n",
    "\n"
   ]
  },
  {
   "cell_type": "code",
   "execution_count": 52,
   "metadata": {},
   "outputs": [],
   "source": [
    "def count_elements(seq) -> dict:\n",
    "    \"\"\"Tally elements from `seq`.\"\"\"\n",
    "    hist = {}\n",
    "    for i in seq:\n",
    "        hist[i] = hist.get(i, 0) + 1\n",
    "    return hist"
   ]
  },
  {
   "cell_type": "code",
   "execution_count": 53,
   "metadata": {},
   "outputs": [
    {
     "data": {
      "text/plain": [
       "{4: 1, 3: 8, 2: 24, 1: 32, 0: 16}"
      ]
     },
     "execution_count": 53,
     "metadata": {},
     "output_type": "execute_result"
    }
   ],
   "source": [
    "count_elements(res)"
   ]
  },
  {
   "cell_type": "markdown",
   "metadata": {},
   "source": [
    "O con un histograma\n",
    "\n"
   ]
  },
  {
   "cell_type": "code",
   "execution_count": 54,
   "metadata": {},
   "outputs": [
    {
     "data": {
      "text/plain": [
       "(0.0, 40.0)"
      ]
     },
     "execution_count": 54,
     "metadata": {},
     "output_type": "execute_result"
    },
    {
     "data": {
      "image/png": "[encoded data removed]",
      "text/plain": [
       "<Figure size 432x288 with 1 Axes>"
      ]
     },
     "metadata": {
      "needs_background": "light"
     },
     "output_type": "display_data"
    }
   ],
   "source": [
    "import numpy as np\n",
    "import matplotlib.pyplot as plt\n",
    "\n",
    "# An \"interface\" to matplotlib.axes.Axes.hist() method\n",
    "n, bins, patches = plt.hist(x=res, bins='auto', color='#0504aa',\n",
    "                            alpha=0.7, rwidth=0.85)\n",
    "plt.grid(axis='y', alpha=0.75)\n",
    "plt.xlabel('Number of heads')\n",
    "plt.ylabel('Frequency')\n",
    "plt.title('Histogram of possible number of heads')\n",
    "#plt.text(23, 45, r'$\\mu=15, b=3$')\n",
    "maxfreq = n.max()\n",
    "# Set a clean upper y-axis limit.\n",
    "plt.ylim(ymax=np.ceil(maxfreq / 10) * 10 if maxfreq % 10 else maxfreq + 10)"
   ]
  },
  {
   "cell_type": "markdown",
   "metadata": {},
   "source": [
    "Este histograma de frecuencias nada tiene que ver con la probabilidad\n",
    "de cada resultado (salvo si la moneda es justa y dividimos cada\n",
    "frecuencia absoluta del histograma por el número de casos).\n",
    "\n",
    "Para reflejar la probabilidad es necesario emplear el espacio euclídeo\n",
    "de probabilidad, es decir, al espacio probabilizable hay que definir\n",
    "una función esperanza. Lo podemos hacer incorporando una función de\n",
    "masa de probabilidad, para los distintos valores de la variable\n",
    "aleatoria embrión, o alternativamente asignando una probabilidad a\n",
    "cada vector de la base canónica. \n",
    "\n",
    "Por cuestiones didácticas implementaremos ambas vías.\n",
    "\n"
   ]
  },
  {
   "cell_type": "markdown",
   "metadata": {},
   "source": [
    "## Espacio euclideo de probabilidad\n",
    "\n"
   ]
  },
  {
   "cell_type": "markdown",
   "metadata": {},
   "source": [
    "### Ejemplo de la demostración en el libro sobre la *construcción de subespacios independientes e isomorfos*.\n",
    "\n"
   ]
  },
  {
   "cell_type": "code",
   "execution_count": 55,
   "metadata": {},
   "outputs": [
    {
     "data": {
      "text/plain": [
       "(u0, u1, w0, w1, w2)"
      ]
     },
     "execution_count": 55,
     "metadata": {},
     "output_type": "execute_result"
    }
   ],
   "source": [
    "R1=symbols('u:2')\n",
    "R2=symbols('w:3')\n",
    "lista=R1+R2\n",
    "lista"
   ]
  },
  {
   "cell_type": "code",
   "execution_count": 56,
   "metadata": {},
   "outputs": [
    {
     "data": {
      "text/plain": [
       "[(u0, w0), (u0, w1), (u0, w2), (u1, w0), (u1, w1), (u1, w2)]"
      ]
     },
     "execution_count": 56,
     "metadata": {},
     "output_type": "execute_result"
    }
   ],
   "source": [
    "B = [x for x in aspa((R1,R2)) ]\n",
    "B"
   ]
  },
  {
   "cell_type": "code",
   "execution_count": 57,
   "metadata": {},
   "outputs": [
    {
     "data": {
      "image/png": "[encoded data removed]",
      "text/html": [
       "<p style=\"text-align:center;\">$\\left[ \\begin{array}{ccccc}1&0&1&0&0\\\\1&0&0&1&0\\\\1&0&0&0&1\\\\0&1&1&0&0\\\\0&1&0&1&0\\\\0&1&0&0&1\\\\ \\end{array} \\right]$</p>"
      ],
      "text/latex": [
       "$\\left[ \\begin{array}{ccccc}1&0&1&0&0\\\\1&0&0&1&0\\\\1&0&0&0&1\\\\0&1&1&0&0\\\\0&1&0&1&0\\\\0&1&0&0&1\\\\ \\end{array} \\right]$"
      ],
      "text/plain": [
       "Matrix([Vector([1, 1, 1, 0, 0, 0]), Vector([0, 0, 0, 1, 1, 1]), Vector([1, 0, 0, 1, 0, 0]), Vector([0, 1, 0, 0, 1, 0]), Vector([0, 0, 1, 0, 0, 1])])"
      ]
     },
     "execution_count": 57,
     "metadata": {},
     "output_type": "execute_result"
    }
   ],
   "source": [
    "M = Matrix([ [ int(i in w) for i in lista ] for w in B]).ccol({len(R1),len(R1+R2)})\n",
    "fmp = [fracc(3,4),fracc(1,4),fracc(1,2),fracc(1,4),fracc(1,4)]\n",
    "M = Matrix([VAI(M[i],fmp[i]) for i in range(M.n)])\n",
    "M"
   ]
  },
  {
   "cell_type": "code",
   "execution_count": 58,
   "metadata": {},
   "outputs": [],
   "source": [
    "prodH     = lambda u,w: VAI([u[i]*w[i] for i in range(u.n)],u.prb*w.prb)\n",
    "productoH = lambda x,n: VAI(V1(n),1) if not x else prodH(x[0], productoH(x[1:], n) )"
   ]
  },
  {
   "cell_type": "code",
   "execution_count": 59,
   "metadata": {},
   "outputs": [
    {
     "name": "stdout",
     "output_type": "stream",
     "text": [
      "[3/8, 3/16, 3/16, 1/8, 1/16, 1/16]\n"
     ]
    },
    {
     "data": {
      "text/latex": [
       "$\\displaystyle 1$"
      ],
      "text/plain": [
       "1"
      ]
     },
     "execution_count": 59,
     "metadata": {},
     "output_type": "execute_result"
    }
   ],
   "source": [
    "n = M.m\n",
    "Q = [x for x in aspa([M[:2],M[2:]]) ]\n",
    "baseC = Sistema([v for v in [productoH(s,n) for s in Q] if v.no_es_nulo()])\n",
    "print([(baseC[i]).prb for i in range(len(baseC))])\n",
    "sum([(baseC[i]).prb for i in range(len(baseC))])"
   ]
  },
  {
   "cell_type": "code",
   "execution_count": 60,
   "metadata": {},
   "outputs": [],
   "source": [
    "class SampleSpace(Matrix):\n",
    "    def __init__(self, data, Prb=0):\n",
    "        super().__init__(data)\n",
    "        self.lista = [ VA(i,Prb) for i in self.lista ]"
   ]
  }
 ],
 "metadata": {
  "kernelspec": {
   "display_name": "Python 3",
   "language": "python",
   "name": "python3"
  },
  "language_info": {
   "codemirror_mode": {
    "name": "ipython",
    "version": 3
   },
   "file_extension": ".py",
   "mimetype": "text/x-python",
   "name": "python",
   "nbconvert_exporter": "python",
   "pygments_lexer": "ipython3",
   "version": "3.9.2"
  },
  "org": [
   null,
   null
  ]
 },
 "nbformat": 4,
 "nbformat_minor": 1
}
