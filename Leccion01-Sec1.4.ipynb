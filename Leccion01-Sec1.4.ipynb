{
 "cells": [
  {
   "cell_type": "markdown",
   "id": "painful-steel",
   "metadata": {},
   "source": [
    "$\n",
    "\\renewcommand{\\R}[1][{}]{{\\mathbb{R}}^{#1}}\n",
    "\\renewcommand{\\Z}[1][{}]{{\\mathbb{Z}}^{#1}}\n",
    "%%%%%%%%%%%%%%%%%%%%%%%%%%%%%%%%%%%%%%%%%%%%%%%%%%%%%%%%%%%%%%%%%%%%%%%%%%%%\n",
    "\\renewcommand{\\getItem}{\\pmb{\\mid}}\n",
    "\\renewcommand{\\getitemR}[1]{\\getItem{#1}}\n",
    "\\newcommand{\\getitemL}[1]{{#1}\\getItem}\n",
    "\\renewcommand{\\elemR}[2]{{#1}^{\\phantom{\\T}}_{\\getitemR{#2}}} \n",
    "\\renewcommand{\\elemRP}[2]{{\\big(#1\\big)}^{\\phantom{\\T}}_{\\getitemR{#2}}} \n",
    "\\renewcommand{\\elemRPE}[2]{\\big({#1}^{\\phantom{\\T}}_{\\getitemR{#2}}\\big)}\n",
    "%%%%%%%%%%%%%%%%%%%%%%%%%%%%%%%%%%%%%%%%%%%%%%%%%%%%%%%%%%%%%%%%%%%%%%%%%%%%\n",
    "\\renewcommand{\\Vect}[2][{}]{{\\boldsymbol{#2}}_{#1}}\n",
    "\\renewcommand{\\eleVR}[2]  {\\elemR  {\\Vect{#1}}{#2}}      % con subindices\n",
    "\\renewcommand{\\eleVRP}[2] {\\elemRP {\\Vect{#1}}{#2}}      % con subindices y paréntesis interior\n",
    "\\renewcommand{\\eleVRPE}[2]{\\elemRPE{\\Vect{#1}}{#2}}      % con subindices y paréntesis exterior\n",
    "%%%%%%%%%%%%%%%%%%%%%%%%%%%%%%%%%%%%%%%%%%%%%%%%%%%%%%%%%%%%%%%%%%%%%%%%%%%%\n",
    "\\renewcommand{\\VectC}[2][{}]  {\\elemR  {\\Mat{#2}}{#1}}   % con subindices\n",
    "\\renewcommand{\\VectCP}[2][{}] {\\elemRP {\\Mat{#2}}{#1}}   % con subindices y paréntesis\n",
    "\\renewcommand{\\VectCPE}[2][{}]{\\elemRPE{\\Mat{#2}}{#1}}   % con subindices y paréntesis exterior\n",
    "%%%%%%%%%%%%%%%%%%%%%%%%%%%%%%%%%%%%%%%%%%%%%%%%%%%%%%%%%%%%%%%%%%%%%%%%%%%%\n",
    "\\renewcommand{\\mat}[1]{\\mathbf{#1}}\n",
    "\\renewcommand{\\Mat} [2][{}]{{\\mat{#2}}_{#1}} \n",
    "\\renewcommand{\\T}{\\intercal}\n",
    "\\renewcommand{\\MatT}[2][{}]{{\\mat{#2}}^{\\T}_{#1}}\n",
    "\\renewcommand{\\VectC}[2][{}]    {\\elemR  {\\Mat{#2}}{#1}}   % con subindices\n",
    "\\renewcommand{\\VectCP}[2][{}]   {\\elemRP  {\\Mat{#2}}{#1}}   % con subindices y paréntesis\n",
    "\\renewcommand{\\VectCPE}[2][{}]  {\\elemRPE  {\\Mat{#2}}{#1}}   % con subindices y paréntesis exterior\n",
    "\\renewcommand{\\VectCC}[2][{}]   {\\elemRR {\\Mat{#2}}{#1}}   % con ()\n",
    "\\renewcommand{\\VectCCC}[2][{}]  {\\elemRRR{\\Mat{#2}}{#1}}   % con texto \"col\"\n",
    "%SELECCIÓNA de FILAS y COlUMNAS DE UNA MATRIZ TRANSPUESTA PARA GENERAR UN VECTOR DE Rn\n",
    "\\renewcommand{\\VectTC}[2][{}]   {\\elemR{\\MatT{#2}\\!}{#1}}  % con subindices\n",
    "\\renewcommand{\\VectTCC}[2][{}]  {\\elemRR{ \\MatT{#2}}{#1}}  % con ()\n",
    "\\renewcommand{\\VectTCCC}[2][{}] {\\elemRRR{\\MatT{#2}}{#1}}  % con texto \"col\"\n",
    "\\renewcommand{\\dotprod}[2][{}] {\\Vect{#1}\\cdot\\Vect{#2}}\n",
    "$"
   ]
  },
  {
   "cell_type": "markdown",
   "id": "legitimate-jackson",
   "metadata": {},
   "source": [
    "${\\huge\\text{Jupyter notebook de la Lección 1 (Sección 1.4)}}$\n",
    "\n",
    "**Léase primero las secciones 1.3 y 1.4 de la Lección 1 del** [**libro**\n",
    "](https://github.com/mbujosab/CursoDeAlgebraLineal/blob/master/libro.pdf)\n",
    "\n",
    "<https://github.com/mbujosab/CursoDeAlgebraLineal/blob/master/libro.pdf>"
   ]
  },
  {
   "cell_type": "markdown",
   "id": "absent-explorer",
   "metadata": {},
   "source": [
    "**Índice de contenidos de este notebook** (Requiere ejecutar todo el Notebook para que aparezca el índice)\n",
    "<div id=\"toc\"></div>"
   ]
  },
  {
   "cell_type": "code",
   "execution_count": null,
   "id": "english-marks",
   "metadata": {},
   "outputs": [],
   "source": [
    "from nacal import *"
   ]
  },
  {
   "cell_type": "markdown",
   "id": "fifty-bhutan",
   "metadata": {},
   "source": [
    "# Matrices de $\\R[m\\times n]$\n",
    "## Definiendo matrices\n",
    "\n",
    "En el \n",
    "[**libro**](https://github.com/mbujosab/CursoDeAlgebraLineal/blob/master/libro.pdf)\n",
    "se dice que encerrando entre corchetes una lista\n",
    "de vectores se \"crea\" una matriz. Aquí hemos implementado dicha\n",
    "operación poniendo una lista o tupla de vectores como argumento de la\n",
    "clase `Matrix()`.\n",
    "\n",
    "Así, en las notas se dice que encerrando la lista de vectores (1, 2),\n",
    "(1, 0), y (9, 2) entre corchetes se genera la matriz de $\\R[2\\times\n",
    "3]$\n",
    "\n",
    "$$\\begin{bmatrix}1&1&9\\\\2&0&2\\end{bmatrix}$$\n",
    "\n",
    "Aquí hacemos lo mismo poniendo la lista de vectores como argumento de\n",
    "la clase `Matrix( )`"
   ]
  },
  {
   "cell_type": "code",
   "execution_count": null,
   "id": "treated-cherry",
   "metadata": {},
   "outputs": [],
   "source": [
    "a = Vector( [1,2] )\n",
    "b = Vector( [1,0] )\n",
    "c = Vector( [9,2] )\n",
    "A = Matrix( [a,b,c] )\n",
    "print(A)              # representación de la matriz en consola\n",
    "A                     # representación de la matriz en Jupyter Notebook"
   ]
  },
  {
   "cell_type": "markdown",
   "id": "israeli-gathering",
   "metadata": {},
   "source": [
    "Además de instanciar las matrices mediante una lista (o tupla) de\n",
    "vectores, también podemos instanciar una matriz mediante una lista (o\n",
    "tupla) de listas o tuplas. En este caso, estaremos describiendo la\n",
    "matriz fila a fila:"
   ]
  },
  {
   "cell_type": "code",
   "execution_count": null,
   "id": "chubby-intensity",
   "metadata": {},
   "outputs": [],
   "source": [
    "Matrix( ( [1,1,1], [2,4,8], [3,9,0] ) )"
   ]
  },
  {
   "cell_type": "markdown",
   "id": "capital-cotton",
   "metadata": {},
   "source": [
    "Esta forma de construir matrices (fila a fila) resulta muy cómoda en \n",
    "la práctica (aunque no es usada en el libro)."
   ]
  },
  {
   "cell_type": "markdown",
   "id": "municipal-penny",
   "metadata": {},
   "source": [
    "#### Atributo: `.lista`\n",
    "\n",
    "NAcAL almacena la lista ordenada de `Vector`es (columnas) de cada \n",
    "`Matrix` en su atributo `lista` (donde cada vector corresponde a una \n",
    "columna)."
   ]
  },
  {
   "cell_type": "code",
   "execution_count": null,
   "id": "instant-admission",
   "metadata": {},
   "outputs": [],
   "source": [
    "A.lista"
   ]
  },
  {
   "cell_type": "markdown",
   "id": "widespread-thursday",
   "metadata": {},
   "source": [
    "#### Orden de la matriz. Atributos: `m` y `n`\n",
    "El atributo `m` nos indica el número de filas de `Matrix` y el\n",
    "atributo `n` el número de columnas. Así, el orden de $\\Mat{A}$ es"
   ]
  },
  {
   "cell_type": "code",
   "execution_count": null,
   "id": "unexpected-strength",
   "metadata": {},
   "outputs": [],
   "source": [
    "A.m, A.n"
   ]
  },
  {
   "cell_type": "markdown",
   "id": "considered-animal",
   "metadata": {},
   "source": [
    "#### Método: `.sis()`\n",
    "\n",
    "Se puede recuperar la `Matrix` en forma de `Sistema` con el método `sis()`"
   ]
  },
  {
   "cell_type": "code",
   "execution_count": null,
   "id": "smoking-scott",
   "metadata": {},
   "outputs": [],
   "source": [
    "A.sis()"
   ]
  },
  {
   "cell_type": "markdown",
   "id": "color-newton",
   "metadata": {},
   "source": [
    "## Seleccionando filas, columnas y componentes.\n",
    "\n",
    "Obtengamos el vector correspondiente a la j-ésima columna de $\\Mat{A}$ \n",
    "(donde j=2)"
   ]
  },
  {
   "cell_type": "code",
   "execution_count": null,
   "id": "expanded-father",
   "metadata": {},
   "outputs": [],
   "source": [
    "A|2"
   ]
  },
  {
   "cell_type": "markdown",
   "id": "charming-aurora",
   "metadata": {},
   "source": [
    "y el vector correspondiente a la i-ésima fila de $\\Mat{A}$ (donde i=1)"
   ]
  },
  {
   "cell_type": "code",
   "execution_count": null,
   "id": "victorian-large",
   "metadata": {},
   "outputs": [],
   "source": [
    "1|A"
   ]
  },
  {
   "cell_type": "markdown",
   "id": "rolled-midnight",
   "metadata": {},
   "source": [
    "Podemos seleccionar la componente situada en la segunda fila y tercera\n",
    "columna de $\\Mat{A}$ del siguiente modo:"
   ]
  },
  {
   "cell_type": "code",
   "execution_count": null,
   "id": "coated-royal",
   "metadata": {},
   "outputs": [],
   "source": [
    "2|A|3"
   ]
  },
  {
   "cell_type": "markdown",
   "id": "technological-madness",
   "metadata": {},
   "source": [
    "Cuando seleccionamos un elemento de una matriz obtenemos un número \n",
    "(`int` es un número entero, `float` es un número con decimales y \n",
    "`Fraction` es un número fraccionario, es decir, un entero dividido \n",
    "por otro entero)."
   ]
  },
  {
   "cell_type": "code",
   "execution_count": null,
   "id": "bizarre-glenn",
   "metadata": {},
   "outputs": [],
   "source": [
    "type(1|A|1)"
   ]
  },
  {
   "cell_type": "markdown",
   "id": "mathematical-shopping",
   "metadata": {},
   "source": [
    "Cuando seleccionamos una fila o una columna de una matriz obtenemos un `Vector`"
   ]
  },
  {
   "cell_type": "code",
   "execution_count": null,
   "id": "alike-rings",
   "metadata": {},
   "outputs": [],
   "source": [
    "type(A|1), type(2|A)"
   ]
  },
  {
   "cell_type": "markdown",
   "id": "reported-picture",
   "metadata": {},
   "source": [
    "Como consecuencia de lo anterior, resulta que tenemos varias formas de\n",
    "seleccionar un elemento de una `Matrix` (véase la \n",
    "\"__Extensión de la notación vectorial y reglas de reescritura__\" de la \n",
    "Sección 1.4.4 del [**libro**\n",
    "](https://github.com/mbujosab/CursoDeAlgebraLineal/blob/master/libro.pdf) )\n",
    "\n",
    "Por ejemplo, para obtener la componente situada en la segunda fila y\n",
    "tercera columna de $\\Mat{A}$ podemos seguir estas tres vías:"
   ]
  },
  {
   "cell_type": "code",
   "execution_count": null,
   "id": "configured-above",
   "metadata": {},
   "outputs": [],
   "source": [
    "2|A|3"
   ]
  },
  {
   "cell_type": "code",
   "execution_count": null,
   "id": "competent-rachel",
   "metadata": {},
   "outputs": [],
   "source": [
    "(A|3)|2"
   ]
  },
  {
   "cell_type": "code",
   "execution_count": null,
   "id": "cross-assumption",
   "metadata": {},
   "outputs": [],
   "source": [
    "3|(2|A)"
   ]
  },
  {
   "cell_type": "markdown",
   "id": "expensive-process",
   "metadata": {},
   "source": [
    "##### El orden de ejecución de las operaciones y la necesidad de poner paréntesis.\n",
    "\n",
    "En Python, la [operación\n",
    "boleana](https://docs.python.org/3/reference/expressions.html#boolean-operations)\n",
    "3|2 da como resultado 3. Sabiendo que Python va ejecutando operaciones\n",
    "de izquierda a derecha ¿Cuál de las dos últimas alternativas no\n",
    "funcionaría bien si quitamos los paréntesis?"
   ]
  },
  {
   "cell_type": "code",
   "execution_count": null,
   "id": "continued-termination",
   "metadata": {},
   "outputs": [],
   "source": []
  },
  {
   "cell_type": "markdown",
   "id": "solar-cemetery",
   "metadata": {},
   "source": [
    "##### \"Sub\"matrices\n",
    "Cuando seleccionamos varios componentes con una tupla obtenemos una \n",
    "submatriz"
   ]
  },
  {
   "cell_type": "code",
   "execution_count": null,
   "id": "amino-stability",
   "metadata": {},
   "outputs": [],
   "source": [
    "B = Matrix( ( [1,1,1], [2,4,8], [3,9,0] ) )"
   ]
  },
  {
   "cell_type": "code",
   "execution_count": null,
   "id": "textile-consensus",
   "metadata": {},
   "outputs": [],
   "source": [
    "B|(1,3,)"
   ]
  },
  {
   "cell_type": "code",
   "execution_count": null,
   "id": "pleased-solomon",
   "metadata": {},
   "outputs": [],
   "source": [
    "(2,3,)|B"
   ]
  },
  {
   "cell_type": "code",
   "execution_count": null,
   "id": "structural-valuation",
   "metadata": {},
   "outputs": [],
   "source": [
    "(2,3,)|B|(1,3,)"
   ]
  },
  {
   "cell_type": "code",
   "execution_count": null,
   "id": "personal-darwin",
   "metadata": {},
   "outputs": [],
   "source": [
    "(3,2,1,)|B|(3,)"
   ]
  },
  {
   "cell_type": "markdown",
   "id": "located-tunnel",
   "metadata": {},
   "source": [
    "Tenga en cuenta que en Python `(2)` es el número 2 estre paréntesis,\n",
    "pero `(2,)` es una tupla con un único componente (el 2). La diferencia \n",
    "es la coma `,` detrás del número."
   ]
  },
  {
   "cell_type": "code",
   "execution_count": null,
   "id": "conservative-fight",
   "metadata": {},
   "outputs": [],
   "source": [
    "(2)"
   ]
  },
  {
   "cell_type": "code",
   "execution_count": null,
   "id": "hourly-convenience",
   "metadata": {},
   "outputs": [],
   "source": [
    "(2,)"
   ]
  },
  {
   "cell_type": "code",
   "execution_count": null,
   "id": "downtown-feedback",
   "metadata": {},
   "outputs": [],
   "source": [
    "type( (2,) )"
   ]
  },
  {
   "cell_type": "markdown",
   "id": "earlier-scale",
   "metadata": {},
   "source": [
    "## La transpuesta\n",
    "\n",
    "Usando las herramientas descritas más arriba disponemos de una forma\n",
    "de transponer $\\Mat{A}$: introducir como argumento de `Matrix` la\n",
    "lista de las listas correspondientes a sus columnas. Si la matriz es:\n",
    "$$\\Mat{A}=\\begin{bmatrix}1&1&9\\\\2&0&2\\end{bmatrix}$$ entonces su\n",
    "transpuesta es:"
   ]
  },
  {
   "cell_type": "code",
   "execution_count": null,
   "id": "stainless-bridge",
   "metadata": {},
   "outputs": [],
   "source": [
    "Matrix( [ (A|1).lista, (A|2).lista, (A|3).lista ] )"
   ]
  },
  {
   "cell_type": "markdown",
   "id": "experienced-logan",
   "metadata": {},
   "source": [
    "Esto mismo lo podemos hacer mediante un bucle que recorra las filas\n",
    "de la matriz:"
   ]
  },
  {
   "cell_type": "code",
   "execution_count": null,
   "id": "sensitive-start",
   "metadata": {},
   "outputs": [],
   "source": [
    "B = Matrix ( [ (A|j).lista for j in range(1,A.n+1) ] )\n",
    "B"
   ]
  },
  {
   "cell_type": "markdown",
   "id": "twelve-warren",
   "metadata": {},
   "source": [
    "La librería programada para el curso permite trasponer una matriz (y\n",
    "si estudia el código de dicha librería verá que transposición está\n",
    "programada usando precisamente el método de la celda de más\n",
    "arriba). Pero como desgraciadamente Python tiene una fuerte limitación\n",
    "en cuanto a la disponibilidad de símbolos, nos vemos obligados a\n",
    "emplear el símbolo \"or\" (`~`) para la transposición (en lugar del\n",
    "símbolo $^\\T$); y además dicho símbolo ha de situarse delante de la matriz que se\n",
    "quiere transponer. Así, la transpuesta $\\MatT{A}$ es: $\\;$ `~A`"
   ]
  },
  {
   "cell_type": "code",
   "execution_count": null,
   "id": "neural-census",
   "metadata": {},
   "outputs": [],
   "source": [
    "~A"
   ]
  },
  {
   "cell_type": "markdown",
   "id": "funky-serum",
   "metadata": {},
   "source": [
    "Comprobemos que trasponer cambia los índices de selección de lado"
   ]
  },
  {
   "cell_type": "code",
   "execution_count": null,
   "id": "complimentary-reading",
   "metadata": {},
   "outputs": [],
   "source": [
    "1|(A)|3"
   ]
  },
  {
   "cell_type": "code",
   "execution_count": null,
   "id": "prime-eating",
   "metadata": {},
   "outputs": [],
   "source": [
    "3|(~A)|1"
   ]
  },
  {
   "cell_type": "code",
   "execution_count": null,
   "id": "educational-adrian",
   "metadata": {},
   "outputs": [],
   "source": [
    "3|(~A) == A|3"
   ]
  },
  {
   "cell_type": "code",
   "execution_count": null,
   "id": "greek-method",
   "metadata": {},
   "outputs": [],
   "source": [
    "(~A)|2 == 2|A"
   ]
  },
  {
   "cell_type": "markdown",
   "id": "large-exhibit",
   "metadata": {},
   "source": [
    "## Definición de algunos vectores especiales\n",
    "#### Matriz nula\n",
    "\n",
    "La matriz nula $\\,\\Mat{0}\\,$ de $\\,\\R[2\\times 3]\\,$ se genera del siguiente modo:"
   ]
  },
  {
   "cell_type": "code",
   "execution_count": null,
   "id": "informal-party",
   "metadata": {},
   "outputs": [],
   "source": [
    "M0(2,3)"
   ]
  },
  {
   "cell_type": "markdown",
   "id": "correct-return",
   "metadata": {},
   "source": [
    "#### Matriz identidad\n",
    "\n",
    "La matriz identidad $\\,\\Mat{I}\\,$ de orden $2$ se genera del siguiente modo:"
   ]
  },
  {
   "cell_type": "code",
   "execution_count": null,
   "id": "vocal-paper",
   "metadata": {},
   "outputs": [],
   "source": [
    "I(2)"
   ]
  },
  {
   "cell_type": "markdown",
   "id": "lesbian-history",
   "metadata": {},
   "source": [
    "#### Matriz opuesta\n",
    "Con `-` delante de una matriz, obtenemos su opuesta"
   ]
  },
  {
   "cell_type": "code",
   "execution_count": null,
   "id": "fewer-sympathy",
   "metadata": {},
   "outputs": [],
   "source": [
    "-A"
   ]
  },
  {
   "cell_type": "markdown",
   "id": "balanced-xerox",
   "metadata": {},
   "source": [
    "#### Matriz diagonal\n",
    "El método `.diag()` de un `Vector` genera una matriz diagonal cuadrada\n",
    "cuya diagonal principal son las componentes del vector empleando."
   ]
  },
  {
   "cell_type": "code",
   "execution_count": null,
   "id": "adolescent-backup",
   "metadata": {},
   "outputs": [],
   "source": [
    "v = Vector( [1,2,3,4] )\n",
    "v.diag()"
   ]
  },
  {
   "cell_type": "markdown",
   "id": "economic-guess",
   "metadata": {},
   "source": [
    "A su vez, el método `.diag()` de una `Matrix` genera un `Vector` con las\n",
    "componentes de la diagonal principal."
   ]
  },
  {
   "cell_type": "code",
   "execution_count": null,
   "id": "democratic-phase",
   "metadata": {},
   "outputs": [],
   "source": [
    "Matrix( ( [1,1,1], [2,4,8], [3,9,0] ) ).diag()"
   ]
  },
  {
   "cell_type": "markdown",
   "id": "outer-captain",
   "metadata": {},
   "source": [
    "## Métodos que indican la forma de la matriz\n",
    "\n",
    "Disponemos de algunos métodos para comprobar si una matriz es cuadrada \n",
    "o si es simétrica"
   ]
  },
  {
   "cell_type": "code",
   "execution_count": null,
   "id": "global-seeker",
   "metadata": {},
   "outputs": [],
   "source": [
    "A.es_cuadrada()"
   ]
  },
  {
   "cell_type": "code",
   "execution_count": null,
   "id": "chubby-settle",
   "metadata": {},
   "outputs": [],
   "source": [
    "I(6).es_simetrica()"
   ]
  },
  {
   "cell_type": "markdown",
   "id": "hydraulic-physiology",
   "metadata": {},
   "source": [
    "---- FIN DE LA LECCIÓN -----\n",
    "\n",
    "\n",
    "\n",
    "Lo que sigue es sólo para crear un índice de contenidos de este notebook (y se muestra al principio de la página)"
   ]
  },
  {
   "cell_type": "code",
   "execution_count": null,
   "id": "strong-timing",
   "metadata": {},
   "outputs": [],
   "source": [
    "%%javascript\n",
    "$.getScript('https://kmahelona.github.io/ipython_notebook_goodies/ipython_notebook_toc.js')"
   ]
  }
 ],
 "metadata": {},
 "nbformat": 4,
 "nbformat_minor": 5
}
