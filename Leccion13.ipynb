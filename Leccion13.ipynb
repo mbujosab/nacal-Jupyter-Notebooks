{
 "cells": [
  {
   "cell_type": "markdown",
   "id": "painted-aluminum",
   "metadata": {},
   "source": [
    "$\n",
    "\\renewcommand{\\R}[1][{}]{{\\mathbb{R}}^{#1}}\n",
    "\\renewcommand{\\Z}[1][{}]{{\\mathbb{Z}}^{#1}}\n",
    "%%%%%%%%%%%%%%%%%%%%%%%%%%%%%%%%%%%%%%%%%%%%%%%%%%%%%%%%%%%%%%%%%%%%%%%%%%%%\n",
    "\\renewcommand{\\getItem}{\\pmb{\\mid}}\n",
    "\\renewcommand{\\getitemR}[1]{\\getItem{#1}}\n",
    "\\newcommand{\\getitemL}[1]{{#1}\\getItem}\n",
    "\\renewcommand{\\elemR}[2]{{#1}^{\\phantom{\\T}}_{\\getitemR{#2}}} \n",
    "\\renewcommand{\\elemRP}[2]{{\\big(#1\\big)}^{\\phantom{\\T}}_{\\getitemR{#2}}} \n",
    "\\renewcommand{\\elemRPE}[2]{\\big({#1}^{\\phantom{\\T}}_{\\getitemR{#2}}\\big)}\n",
    "%%%%%%%%%%%%%%%%%%%%%%%%%%%%%%%%%%%%%%%%%%%%%%%%%%%%%%%%%%%%%%%%%%%%%%%%%%%%\n",
    "\\renewcommand{\\Vect}[2][{}]{{\\boldsymbol{#2}}_{#1}}\n",
    "\\renewcommand{\\eleVR}[2]  {\\elemR  {\\Vect{#1}}{#2}}      % con subindices\n",
    "\\renewcommand{\\eleVRP}[2] {\\elemRP {\\Vect{#1}}{#2}}      % con subindices y paréntesis interior\n",
    "\\renewcommand{\\eleVRPE}[2]{\\elemRPE{\\Vect{#1}}{#2}}      % con subindices y paréntesis exterior\n",
    "%%%%%%%%%%%%%%%%%%%%%%%%%%%%%%%%%%%%%%%%%%%%%%%%%%%%%%%%%%%%%%%%%%%%%%%%%%%%\n",
    "\\renewcommand{\\VectC}[2][{}]  {\\elemR  {\\Mat{#2}}{#1}}   % con subindices\n",
    "\\renewcommand{\\VectCP}[2][{}] {\\elemRP {\\Mat{#2}}{#1}}   % con subindices y paréntesis\n",
    "\\renewcommand{\\VectCPE}[2][{}]{\\elemRPE{\\Mat{#2}}{#1}}   % con subindices y paréntesis exterior\n",
    "%%%%%%%%%%%%%%%%%%%%%%%%%%%%%%%%%%%%%%%%%%%%%%%%%%%%%%%%%%%%%%%%%%%%%%%%%%%%\n",
    "\\renewcommand{\\mat}[1]{\\mathbf{#1}}\n",
    "\\renewcommand{\\Mat} [2][{}]{{\\mat{#2}}_{#1}} \n",
    "\\renewcommand{\\T}{\\intercal}\n",
    "\\renewcommand{\\MatT}[2][{}]{{\\mat{#2}}^{\\T}_{#1}}\n",
    "\\renewcommand{\\VectCC}[2][{}]   {\\elemRR {\\Mat{#2}}{#1}}   % con ()\n",
    "\\renewcommand{\\VectCCC}[2][{}]  {\\elemRRR{\\Mat{#2}}{#1}}   % con texto \"col\"\n",
    "%SELECCIÓNA de FILAS y COlUMNAS DE UNA MATRIZ TRANSPUESTA PARA GENERAR UN VECTOR DE Rn\n",
    "\\renewcommand{\\VectTC}[2][{}]   {\\elemR{\\MatT{#2}\\!}{#1}}  % con subindices\n",
    "\\renewcommand{\\VectTCC}[2][{}]  {\\elemRR{ \\MatT{#2}}{#1}}  % con ()\n",
    "\\renewcommand{\\VectTCCC}[2][{}] {\\elemRRR{\\MatT{#2}}{#1}}  % con texto \"col\"\n",
    "\\renewcommand{\\dotprod}[2][{}] {\\Vect{#1}\\cdot\\Vect{#2}}\n",
    "$"
   ]
  },
  {
   "cell_type": "markdown",
   "id": "expanded-uzbekistan",
   "metadata": {},
   "source": [
    "${\\huge\\text{Jupyter notebook de la Lección 13}}$"
   ]
  },
  {
   "cell_type": "code",
   "execution_count": null,
   "id": "narrow-acrobat",
   "metadata": {},
   "outputs": [],
   "source": [
    "from nacal import *"
   ]
  },
  {
   "cell_type": "code",
   "execution_count": null,
   "id": "municipal-produce",
   "metadata": {},
   "outputs": [],
   "source": [
    "from IPython.display import YouTubeVideo"
   ]
  },
  {
   "cell_type": "markdown",
   "id": "outstanding-fellow",
   "metadata": {},
   "source": [
    "# Función determinante\n",
    "## Definición \n",
    "\n",
    "Vea el primer vídeo de la lección"
   ]
  },
  {
   "cell_type": "code",
   "execution_count": null,
   "id": "twelve-lawsuit",
   "metadata": {},
   "outputs": [],
   "source": [
    "YouTubeVideo('B3mUB8qRkEo')"
   ]
  },
  {
   "cell_type": "markdown",
   "id": "frequent-spencer",
   "metadata": {},
   "source": [
    "Ahora léase la sección 13.1 del \n",
    "[**libro**](https://github.com/mbujosab/CursoDeAlgebraLineal/blob/master/libro.pdf)"
   ]
  },
  {
   "cell_type": "markdown",
   "id": "postal-dragon",
   "metadata": {},
   "source": [
    "Aún no hemos visto cómo calcular el valor del determinante, pero el módulo NAcAL ya \n",
    "sabe hacerlo (más adelante veremos cómo lo calcula).\n",
    "\n",
    "Por ahora sepa que la forma de obtener su valor es invocando al procedimiento \n",
    "`determinante()`. Por ejemplo:"
   ]
  },
  {
   "cell_type": "code",
   "execution_count": null,
   "id": "sharing-landing",
   "metadata": {},
   "outputs": [],
   "source": [
    "a=Vector([1,3,2])\n",
    "b=Vector([-1,-1,0])\n",
    "c=Vector([2,1,5])\n",
    "A = Matrix([a,b,c])\n",
    "A"
   ]
  },
  {
   "cell_type": "code",
   "execution_count": null,
   "id": "swiss-vinyl",
   "metadata": {},
   "outputs": [],
   "source": [
    "A.determinante()"
   ]
  },
  {
   "cell_type": "markdown",
   "id": "complicated-exemption",
   "metadata": {},
   "source": [
    "El determinante solo está definido para matrices cuadradas. \n",
    "Si pedimos el valor del determinante de una matriz 3 por 2 obtendremos un error."
   ]
  },
  {
   "cell_type": "code",
   "execution_count": null,
   "id": "electric-country",
   "metadata": {},
   "outputs": [],
   "source": [
    "# Matrix([a,b]).determinante()     # Des-comente esta línea"
   ]
  },
  {
   "cell_type": "markdown",
   "id": "relative-pursuit",
   "metadata": {},
   "source": [
    "El determinante de cualquier matriz identidad es 1"
   ]
  },
  {
   "cell_type": "code",
   "execution_count": null,
   "id": "talented-saskatchewan",
   "metadata": {},
   "outputs": [],
   "source": [
    "I(15).determinante()"
   ]
  },
  {
   "cell_type": "markdown",
   "id": "beautiful-medicare",
   "metadata": {},
   "source": [
    "Si sumamos una columna a otra, el determinante no cambia"
   ]
  },
  {
   "cell_type": "code",
   "execution_count": null,
   "id": "unusual-robinson",
   "metadata": {},
   "outputs": [],
   "source": [
    "Matrix([a, b+c ,c]).determinante()"
   ]
  },
  {
   "cell_type": "markdown",
   "id": "animal-halifax",
   "metadata": {},
   "source": [
    "Multiplicar una columna por un número, multiplica el determinante por dicho número"
   ]
  },
  {
   "cell_type": "code",
   "execution_count": null,
   "id": "deluxe-library",
   "metadata": {},
   "outputs": [],
   "source": [
    "Matrix([a, -3*b ,c]).determinante()"
   ]
  },
  {
   "cell_type": "markdown",
   "id": "seven-verification",
   "metadata": {},
   "source": [
    "## Propiedades 4 a 6 (Matriz con una columna de ceros y transformaciones elementales)\n",
    "Vea el segundo vídeo de la lección"
   ]
  },
  {
   "cell_type": "code",
   "execution_count": null,
   "id": "developmental-manor",
   "metadata": {},
   "outputs": [],
   "source": [
    "YouTubeVideo('SeNNLFLdJoo')"
   ]
  },
  {
   "cell_type": "markdown",
   "id": "national-depth",
   "metadata": {},
   "source": [
    "Ahora léase las secciones 13.2.1 y 13.2.2 del \n",
    "Ahora léase la sección 13.1 del \n",
    "[**libro**](https://github.com/mbujosab/CursoDeAlgebraLineal/blob/master/libro.pdf)\n",
    "e intente repetir de nuevo las demostraciones."
   ]
  },
  {
   "cell_type": "markdown",
   "id": "verbal-jesus",
   "metadata": {},
   "source": [
    "Ahora ya sabemos que si la matriz tiene una columna de ceros su determinante es cero"
   ]
  },
  {
   "cell_type": "code",
   "execution_count": null,
   "id": "shared-collector",
   "metadata": {},
   "outputs": [],
   "source": [
    "Matrix([a, b , V0(3)]).determinante()"
   ]
  },
  {
   "cell_type": "markdown",
   "id": "thousand-volleyball",
   "metadata": {},
   "source": [
    "que aplicar una transformación elemental de __Tipo I__ \n",
    "a las columnas no modifica el determinante"
   ]
  },
  {
   "cell_type": "code",
   "execution_count": null,
   "id": "respected-might",
   "metadata": {},
   "outputs": [],
   "source": [
    "T((-25,3,2))"
   ]
  },
  {
   "cell_type": "code",
   "execution_count": null,
   "id": "hearing-hartford",
   "metadata": {},
   "outputs": [],
   "source": [
    "B = Matrix(A) & T((-25,3,2))\n",
    "B"
   ]
  },
  {
   "cell_type": "code",
   "execution_count": null,
   "id": "occasional-detector",
   "metadata": {},
   "outputs": [],
   "source": [
    "B.determinante()"
   ]
  },
  {
   "cell_type": "markdown",
   "id": "artistic-specialist",
   "metadata": {},
   "source": [
    "y que aplicar una transformación elemental de __Tipo II__ que multiplica \n",
    "por $\\alpha$ una de las a las columnas multiplica el determinante por $\\alpha$"
   ]
  },
  {
   "cell_type": "code",
   "execution_count": null,
   "id": "normal-wiring",
   "metadata": {},
   "outputs": [],
   "source": [
    "alpha = -3\n",
    "T((alpha,2))"
   ]
  },
  {
   "cell_type": "code",
   "execution_count": null,
   "id": "published-cheat",
   "metadata": {},
   "outputs": [],
   "source": [
    "C = Matrix(A) & T((alpha,2))\n",
    "C"
   ]
  },
  {
   "cell_type": "code",
   "execution_count": null,
   "id": "recognized-fitness",
   "metadata": {},
   "outputs": [],
   "source": [
    "C.determinante()"
   ]
  },
  {
   "cell_type": "markdown",
   "id": "divided-idaho",
   "metadata": {},
   "source": [
    "## Secuencias de transformaciones elementales\n",
    "Vea el tercer vídeo de la lección"
   ]
  },
  {
   "cell_type": "code",
   "execution_count": null,
   "id": "opposite-zoning",
   "metadata": {},
   "outputs": [],
   "source": [
    "YouTubeVideo('grE3dSwk368')"
   ]
  },
  {
   "cell_type": "markdown",
   "id": "controlling-fairy",
   "metadata": {},
   "source": [
    "Ahora léase la Sección 13.2.3 del \n",
    "[**libro**](https://github.com/mbujosab/CursoDeAlgebraLineal/blob/master/libro.pdf) \n",
    "e intente repetir de nuevo las demostraciones."
   ]
  },
  {
   "cell_type": "markdown",
   "id": "unusual-manner",
   "metadata": {},
   "source": [
    "Consideremos la siguiente sucesión de transformaciones elementales de __Tipo I__"
   ]
  },
  {
   "cell_type": "code",
   "execution_count": null,
   "id": "concerned-indication",
   "metadata": {},
   "outputs": [],
   "source": [
    "h=T([ (-2, 1, 2), (-3, 1, 3), (-4, 1, 2), (-5, 1, 3),  (-2, 2, 3), (4, 2, 1), (5, 3, 2) ])\n",
    "h"
   ]
  },
  {
   "cell_type": "markdown",
   "id": "destroyed-melbourne",
   "metadata": {},
   "source": [
    "Si las aplicamos sobre las columnas de $\\Mat{A}$, obtenemos una nueva matriz \n",
    "$\\Mat{D}$, pero con el mismo determinante que $\\Mat{A}$"
   ]
  },
  {
   "cell_type": "code",
   "execution_count": null,
   "id": "virgin-provision",
   "metadata": {},
   "outputs": [],
   "source": [
    "D = Matrix(A) & h\n",
    "D"
   ]
  },
  {
   "cell_type": "code",
   "execution_count": null,
   "id": "balanced-access",
   "metadata": {},
   "outputs": [],
   "source": [
    "D.determinante()"
   ]
  },
  {
   "cell_type": "markdown",
   "id": "mediterranean-luther",
   "metadata": {},
   "source": [
    "Si aplicamos la secuencia de transformaciones sobre la matriz identidad, \n",
    "la matriz obtenida debe tener determinante 1"
   ]
  },
  {
   "cell_type": "code",
   "execution_count": null,
   "id": "satisfactory-divide",
   "metadata": {},
   "outputs": [],
   "source": [
    "(I(3) & h).determinante()"
   ]
  },
  {
   "cell_type": "markdown",
   "id": "brilliant-heritage",
   "metadata": {},
   "source": [
    "Consideremos otra secuencia de transformaciones elementales \n",
    "(esta vez tanto de __Tipo I__ como de __Tipo II__)"
   ]
  },
  {
   "cell_type": "code",
   "execution_count": null,
   "id": "introductory-island",
   "metadata": {},
   "outputs": [],
   "source": [
    "f = T([(3, 2), (7, 1, 2), (3, 3), (-8, 1, 3), (-2, 3), (17, 2, 3), (-2, 3, 1), (1, 3, 2), {3, 1} ])\n",
    "f"
   ]
  },
  {
   "cell_type": "markdown",
   "id": "front-tiffany",
   "metadata": {},
   "source": [
    "Si aplicamos dicha secuencia de transformaciones a la matriz identidad de orden 3 \n",
    "obtenemos la matriz $\\Mat{F}$"
   ]
  },
  {
   "cell_type": "code",
   "execution_count": null,
   "id": "elder-receptor",
   "metadata": {},
   "outputs": [],
   "source": [
    "F = I(3) & f\n",
    "F"
   ]
  },
  {
   "cell_type": "markdown",
   "id": "built-column",
   "metadata": {},
   "source": [
    "cuyo determinante es"
   ]
  },
  {
   "cell_type": "code",
   "execution_count": null,
   "id": "included-parking",
   "metadata": {},
   "outputs": [],
   "source": [
    "F.determinante()"
   ]
  },
  {
   "cell_type": "markdown",
   "id": "nonprofit-organic",
   "metadata": {},
   "source": [
    "Si calculamos el determinante del producto $|\\Mat{AF}|$ obtenemos:"
   ]
  },
  {
   "cell_type": "code",
   "execution_count": null,
   "id": "anticipated-trust",
   "metadata": {},
   "outputs": [],
   "source": [
    "(A*F).determinante()"
   ]
  },
  {
   "cell_type": "markdown",
   "id": "consolidated-quantum",
   "metadata": {},
   "source": [
    "y si calculamos el producto de los determinantes $|\\Mat{A}|$ y $|\\Mat{F}|$ \n",
    "obtenemos el mismo resultado:"
   ]
  },
  {
   "cell_type": "code",
   "execution_count": null,
   "id": "administrative-dress",
   "metadata": {},
   "outputs": [],
   "source": [
    "A.determinante() * F.determinante()"
   ]
  },
  {
   "cell_type": "markdown",
   "id": "roman-disclosure",
   "metadata": {},
   "source": [
    "## Propiedad Antisimétrica. Determinante de la matriz inversa. Determinante de un producto de matrices"
   ]
  },
  {
   "cell_type": "markdown",
   "id": "smaller-diesel",
   "metadata": {},
   "source": [
    "Recuerde que el intercambio de columnas es equivalente \n",
    "a una secuencia de transformaciones elementales de __Tipo I__ más una de __Tipo II__ \n",
    "que multiplica una de las columnas intercambiadas por `-1`"
   ]
  },
  {
   "cell_type": "code",
   "execution_count": null,
   "id": "elder-nashville",
   "metadata": {},
   "outputs": [],
   "source": [
    "i      = 2\n",
    "j      = 3\n",
    "transf = T( (-1, j) ) & T( (-1, j, i) ) & T( (1, i, j) ) & T( (-1, j, i) )\n",
    "transf"
   ]
  },
  {
   "cell_type": "code",
   "execution_count": null,
   "id": "accessible-sector",
   "metadata": {},
   "outputs": [],
   "source": [
    "I(4) & transf"
   ]
  },
  {
   "cell_type": "markdown",
   "id": "forced-paris",
   "metadata": {},
   "source": [
    "Vea el cuarto vídeo de la lección"
   ]
  },
  {
   "cell_type": "code",
   "execution_count": null,
   "id": "brave-graphic",
   "metadata": {},
   "outputs": [],
   "source": [
    "YouTubeVideo('fYFAN3mqCMs')"
   ]
  },
  {
   "cell_type": "markdown",
   "id": "consolidated-maria",
   "metadata": {},
   "source": [
    "Ahora léase la última propiedad de la Sección 13.2.3 del \n",
    "[**libro**](https://github.com/mbujosab/CursoDeAlgebraLineal/blob/master/libro.pdf)\n",
    "\n",
    "Lea también la Sección 13.2.4 del \n",
    "[**libro**](https://github.com/mbujosab/CursoDeAlgebraLineal/blob/master/libro.pdf) \n",
    "e intente repetir de nuevo las demostraciones."
   ]
  },
  {
   "cell_type": "code",
   "execution_count": null,
   "id": "burning-locator",
   "metadata": {},
   "outputs": [],
   "source": [
    "a=Vector([1,3,2])\n",
    "b=Vector([-1,-1,0])\n",
    "c=Vector([2,1,5])\n",
    "A = Matrix([a,b,c])\n",
    "A.determinante()"
   ]
  },
  {
   "cell_type": "markdown",
   "id": "approximate-burning",
   "metadata": {},
   "source": [
    "Intercambiar dos columnas cambia el signo del determinante"
   ]
  },
  {
   "cell_type": "code",
   "execution_count": null,
   "id": "laughing-playing",
   "metadata": {},
   "outputs": [],
   "source": [
    "Matrix([b,a,c]).determinante()"
   ]
  },
  {
   "cell_type": "code",
   "execution_count": null,
   "id": "rolled-given",
   "metadata": {},
   "outputs": [],
   "source": [
    "(Matrix(A) & T({2,3})).determinante()"
   ]
  },
  {
   "cell_type": "markdown",
   "id": "ranking-blank",
   "metadata": {},
   "source": [
    "El determinante de una matriz singular es nulo"
   ]
  },
  {
   "cell_type": "code",
   "execution_count": null,
   "id": "improved-parish",
   "metadata": {},
   "outputs": [],
   "source": [
    "Matrix([a,a,c]).determinante()"
   ]
  },
  {
   "cell_type": "markdown",
   "id": "varying-concert",
   "metadata": {},
   "source": [
    "El determinante de la matriz inversa es el inverso del determinante"
   ]
  },
  {
   "cell_type": "code",
   "execution_count": null,
   "id": "seventh-episode",
   "metadata": {},
   "outputs": [],
   "source": [
    "(A**-1 ).determinante()"
   ]
  },
  {
   "cell_type": "markdown",
   "id": "instant-iraqi",
   "metadata": {},
   "source": [
    "## Determinante de la transpuesta y transformaciones elementales de las filas\n",
    "Vea el quinto vídeo de la lección"
   ]
  },
  {
   "cell_type": "code",
   "execution_count": null,
   "id": "ordinary-lighting",
   "metadata": {},
   "outputs": [],
   "source": [
    "YouTubeVideo('C_onBoIRLxI')"
   ]
  },
  {
   "cell_type": "markdown",
   "id": "arctic-opera",
   "metadata": {},
   "source": [
    "Ahora léase la Sección 13.2.5 del \n",
    "[**libro**](https://github.com/mbujosab/CursoDeAlgebraLineal/blob/master/libro.pdf) \n",
    "e intente repetir de nuevo las demostraciones."
   ]
  },
  {
   "cell_type": "markdown",
   "id": "otherwise-equality",
   "metadata": {},
   "source": [
    "La transposición no cambia el determinante"
   ]
  },
  {
   "cell_type": "code",
   "execution_count": null,
   "id": "incredible-pressing",
   "metadata": {},
   "outputs": [],
   "source": [
    "A.determinante()"
   ]
  },
  {
   "cell_type": "code",
   "execution_count": null,
   "id": "heated-doctrine",
   "metadata": {},
   "outputs": [],
   "source": [
    "(~A).determinante()"
   ]
  },
  {
   "cell_type": "markdown",
   "id": "prepared-joshua",
   "metadata": {},
   "source": [
    "Las transformaciones elementales de las filas tienen el mismo efecto \n",
    "que las transformaciones elementales de las columnas"
   ]
  },
  {
   "cell_type": "code",
   "execution_count": null,
   "id": "alive-grave",
   "metadata": {},
   "outputs": [],
   "source": [
    "T((100,1,2)) & Matrix(A)"
   ]
  },
  {
   "cell_type": "code",
   "execution_count": null,
   "id": "homeless-bible",
   "metadata": {},
   "outputs": [],
   "source": [
    "( T((100,1,2)) & Matrix(A) ).determinante()"
   ]
  },
  {
   "cell_type": "code",
   "execution_count": null,
   "id": "national-maine",
   "metadata": {},
   "outputs": [],
   "source": [
    "T((100,3)) & Matrix(A)"
   ]
  },
  {
   "cell_type": "code",
   "execution_count": null,
   "id": "exclusive-snapshot",
   "metadata": {},
   "outputs": [],
   "source": [
    "( T((100,3)) & Matrix(A) ).determinante()"
   ]
  },
  {
   "cell_type": "code",
   "execution_count": null,
   "id": "composed-running",
   "metadata": {},
   "outputs": [],
   "source": [
    "T( {1,3} ) & Matrix(A)"
   ]
  },
  {
   "cell_type": "code",
   "execution_count": null,
   "id": "exciting-fiction",
   "metadata": {},
   "outputs": [],
   "source": [
    "( T({1,3}) & Matrix(A) ).determinante()"
   ]
  }
 ],
 "metadata": {},
 "nbformat": 4,
 "nbformat_minor": 5
}
