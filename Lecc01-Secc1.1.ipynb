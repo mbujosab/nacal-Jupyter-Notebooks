{
 "cells": [
  {
   "cell_type": "markdown",
   "id": "394d318f-3f55-4f0e-9830-4f14321df997",
   "metadata": {},
   "source": [
    "Lección 01 - Sección 1.1\n",
    "========================\n",
    "\n",
    "**Author:** Marcos Bujosa\n",
    "\n"
   ]
  },
  {
   "cell_type": "markdown",
   "id": "eeae45d0-cf26-4d9f-b75f-3f5ca99f2824",
   "metadata": {},
   "source": [
    "$\n",
    "\\newcommand{\\R}[1][{}]{{\\mathbb{R}}^{#1}}\n",
    "\\newcommand{\\Z}[1][{}]{{\\mathbb{Z}}^{#1}}\n",
    "%%%%%%%%%%%%%%%%%%%%%%%%%%%%%%%%%%%%%%%%%%%%%%%%%%%%%%%%%%%%%%%%%%%%%%%%%%%%\n",
    "\\newcommand{\\getItem}{\\pmb{\\mid}}\n",
    "\\newcommand{\\getitemR}[1]{\\getItem{#1}}\n",
    "\\newcommand{\\getitemL}[1]{{#1}\\getItem}\n",
    "\\newcommand{\\elemR}[2]{{#1}^{\\phantom{\\T}}_{\\getitemR{#2}}} \n",
    "\\newcommand{\\elemRP}[2]{{\\big(#1\\big)}^{\\phantom{\\T}}_{\\getitemR{#2}}} \n",
    "\\newcommand{\\elemRPE}[2]{\\big({#1}^{\\phantom{\\T}}_{\\getitemR{#2}}\\big)}\n",
    "%%%%%%%%%%%%%%%%%%%%%%%%%%%%%%%%%%%%%%%%%%%%%%%%%%%%%%%%%%%%%%%%%%%%%%%%%%%%\n",
    "\\newcommand{\\Vect}[2][{}]{{\\boldsymbol{#2}}_{#1}}\n",
    "\\newcommand{\\eleVR}[2]  {\\elemR  {\\Vect{#1}}{#2}}\t % con subindices\n",
    "\\newcommand{\\eleVRP}[2] {\\elemRP {\\Vect{#1}}{#2}}      % con subindices y paréntesis interior\n",
    "\\newcommand{\\eleVRPE}[2]{\\elemRPE{\\Vect{#1}}{#2}}      % con subindices y paréntesis exterior\n",
    "%%%%%%%%%%%%%%%%%%%%%%%%%%%%%%%%%%%%%%%%%%%%%%%%%%%%%%%%%%%%%%%%%%%%%%%%%%%%\n",
    "\\newcommand{\\VectC}[2][{}]  {\\elemR  {\\Mat{#2}}{#1}}   % con subindices\n",
    "\\newcommand{\\VectCP}[2][{}] {\\elemRP {\\Mat{#2}}{#1}}   % con subindices y paréntesis\n",
    "\\newcommand{\\VectCPE}[2][{}]{\\elemRPE{\\Mat{#2}}{#1}}   % con subindices y paréntesis exterior\n",
    "%%%%%%%%%%%%%%%%%%%%%%%%%%%%%%%%%%%%%%%%%%%%%%%%%%%%%%%%%%%%%%%%%%%%%%%%%%%%\n",
    "\\newcommand{\\mat}[1]{\\mathbf{#1}}\n",
    "\\newcommand{\\Mat} [2][{}]{{\\mat{#2}}_{#1}} \n",
    "\\newcommand{\\T}{\\intercal}\n",
    "\\newcommand{\\MatT}[2][{}]{{\\mat{#2}}^{\\T}_{#1}}\n",
    "\\newcommand{\\VectCC}[2][{}]   {\\elemRR {\\Mat{#2}}{#1}}   % con ()\n",
    "\\newcommand{\\VectCCC}[2][{}]  {\\elemRRR{\\Mat{#2}}{#1}}   % con texto \"col\"\n",
    "%SELECCIÓNA de FILAS y COlUMNAS DE UNA MATRIZ TRANSPUESTA PARA GENERAR UN VECTOR DE Rn\n",
    "\\newcommand{\\VectTC}[2][{}]   {\\elemR{\\MatT{#2}\\!}{#1}}  % con subindices\n",
    "\\newcommand{\\VectTCC}[2][{}]  {\\elemRR{ \\MatT{#2}}{#1}}  % con ()\n",
    "\\newcommand{\\VectTCCC}[2][{}] {\\elemRRR{\\MatT{#2}}{#1}}  % con texto \"col\"\n",
    "\\newcommand{\\dotprod}[2][{}] {\\Vect{#1}\\cdot\\Vect{#2}}\n",
    "$\n",
    "\n",
    "[NAcAL](https://github.com/mbujosab/nacallib) es un módulo de Python que implementa literalmente lo expuesto\n",
    "en el [libro](https://mbujosab.github.io/CursoDeAlgebraLineal/libro.pdf). Así, usted puede experimentar con Python empleando una\n",
    "notación similar a la empleada en clase. El [libro](https://mbujosab.github.io/CursoDeAlgebraLineal/libro.pdf) y el módulo [NAcAL](https://github.com/mbujosab/nacallib)\n",
    "son dependientes el uno del otro y se complementan mutuamente (la\n",
    "escritura de libro ha condicionado la escritura del módulo y\n",
    "viceversa).\n",
    "\n"
   ]
  },
  {
   "cell_type": "markdown",
   "id": "ca202029-21fe-488d-bb48-2fdc64178c56",
   "metadata": {},
   "source": [
    "#### Primer paso para usar [NAcAL](https://github.com/mbujosab/nacallib)\n",
    "\n"
   ]
  },
  {
   "cell_type": "markdown",
   "id": "93c7dc32-b4f8-4327-b1a5-514e908eb485",
   "metadata": {},
   "source": [
    "Para poder usar [NAcAL](https://github.com/mbujosab/nacallib) es necesario importar el módulo:\n",
    "\n"
   ]
  },
  {
   "cell_type": "code",
   "execution_count": 1,
   "id": "34258ddc-fea5-47d0-bbc4-a6384648d7c2",
   "metadata": {},
   "outputs": [],
   "source": [
    "from nacal import *\n",
    "from IPython.display import YouTubeVideo"
   ]
  },
  {
   "cell_type": "markdown",
   "id": "d4c05da4-786a-439a-8486-c292764f60e7",
   "metadata": {},
   "source": [
    "## Los vectores son listas de números\n",
    "\n"
   ]
  },
  {
   "cell_type": "markdown",
   "id": "ab266496-206c-4f4d-9925-342b5df9a0f2",
   "metadata": {},
   "source": [
    "*Antes de empezar, vea el siguiente vídeo y lea la introducción a la\n",
    " Lección 1 así como la Sección 1.1 del [libro](https://mbujosab.github.io/CursoDeAlgebraLineal/libro.pdf#chapter.1).*\n",
    "\n"
   ]
  },
  {
   "cell_type": "code",
   "execution_count": 2,
   "id": "2ee5d06e-423b-4c0a-b33c-6530165983d1",
   "metadata": {},
   "outputs": [
    {
     "data": {
      "image/jpeg": "[encoded data removed]",
      "text/html": [
       "\n",
       "        <iframe\n",
       "            width=\"400\"\n",
       "            height=\"300\"\n",
       "            src=\"https://www.youtube.com/embed/HWaQrbSc8WA\"\n",
       "            frameborder=\"0\"\n",
       "            allowfullscreen\n",
       "            \n",
       "        ></iframe>\n",
       "        "
      ],
      "text/plain": [
       "<IPython.lib.display.YouTubeVideo at 0x7f7eb82e4090>"
      ]
     },
     "execution_count": 2,
     "metadata": {},
     "output_type": "execute_result"
    }
   ],
   "source": [
    "YouTubeVideo('HWaQrbSc8WA')  # ejecute este bloque de código para ver el vídeo"
   ]
  },
  {
   "cell_type": "markdown",
   "id": "cda8220c-9982-4351-8ccf-bdb79befecec",
   "metadata": {},
   "source": [
    "### Definiendo vectores\n",
    "\n"
   ]
  },
  {
   "cell_type": "markdown",
   "id": "9bf18279-1c0e-4eb8-95d5-3f6ecc00154e",
   "metadata": {},
   "source": [
    "En el [libro](https://mbujosab.github.io/CursoDeAlgebraLineal/libro.pdf#section.1.1) se indica que encerrando entre paréntesis una lista de $n$\n",
    "números expresamos un vector de $\\R[n]$; por ejemplo encerrando la\n",
    "lista 20, 10, 15 entre paréntesis expresamos un vector de $\\R[3]$\n",
    "\n",
    "$$\\begin{pmatrix}20,&10,&15,\\end{pmatrix}$$\n",
    "\n",
    "Para definir un vector en [NAcAL](https://github.com/mbujosab/nacallib) es necesario indicar la\n",
    "correspondiente [lista](https://docs.python.org/es/3/tutorial/introduction.html#lists)  de números como argumento de la clase\n",
    "`Vector()`. Por ejemplo, con la lista `[20, 10, 15]` obtenemos\n",
    "\n"
   ]
  },
  {
   "cell_type": "code",
   "execution_count": 1,
   "id": "5d3c682a-df8b-4abe-96d3-7f364c83d434",
   "metadata": {},
   "outputs": [],
   "source": [
    "Vector( [20, 10, 15] )"
   ]
  },
  {
   "cell_type": "markdown",
   "id": "895f4c3e-5ef3-49dd-b36b-ffcb6812ae5c",
   "metadata": {},
   "source": [
    "Obtendremos idéntico resultado si en lugar de usar una [lista](https://ellibrodepython.com/listas-en-python), usamos\n",
    "la siguiente [tupla](https://ellibrodepython.com/tuplas-python) `(20, 10, 15)`\n",
    "\n"
   ]
  },
  {
   "cell_type": "code",
   "execution_count": 1,
   "id": "d932f30c-f7f9-4152-8ba4-e8e78fcac653",
   "metadata": {},
   "outputs": [],
   "source": [
    "a = (20, 10, 15)\n",
    "Vector( a )"
   ]
  },
  {
   "cell_type": "markdown",
   "id": "5e6c0eb5-6eaa-404d-823c-e123ee1c6800",
   "metadata": {},
   "source": [
    "La lista de números correspondiente a cada `Vector` está almacenada en\n",
    "el atributo `.lista`\n",
    "\n"
   ]
  },
  {
   "cell_type": "code",
   "execution_count": 1,
   "id": "8f15040e-bddf-4f57-9305-6a4fb41a43f1",
   "metadata": {},
   "outputs": [],
   "source": [
    "v = Vector( [0,1,2,3,4,5] )\n",
    "print(v.lista)"
   ]
  },
  {
   "cell_type": "markdown",
   "id": "ab39c729-9540-42f1-9d72-a0fa408618db",
   "metadata": {},
   "source": [
    "Realmente no es necesario usar la función `print()`, basta con escribir\n",
    "`v.lista` para ver la lista asociada al vector `v`\n",
    "\n"
   ]
  },
  {
   "cell_type": "code",
   "execution_count": 1,
   "id": "53b98914-4bbf-437d-8843-941760bab374",
   "metadata": {},
   "outputs": [],
   "source": [
    "v.lista"
   ]
  },
  {
   "cell_type": "markdown",
   "id": "54f315be-f627-43de-afdf-30812f5bc816",
   "metadata": {},
   "source": [
    "#### Haciendo copias de un vector\n",
    "\n"
   ]
  },
  {
   "cell_type": "markdown",
   "id": "23a1b4de-935d-4b47-bc9d-972ca9577602",
   "metadata": {},
   "source": [
    "Si al invocar `Vector` usamos como argumento otro vector obtenemos una copia de éste\n",
    "\n"
   ]
  },
  {
   "cell_type": "code",
   "execution_count": 1,
   "id": "fd5ef862-9246-43d2-84e7-4681cfc081ab",
   "metadata": {},
   "outputs": [],
   "source": [
    "b = Vector( a )\n",
    "b"
   ]
  },
  {
   "cell_type": "markdown",
   "id": "c2ea1269-d619-432f-a267-47a185c8f56c",
   "metadata": {},
   "source": [
    "La función `type()` de Python devuelve el tipo de cada objeto\n",
    "\n"
   ]
  },
  {
   "cell_type": "code",
   "execution_count": 1,
   "id": "9e90b3c7-8080-4836-8f79-dacf15da30e4",
   "metadata": {},
   "outputs": [],
   "source": [
    "type(b)"
   ]
  },
  {
   "cell_type": "markdown",
   "id": "8aea4447-d219-405c-be5a-466b1315d8b1",
   "metadata": {},
   "source": [
    "#### Representación de Vectores: el atributo `.rpr` de la clase `Vector`\n",
    "\n"
   ]
  },
  {
   "cell_type": "markdown",
   "id": "c27d664b-83cf-4bae-a6e5-ef2c33324926",
   "metadata": {},
   "source": [
    "Cuando el entorno de trabajo es un Notebook de Jupyter, [NAcAL](https://github.com/mbujosab/nacallib) muestra\n",
    "los vectores en forma de columna por defecto. Pero podemos indicar a\n",
    "Python que queremos una representación horizontal del `Vector`, basta\n",
    "asignar el valor `'fila'` al atributo `rpr`. *Tenga en cuenta que esto\n",
    "solo afecta a la representación* (el vector no cambia ya que la lista\n",
    "de números asociada sigue siendo la misma).\n",
    "\n",
    "Hagamos una copia de `a` con representación `fila`:\n",
    "\n"
   ]
  },
  {
   "cell_type": "code",
   "execution_count": 1,
   "id": "87cf5875-3734-4c67-93cb-b5d359d19ae1",
   "metadata": {},
   "outputs": [],
   "source": [
    "x = Vector( a, rpr='fila' )\n",
    "print(x.rpr)"
   ]
  },
  {
   "cell_type": "markdown",
   "id": "d89e2953-206a-4fcf-80b6-90feeffa0372",
   "metadata": {},
   "source": [
    "Pintemos el vector:\n",
    "\n"
   ]
  },
  {
   "cell_type": "code",
   "execution_count": 1,
   "id": "88736f74-a04c-4e4b-827e-f96fa140f479",
   "metadata": {},
   "outputs": [],
   "source": [
    "x"
   ]
  },
  {
   "cell_type": "markdown",
   "id": "a5916c88-a8f3-4446-b454-9b6446804b86",
   "metadata": {},
   "source": [
    "Para cambiar la representación de un vector previamente definido,\n",
    "basta cambiar el valor de su atributo `rpr`.\n",
    "\n"
   ]
  },
  {
   "cell_type": "code",
   "execution_count": 1,
   "id": "e5ef7a64-a195-4543-9031-8451e78acaaa",
   "metadata": {},
   "outputs": [],
   "source": [
    "x.rpr = 'col' # cualquier valor distinto de la cadena 'fila' representará en columna\n",
    "print(x.rpr)"
   ]
  },
  {
   "cell_type": "markdown",
   "id": "54b3a57f-e205-4b45-8d7f-8b5acbc18af0",
   "metadata": {},
   "source": [
    "Como el atributo `rpr` ya no es `'fila'` ahora el vector `x` es\n",
    "representado en vertical:\n",
    "\n"
   ]
  },
  {
   "cell_type": "code",
   "execution_count": 1,
   "id": "f966faff-c185-4b9c-8700-46cc614bfce7",
   "metadata": {},
   "outputs": [],
   "source": [
    "x"
   ]
  },
  {
   "cell_type": "markdown",
   "id": "cafbe18c-315a-45f6-a016-87f7a89dd25e",
   "metadata": {},
   "source": [
    "##### Representación de `Vector()` en una consola\n",
    "\n"
   ]
  },
  {
   "cell_type": "markdown",
   "id": "31d3d52f-ae57-4250-b288-4b259c937842",
   "metadata": {},
   "source": [
    "La representación en consola se limita a indicar en modo <u>texto</u> que\n",
    "el objeto es un vector, y muestra la lista de números correspondiente\n",
    "a cada vector. Podemos ver dicha representación con la función\n",
    "`print()`\n",
    "\n"
   ]
  },
  {
   "cell_type": "code",
   "execution_count": 1,
   "id": "295d3f8a-a206-4c04-a0a2-0d91811b60c7",
   "metadata": {},
   "outputs": [],
   "source": [
    "print(x)"
   ]
  },
  {
   "cell_type": "markdown",
   "id": "2062ae81-6c86-4047-a190-52a32374c276",
   "metadata": {},
   "source": [
    "#### Atributos `.lista` y `.n`\n",
    "\n"
   ]
  },
  {
   "cell_type": "markdown",
   "id": "034bafb6-a7d4-47f9-a89d-d69c1b3ec22a",
   "metadata": {},
   "source": [
    "Ya hemos visto que [NAcAL](https://github.com/mbujosab/nacallib) almacena la lista ordenada de números de cada\n",
    "`Vector` en el correspondiente atributo `.lista` de dicho `Vector`\n",
    "\n"
   ]
  },
  {
   "cell_type": "code",
   "execution_count": 1,
   "id": "03b8ae7d-4739-4935-aa83-e39fd1f50368",
   "metadata": {},
   "outputs": [],
   "source": [
    "print(x.lista)"
   ]
  },
  {
   "cell_type": "markdown",
   "id": "d2d77ee9-3c54-4227-8e68-08e74ac1c10a",
   "metadata": {},
   "source": [
    "Además, el atributo `.n` indica el número de elementos de la lista del\n",
    "`Vector`.\n",
    "\n"
   ]
  },
  {
   "cell_type": "code",
   "execution_count": 1,
   "id": "16b921f1-96dd-41ee-8f95-69825386fdd9",
   "metadata": {},
   "outputs": [],
   "source": [
    "v = Vector( (2, 4, 6) )\n",
    "v.n"
   ]
  },
  {
   "cell_type": "markdown",
   "id": "ae28cf5e-c182-4e56-84e1-f3f3db0097ae",
   "metadata": {},
   "source": [
    "#### Método `.sis()`\n",
    "\n"
   ]
  },
  {
   "cell_type": "markdown",
   "id": "2331fa65-0830-40f8-8211-41a0da28ae4b",
   "metadata": {},
   "source": [
    "En el [libro](https://mbujosab.github.io/CursoDeAlgebraLineal/libro.pdf#section.1.1) se define un vector como un sistema (i.e., una lista\n",
    "ordenada) de números y se describe la correspondiente notación para\n",
    "los sistemas en general.\n",
    "\n",
    "Podemos recuperar la representación de un `Vector` como `Sistema`\n",
    "genérico con el método `.sis()`. El método `.sis()` devuelve el vector\n",
    "en forma de `Sistema` genérico y por tanto usa la correspondiente\n",
    "representación (es decir, entre corchetes y con los elementos seguidos\n",
    "por puntos y comas tal y como se indica en el [libro](https://mbujosab.github.io/CursoDeAlgebraLineal/libro.pdf#chapter.1)).\n",
    "\n"
   ]
  },
  {
   "cell_type": "code",
   "execution_count": 1,
   "id": "06519041-929f-41db-824b-1c6dbac95d5a",
   "metadata": {},
   "outputs": [],
   "source": [
    "x.sis()"
   ]
  },
  {
   "cell_type": "markdown",
   "id": "97240ac9-fb23-4642-b7a8-c016cfa9c7d1",
   "metadata": {},
   "source": [
    "La representación en modo consola indica explícitamente que `x.sis()`\n",
    "es un sistema\n",
    "\n"
   ]
  },
  {
   "cell_type": "code",
   "execution_count": 1,
   "id": "de70d922-9fb6-462e-adce-36a7809cbe7b",
   "metadata": {},
   "outputs": [],
   "source": [
    "print(x.sis())"
   ]
  },
  {
   "cell_type": "markdown",
   "id": "1c6ccb6d-c768-444f-98a2-598ca1aede1e",
   "metadata": {},
   "source": [
    "La función `type()` también nos lo dice\n",
    "\n"
   ]
  },
  {
   "cell_type": "code",
   "execution_count": 1,
   "id": "e96d2fc2-3579-456c-b590-3f2a04de5190",
   "metadata": {},
   "outputs": [],
   "source": [
    "type(x.sis())"
   ]
  },
  {
   "cell_type": "markdown",
   "id": "d245a732-53f2-4568-8254-af75be179e69",
   "metadata": {},
   "source": [
    "#### Componentes no enteras: fracciones y números irracionales\n",
    "\n"
   ]
  },
  {
   "cell_type": "markdown",
   "id": "be6229bf-b3db-4106-90f1-d3c246fc2cb1",
   "metadata": {},
   "source": [
    "Por una parte, con `fracc(a,b)` generamos la fracción\n",
    "$\\frac{a}{b}$. Por otra, el módulo [Sympy](https://www.sympy.org/es/index.html) (que [NAcAL](https://github.com/mbujosab/nacallib) carga por defecto)\n",
    "tiene implementados muchos números irracionales. Generemos un vector\n",
    "con distintos tipos de números:\n",
    "\n"
   ]
  },
  {
   "cell_type": "code",
   "execution_count": 1,
   "id": "a1092cfa-c134-4c36-a20d-50eb6eea4554",
   "metadata": {},
   "outputs": [],
   "source": [
    "v = Vector( [7, fracc(-3, 11), sympy.sqrt(2), -sympy.pi], 'fila' )\n",
    "v"
   ]
  },
  {
   "cell_type": "markdown",
   "id": "4ed0305e-937f-4c5d-93b2-caa62a39e096",
   "metadata": {},
   "source": [
    "### Seleccionando componentes de un `Vector`\n",
    "\n"
   ]
  },
  {
   "cell_type": "markdown",
   "id": "00606100-729a-42ce-bf22-f135a43a02df",
   "metadata": {},
   "source": [
    "Podemos seleccionar componentes con el operador **barra vertical** \n",
    "(en un teclado español es la combinación de teclas `[Alt Gr] + [1]`).\n",
    "\n",
    "Por ejemplo, seleccionemos la tercera componente del vector\n",
    "$\\Vect{a}$, es decir $\\eleVR{a}{3}$\n",
    "\n"
   ]
  },
  {
   "cell_type": "code",
   "execution_count": 1,
   "id": "9cdc6b4f-ac40-4aaf-a8cb-b64505a40dee",
   "metadata": {},
   "outputs": [],
   "source": [
    "a = Vector( [10, 20, 30, 40, 50] )\n",
    "print(a|3)"
   ]
  },
  {
   "cell_type": "markdown",
   "id": "1e31869b-3193-4b99-bb9f-0ac98587c91e",
   "metadata": {},
   "source": [
    "Y ahora su quinta componente\n",
    "\n"
   ]
  },
  {
   "cell_type": "code",
   "execution_count": 1,
   "id": "d73e1336-335e-439b-9948-458185006d41",
   "metadata": {},
   "outputs": [],
   "source": [
    "a|5"
   ]
  },
  {
   "cell_type": "markdown",
   "id": "70363b1e-dd45-4532-91c0-f5c7cb326962",
   "metadata": {},
   "source": [
    "La barra vertical funciona por ambos lados del `Vector()` como\n",
    "selector de sus componentes\n",
    "\n"
   ]
  },
  {
   "cell_type": "code",
   "execution_count": 1,
   "id": "f08720a0-dcaf-4c27-8ebe-ce308a8ae445",
   "metadata": {},
   "outputs": [],
   "source": [
    "3|a"
   ]
  },
  {
   "cell_type": "markdown",
   "id": "6e09e131-0a13-4466-8a67-c406d536cefc",
   "metadata": {},
   "source": [
    "Cada elemento de un vector es un número. Con la función `type()`\n",
    "podemos ver qué el tipo de número es cada uno de los elementos. Por\n",
    "ejemplo, podemos ver el tipo de cada elemento de $\\Vect{v}$ (todos\n",
    "ellos distintos tipos de números).\n",
    "\n"
   ]
  },
  {
   "cell_type": "code",
   "execution_count": 1,
   "id": "27dcd68a-930a-4bcd-b95a-dd43b5f4d4b5",
   "metadata": {},
   "outputs": [],
   "source": [
    "v = Vector( [7, fracc(-3, 11), sympy.sqrt(2), -sympy.pi, 0.123], 'fila' )\n",
    "v"
   ]
  },
  {
   "cell_type": "code",
   "execution_count": 1,
   "id": "03cfe28b-78e5-4cc0-85a7-1cb7b3917a9d",
   "metadata": {},
   "outputs": [],
   "source": [
    "type( v|1 )"
   ]
  },
  {
   "cell_type": "code",
   "execution_count": 1,
   "id": "179b1bcc-bfdd-4fc0-84b8-9a0c2ef693ac",
   "metadata": {},
   "outputs": [],
   "source": [
    "type( v|2 )"
   ]
  },
  {
   "cell_type": "code",
   "execution_count": 1,
   "id": "2cf68e8c-f1ad-413f-bbe3-1c13fc7ef7fa",
   "metadata": {},
   "outputs": [],
   "source": [
    "type( v|3 )"
   ]
  },
  {
   "cell_type": "code",
   "execution_count": 1,
   "id": "6aa1d4c0-fb17-4d72-a8c6-9c418ed539b0",
   "metadata": {},
   "outputs": [],
   "source": [
    "type( v|4 )"
   ]
  },
  {
   "cell_type": "code",
   "execution_count": 1,
   "id": "50e4fa95-0f24-49a7-be90-11b917d36364",
   "metadata": {},
   "outputs": [],
   "source": [
    "type( v|5 )"
   ]
  },
  {
   "cell_type": "markdown",
   "id": "5ce6acdf-d040-4999-bd12-8a783e2fb24c",
   "metadata": {},
   "source": [
    "### Definiendo un vector a partir de las componentes de otro\n",
    "\n"
   ]
  },
  {
   "cell_type": "markdown",
   "id": "07f298c7-7abd-4a2a-b432-a0d899c89a48",
   "metadata": {},
   "source": [
    "*Léase la Sección 1.A del apéndice de la Lección 1 del [libro](https://mbujosab.github.io/CursoDeAlgebraLineal/libro.pdf#section.alph1.1.Alph1).*\n",
    "\n",
    "Cuando seleccionamos varios componentes de un `Vector` con una tupla\n",
    "obtenemos un `Vector`\n",
    "\n"
   ]
  },
  {
   "cell_type": "code",
   "execution_count": 1,
   "id": "6b1ed8e1-ea9c-4656-b225-3f77795994d6",
   "metadata": {},
   "outputs": [],
   "source": [
    "a"
   ]
  },
  {
   "cell_type": "markdown",
   "id": "74f8a004-b9f1-40ac-bc86-5390e1cd47c1",
   "metadata": {},
   "source": [
    "Definamos un *sub-vector* de `a`\n",
    "\n"
   ]
  },
  {
   "cell_type": "code",
   "execution_count": 1,
   "id": "1af7d313-bd39-4215-a0c6-3452f86da045",
   "metadata": {},
   "outputs": [],
   "source": [
    "a|(1,3,5)"
   ]
  },
  {
   "cell_type": "markdown",
   "id": "e140773b-03b9-4d2a-ad6c-a6e5063d9ee4",
   "metadata": {},
   "source": [
    "Definamos ahora otro vector completamente nuevo\n",
    "\n"
   ]
  },
  {
   "cell_type": "code",
   "execution_count": 1,
   "id": "9559adb7-1c86-4b94-a3f5-73790fb9b8a3",
   "metadata": {},
   "outputs": [],
   "source": [
    "a|(5,1,1,1,1,1,5)"
   ]
  },
  {
   "cell_type": "markdown",
   "id": "373417a6-9a6a-48af-86f2-00f4fc0bb0f5",
   "metadata": {},
   "source": [
    "De esta manera podemos reordenar las componentes de un vector de manera muy sencilla\n",
    "\n"
   ]
  },
  {
   "cell_type": "code",
   "execution_count": 1,
   "id": "79b2e8f1-8fd3-4b90-a5a6-82691bdb6da1",
   "metadata": {},
   "outputs": [],
   "source": [
    "a|(5,4,3,2,1)"
   ]
  },
  {
   "cell_type": "markdown",
   "id": "a97c9ffe-93cd-4c09-921d-4097c35674af",
   "metadata": {},
   "source": [
    "## Definición de algunos vectores especiales\n",
    "\n"
   ]
  },
  {
   "cell_type": "markdown",
   "id": "6c1f5022-6582-4dce-82b3-169d267e1a9a",
   "metadata": {},
   "source": [
    "Con `V0(n)` generamos un vector nulo de `n` componentes\n",
    "\n"
   ]
  },
  {
   "cell_type": "code",
   "execution_count": 1,
   "id": "e9b8b608-483b-470a-b32f-dd7ad3291640",
   "metadata": {},
   "outputs": [],
   "source": [
    "V0(3)"
   ]
  },
  {
   "cell_type": "code",
   "execution_count": 1,
   "id": "2c228450-ec14-4969-be78-741691008373",
   "metadata": {},
   "outputs": [],
   "source": [
    "V0(10, 'fila')"
   ]
  },
  {
   "cell_type": "markdown",
   "id": "d27d263f-9dcb-4614-8786-cd06b6f23cd8",
   "metadata": {},
   "source": [
    "Con con el signo `-` delante de un vector, obtenemos su opuesto\n",
    "\n"
   ]
  },
  {
   "cell_type": "code",
   "execution_count": 1,
   "id": "36ec07db-6d16-4665-9a6e-95f5ab82b008",
   "metadata": {},
   "outputs": [],
   "source": [
    "a = Vector( [2, 0, 2] )\n",
    "-a"
   ]
  },
  {
   "cell_type": "markdown",
   "id": "e6e65ff1-15d4-4365-a3e6-7d125a4dd873",
   "metadata": {},
   "source": [
    "## Igualdad de vectores\n",
    "\n"
   ]
  },
  {
   "cell_type": "markdown",
   "id": "9e2c3080-7f68-4cb5-8a07-04636dfd05ed",
   "metadata": {},
   "source": [
    "*Dos vectores son iguales si lo son las correspondientes listas\n",
    "ordenadas de números* (independientemente de si la representación es\n",
    "vertical u horizontal).\n",
    "\n",
    "Recuerde que con `v = Vector( a )` generamos un vector cuya\n",
    "representación es en forma de columna y cuya lista de componentes es\n",
    "la de `a`; y que con `w = Vector( a, rpr='fila' )` generamos otro\n",
    "vector cuya representación es en forma de fila. Veamos si, pese a su\n",
    "diferente representación, ambos vectores son iguales.\n",
    "\n",
    "El operador `==` comprueba si dos objetos son iguales (`True`) o si no\n",
    "lo son (`False`):\n",
    "\n"
   ]
  },
  {
   "cell_type": "code",
   "execution_count": 1,
   "id": "0214ebc0-efde-44c2-b9d4-eb1b4b6c5da6",
   "metadata": {},
   "outputs": [],
   "source": [
    "v = Vector( a )\n",
    "w = Vector( a, rpr='fila' )\n",
    "v == w"
   ]
  },
  {
   "cell_type": "code",
   "execution_count": 1,
   "id": "1f5f0548-09af-4162-a05a-b254e84f039a",
   "metadata": {},
   "outputs": [],
   "source": [
    "b = Vector( [-2, 0, -2] )\n",
    "a == -b"
   ]
  },
  {
   "cell_type": "markdown",
   "id": "8f301ff5-0007-401f-aee3-735ecfa6e7be",
   "metadata": {},
   "source": [
    "Dos vectores nulos con diferente número de componentes no son iguales\n",
    "\n"
   ]
  },
  {
   "cell_type": "code",
   "execution_count": 1,
   "id": "40bc1c07-8f4f-46a4-9005-69b529687068",
   "metadata": {},
   "outputs": [],
   "source": [
    "V0(2) == V0(3)"
   ]
  },
  {
   "cell_type": "markdown",
   "id": "bdbc73a2-37b9-4c11-a79a-55b13dfe673c",
   "metadata": {},
   "source": [
    "Con `!=` comprobamos si es verdadero que dos vectores son distintos\n",
    "\n"
   ]
  },
  {
   "cell_type": "code",
   "execution_count": 1,
   "id": "4d365a1d-9697-4b3f-9405-1352ae345bdb",
   "metadata": {},
   "outputs": [],
   "source": [
    "a != b      # ¿son distintos?"
   ]
  },
  {
   "cell_type": "markdown",
   "id": "d0c53081-c27d-4e52-818b-51ce732d1e64",
   "metadata": {},
   "source": [
    "## Ayuda\n",
    "\n"
   ]
  },
  {
   "cell_type": "markdown",
   "id": "b339a694-fb06-4fb1-a5c2-38eaaf2d9a73",
   "metadata": {},
   "source": [
    "Con el comando `help(objeto)` obtenemos ayuda sobre el `objeto` y sus\n",
    "procedimientos asociados\n",
    "\n"
   ]
  },
  {
   "cell_type": "code",
   "execution_count": 1,
   "id": "6bd3c824-2752-4b1e-a5d3-67f2f23fcbf3",
   "metadata": {},
   "outputs": [],
   "source": [
    "help(Vector)"
   ]
  }
 ],
 "metadata": {
  "kernelspec": {
   "display_name": "Python 3 (ipykernel)",
   "language": "python",
   "name": "python3"
  },
  "language_info": {
   "codemirror_mode": {
    "name": "ipython",
    "version": 3
   },
   "file_extension": ".py",
   "mimetype": "text/x-python",
   "name": "python",
   "nbconvert_exporter": "python",
   "pygments_lexer": "ipython3",
   "version": "3.11.2"
  },
  "org": [
   null,
   null
  ]
 },
 "nbformat": 4,
 "nbformat_minor": 5
}
