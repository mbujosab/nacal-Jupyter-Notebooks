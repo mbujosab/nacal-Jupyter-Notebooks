{
 "cells": [
  {
   "cell_type": "markdown",
   "metadata": {},
   "source": [
    "Lección 01 - Sección 1.1\n",
    "========================\n",
    "\n",
    "**Author:** Marcos Bujosa\n",
    "\n"
   ]
  },
  {
   "cell_type": "markdown",
   "metadata": {},
   "source": [
    "[NAcAL](https://github.com/mbujosab/nacallib) es un módulo de Python que implementa literalmente lo expuesto\n",
    "en el [libro](https://github.com/mbujosab/CursoDeAlgebraLineal/blob/master/libro.pdf). Así, usted puede experimentar con Python empleando una\n",
    "notación similar a la empleada en clase. El [libro](https://github.com/mbujosab/CursoDeAlgebraLineal/blob/master/libro.pdf) y el módulo [NAcAL](https://github.com/mbujosab/nacallib)\n",
    "son dependientes el uno del otro y se complementan mutuamente (la\n",
    "escritura de libro ha condicionado la escritura del módulo y\n",
    "viceversa).\n",
    "\n"
   ]
  },
  {
   "cell_type": "markdown",
   "metadata": {},
   "source": [
    "$\n",
    "\\renewcommand{\\R}[1][{}]{{\\mathbb{R}}^{#1}}\n",
    "\\renewcommand{\\Z}[1][{}]{{\\mathbb{Z}}^{#1}}\n",
    "%%%%%%%%%%%%%%%%%%%%%%%%%%%%%%%%%%%%%%%%%%%%%%%%%%%%%%%%%%%%%%%%%%%%%%%%%%%%\n",
    "\\renewcommand{\\getItem}{\\pmb{\\mid}}\n",
    "\\renewcommand{\\getitemR}[1]{\\getItem{#1}}\n",
    "\\newcommand{\\getitemL}[1]{{#1}\\getItem}\n",
    "\\renewcommand{\\elemR}[2]{{#1}^{\\phantom{\\T}}_{\\getitemR{#2}}} \n",
    "\\renewcommand{\\elemRP}[2]{{\\big(#1\\big)}^{\\phantom{\\T}}_{\\getitemR{#2}}} \n",
    "\\renewcommand{\\elemRPE}[2]{\\big({#1}^{\\phantom{\\T}}_{\\getitemR{#2}}\\big)}\n",
    "%%%%%%%%%%%%%%%%%%%%%%%%%%%%%%%%%%%%%%%%%%%%%%%%%%%%%%%%%%%%%%%%%%%%%%%%%%%%\n",
    "\\renewcommand{\\Vect}[2][{}]{{\\boldsymbol{#2}}_{#1}}\n",
    "\\renewcommand{\\eleVR}[2]  {\\elemR  {\\Vect{#1}}{#2}}\t % con subindices\n",
    "\\renewcommand{\\eleVRP}[2] {\\elemRP {\\Vect{#1}}{#2}}      % con subindices y paréntesis interior\n",
    "\\renewcommand{\\eleVRPE}[2]{\\elemRPE{\\Vect{#1}}{#2}}      % con subindices y paréntesis exterior\n",
    "%%%%%%%%%%%%%%%%%%%%%%%%%%%%%%%%%%%%%%%%%%%%%%%%%%%%%%%%%%%%%%%%%%%%%%%%%%%%\n",
    "\\renewcommand{\\VectC}[2][{}]  {\\elemR  {\\Mat{#2}}{#1}}   % con subindices\n",
    "\\renewcommand{\\VectCP}[2][{}] {\\elemRP {\\Mat{#2}}{#1}}   % con subindices y paréntesis\n",
    "\\renewcommand{\\VectCPE}[2][{}]{\\elemRPE{\\Mat{#2}}{#1}}   % con subindices y paréntesis exterior\n",
    "%%%%%%%%%%%%%%%%%%%%%%%%%%%%%%%%%%%%%%%%%%%%%%%%%%%%%%%%%%%%%%%%%%%%%%%%%%%%\n",
    "\\renewcommand{\\mat}[1]{\\mathbf{#1}}\n",
    "\\renewcommand{\\Mat} [2][{}]{{\\mat{#2}}_{#1}} \n",
    "\\renewcommand{\\T}{\\intercal}\n",
    "\\renewcommand{\\MatT}[2][{}]{{\\mat{#2}}^{\\T}_{#1}}\n",
    "\\renewcommand{\\VectCC}[2][{}]   {\\elemRR {\\Mat{#2}}{#1}}   % con ()\n",
    "\\renewcommand{\\VectCCC}[2][{}]  {\\elemRRR{\\Mat{#2}}{#1}}   % con texto \"col\"\n",
    "%SELECCIÓNA de FILAS y COlUMNAS DE UNA MATRIZ TRANSPUESTA PARA GENERAR UN VECTOR DE Rn\n",
    "\\renewcommand{\\VectTC}[2][{}]   {\\elemR{\\MatT{#2}\\!}{#1}}  % con subindices\n",
    "\\renewcommand{\\VectTCC}[2][{}]  {\\elemRR{ \\MatT{#2}}{#1}}  % con ()\n",
    "\\renewcommand{\\VectTCCC}[2][{}] {\\elemRRR{\\MatT{#2}}{#1}}  % con texto \"col\"\n",
    "\\renewcommand{\\dotprod}[2][{}] {\\Vect{#1}\\cdot\\Vect{#2}}\n",
    "$\n",
    "\n",
    "*Lea primero la Sección 1.1 de la Lección 1 del [**libro**](https://github.com/mbujosab/CursoDeAlgebraLineal/blob/master/libro.pdf)* ([https://github.com/mbujosab/CursoDeAlgebraLineal/blob/master/libro.pdf](https://github.com/mbujosab/CursoDeAlgebraLineal/blob/master/libro.pdf))\n",
    "\n"
   ]
  },
  {
   "cell_type": "markdown",
   "metadata": {},
   "source": [
    "#### Primer paso para usar [NAcAL](https://github.com/mbujosab/nacallib)\n",
    "\n"
   ]
  },
  {
   "cell_type": "markdown",
   "metadata": {},
   "source": [
    "Para poder usar [NAcAL](https://github.com/mbujosab/nacallib) es necesario importar el módulo:\n",
    "\n"
   ]
  },
  {
   "cell_type": "code",
   "execution_count": 1,
   "metadata": {},
   "outputs": [],
   "source": [
    "from nacal import *"
   ]
  },
  {
   "cell_type": "markdown",
   "metadata": {},
   "source": [
    "## Los vectores son listas de números\n",
    "\n"
   ]
  },
  {
   "cell_type": "markdown",
   "metadata": {},
   "source": [
    "### Definiendo vectores\n",
    "\n"
   ]
  },
  {
   "cell_type": "markdown",
   "metadata": {},
   "source": [
    "En el [libro](https://github.com/mbujosab/CursoDeAlgebraLineal/blob/master/libro.pdf) se indica que encerrando entre paréntesis una lista de $n$\n",
    "números expresamos un vector de $\\R[n]$; por ejemplo encerrando la\n",
    "lista 20, 10, 15 entre paréntesis expresamos un vector de $\\R[3]$\n",
    "\n",
    "$$\\begin{pmatrix}20,&10,&15,\\end{pmatrix}$$\n",
    "\n",
    "Aquí hemos implementado dicha operación poniendo una [lista](https://docs.python.org/es/3/tutorial/introduction.html#lists) o una [tupla](https://ellibrodepython.com/tuplas-python)\n",
    "de números como argumento de `Vector()`. Por ejemplo, con la lista\n",
    "`[20, 10, 15]` obtenemos\n",
    "\n"
   ]
  },
  {
   "cell_type": "code",
   "execution_count": 1,
   "metadata": {},
   "outputs": [],
   "source": [
    "Vector( [20, 10, 15] )"
   ]
  },
  {
   "cell_type": "markdown",
   "metadata": {},
   "source": [
    "$\\begin{pmatrix}20\\\\ 10\\\\ 15\\end{pmatrix}$\n",
    "\n",
    "Obtendremos idéntico resultado si en lugar de usar una [lista](https://ellibrodepython.com/listas-en-python), usamos\n",
    "la tupla `(20, 10, 15)`\n",
    "\n"
   ]
  },
  {
   "cell_type": "code",
   "execution_count": 1,
   "metadata": {},
   "outputs": [],
   "source": [
    "a = (20, 10, 15)\n",
    "Vector( a )"
   ]
  },
  {
   "cell_type": "markdown",
   "metadata": {},
   "source": [
    "$\\begin{pmatrix}20\\\\ 10\\\\ 15\\end{pmatrix}$\n",
    "\n",
    "La lista de números correspondiente a cada `Vector` está almacenada en\n",
    "el atributo `.lista`\n",
    "\n"
   ]
  },
  {
   "cell_type": "code",
   "execution_count": 1,
   "metadata": {},
   "outputs": [],
   "source": [
    "v = Vector( [0,1,2,3,4,5] )\n",
    "print(v.lista)"
   ]
  },
  {
   "cell_type": "markdown",
   "metadata": {},
   "source": [
    "[0, 1, 2, 3, 4, 5]\n",
    "\n",
    "No es necesario usar la función `print()`, basta con escribir\n",
    "`v.lista`\n",
    "\n"
   ]
  },
  {
   "cell_type": "markdown",
   "metadata": {},
   "source": [
    "#### Haciendo copias de un vector\n",
    "\n"
   ]
  },
  {
   "cell_type": "markdown",
   "metadata": {},
   "source": [
    "Si al invocar `Vector` usamos como argumento otro vector (en lugar de\n",
    "una lista o una tupla) obtenemos una copia\n",
    "\n"
   ]
  },
  {
   "cell_type": "code",
   "execution_count": 1,
   "metadata": {},
   "outputs": [],
   "source": [
    "b = Vector( a )\n",
    "b"
   ]
  },
  {
   "cell_type": "markdown",
   "metadata": {},
   "source": [
    "$\\begin{pmatrix}20\\\\ 10\\\\ 15\\end{pmatrix}$\n",
    "\n",
    "La función `type()` de Python devuelve el tipo de cada objeto\n",
    "\n"
   ]
  },
  {
   "cell_type": "code",
   "execution_count": 1,
   "metadata": {},
   "outputs": [],
   "source": [
    "type(b)"
   ]
  },
  {
   "cell_type": "markdown",
   "metadata": {},
   "source": [
    "nacal.Vector\n",
    "\n"
   ]
  },
  {
   "cell_type": "markdown",
   "metadata": {},
   "source": [
    "#### Representación de Vectores: el atributo `.rpr` de la clase `Vector`\n",
    "\n"
   ]
  },
  {
   "cell_type": "markdown",
   "metadata": {},
   "source": [
    "Cuando el entorno de trabajo es un Notebook de Jupyter, [NAcAL](https://github.com/mbujosab/nacallib) muestra\n",
    "los vectores en forma de columna. Aunque podemos indicar a Python que\n",
    "queremos una representación horizontal del `Vector` asignando el valor\n",
    "`'fila'` al atributo `rpr`. *Tenga en cuenta que esto solo afecta a la\n",
    "representación* (el vector no cambia, ya que la lista de números\n",
    "asociada no cambia).\n",
    "\n"
   ]
  },
  {
   "cell_type": "code",
   "execution_count": 1,
   "metadata": {},
   "outputs": [],
   "source": [
    "x = Vector( a, rpr='fila' )\n",
    "print(x.rpr)"
   ]
  },
  {
   "cell_type": "markdown",
   "metadata": {},
   "source": [
    "fila\n",
    "\n"
   ]
  },
  {
   "cell_type": "code",
   "execution_count": 1,
   "metadata": {},
   "outputs": [],
   "source": [
    "x"
   ]
  },
  {
   "cell_type": "markdown",
   "metadata": {},
   "source": [
    "$\\begin{pmatrix}20,& 10,& 15,\\end{pmatrix}$\n",
    "\n",
    "Para cambiar la representación de un vector basta cambiar el valor del\n",
    "atributo `rpr`.\n",
    "\n"
   ]
  },
  {
   "cell_type": "code",
   "execution_count": 1,
   "metadata": {},
   "outputs": [],
   "source": [
    "x.rpr = 'col' # cualquier valor distinto de la cadena 'fila' representará en columna\n",
    "print(x.rpr)"
   ]
  },
  {
   "cell_type": "markdown",
   "metadata": {},
   "source": [
    "col\n",
    "\n",
    "Como el atributo `rpr` ya no es `'fila'` ahora el vector $\\Vect{x}$\n",
    "es representado en vertical\n",
    "\n"
   ]
  },
  {
   "cell_type": "code",
   "execution_count": 1,
   "metadata": {},
   "outputs": [],
   "source": [
    "x"
   ]
  },
  {
   "cell_type": "markdown",
   "metadata": {},
   "source": [
    "$\\begin{pmatrix}20\\\\ 10\\\\ 15\\end{pmatrix}$\n",
    "\n"
   ]
  },
  {
   "cell_type": "markdown",
   "metadata": {},
   "source": [
    "##### Representación de `Vector()` en una consola de Python\n",
    "\n"
   ]
  },
  {
   "cell_type": "markdown",
   "metadata": {},
   "source": [
    "La representación en consola se limita a indicar con texto que el\n",
    "objeto es un vector, y muestra la lista de números correspondiente a\n",
    "cada vector. Podemos ver dicha representación con la función `print()`\n",
    "\n"
   ]
  },
  {
   "cell_type": "code",
   "execution_count": 1,
   "metadata": {},
   "outputs": [],
   "source": [
    "print(x)"
   ]
  },
  {
   "cell_type": "markdown",
   "metadata": {},
   "source": [
    "Vector([20, 10, 15])\n",
    "\n"
   ]
  },
  {
   "cell_type": "markdown",
   "metadata": {},
   "source": [
    "#### Atributos `.lista` y `.n`\n",
    "\n"
   ]
  },
  {
   "cell_type": "markdown",
   "metadata": {},
   "source": [
    "Como ya hemos visto, [NAcAL](https://github.com/mbujosab/nacallib) almacena la lista ordenada de números de\n",
    "cada `Vector` su atributo `.lista`.\n",
    "\n"
   ]
  },
  {
   "cell_type": "code",
   "execution_count": 1,
   "metadata": {},
   "outputs": [],
   "source": [
    "print(x.lista)"
   ]
  },
  {
   "cell_type": "markdown",
   "metadata": {},
   "source": [
    "[20, 10, 15]\n",
    "\n",
    "El atributo `.n` indica el número de elementos de la lista del\n",
    "`Vector`.\n",
    "\n"
   ]
  },
  {
   "cell_type": "code",
   "execution_count": 1,
   "metadata": {},
   "outputs": [],
   "source": [
    "v = Vector( (2, 4, 6) )\n",
    "v.n"
   ]
  },
  {
   "cell_type": "markdown",
   "metadata": {},
   "source": [
    "3\n",
    "\n"
   ]
  },
  {
   "cell_type": "markdown",
   "metadata": {},
   "source": [
    "#### Método `.sis()`\n",
    "\n"
   ]
  },
  {
   "cell_type": "markdown",
   "metadata": {},
   "source": [
    "En el [libro](https://github.com/mbujosab/CursoDeAlgebraLineal/blob/master/libro.pdf) se indica que un vector es sistema (lista ordenada);\n",
    "podemos recuperar el `Vector` en forma de `Sistema` genérico con el\n",
    "método `.sis()`.  [NAcAL](https://github.com/mbujosab/nacallib) representa los sistemas con la misma notación\n",
    "que el libro, es decir, entre corchetes y con los elementos seguidos\n",
    "por puntos y comas.\n",
    "\n"
   ]
  },
  {
   "cell_type": "code",
   "execution_count": 1,
   "metadata": {},
   "outputs": [],
   "source": [
    "x.sis()"
   ]
  },
  {
   "cell_type": "markdown",
   "metadata": {},
   "source": [
    "$\\left[20;\\;10;\\;15;\\right]$\n",
    "\n",
    "La representación en modo consola indica explícitamente que `x.sis()`\n",
    "es un sistema\n",
    "\n"
   ]
  },
  {
   "cell_type": "code",
   "execution_count": 1,
   "metadata": {},
   "outputs": [],
   "source": [
    "print(x.sis())"
   ]
  },
  {
   "cell_type": "markdown",
   "metadata": {},
   "source": [
    "Sistema([20; 10; 15;])\n",
    "\n",
    "La función `type()` también nos lo dice\n",
    "\n"
   ]
  },
  {
   "cell_type": "code",
   "execution_count": 1,
   "metadata": {},
   "outputs": [],
   "source": [
    "type(x.sis())"
   ]
  },
  {
   "cell_type": "markdown",
   "metadata": {},
   "source": [
    "nacal.Sistema\n",
    "\n"
   ]
  },
  {
   "cell_type": "markdown",
   "metadata": {},
   "source": [
    "#### Componentes no enteras: fracciones y números irracionales\n",
    "\n"
   ]
  },
  {
   "cell_type": "markdown",
   "metadata": {},
   "source": [
    "Por una parte, con `fracc(a,b)` generamos la fracción\n",
    "$\\frac{a}{b}$. Por otra, el módulo [Sympy](https://www.sympy.org/es/index.html) (que [NAcAL](https://github.com/mbujosab/nacallib) carga por defecto)\n",
    "tiene implementados muchos números irracionales. Generemos un vector\n",
    "con distintos tipos de números:\n",
    "\n"
   ]
  },
  {
   "cell_type": "code",
   "execution_count": 1,
   "metadata": {},
   "outputs": [],
   "source": [
    "v = Vector( [7, fracc(-3, 11), sympy.sqrt(2), -sympy.pi], 'fila' )\n",
    "v"
   ]
  },
  {
   "cell_type": "markdown",
   "metadata": {},
   "source": [
    "$\\begin{pmatrix}7,& - \\frac{3}{11},& \\sqrt{2},& - \\pi,\\end{pmatrix}$\n",
    "\n"
   ]
  },
  {
   "cell_type": "markdown",
   "metadata": {},
   "source": [
    "### Seleccionando componentes de un `Vector`\n",
    "\n"
   ]
  },
  {
   "cell_type": "markdown",
   "metadata": {},
   "source": [
    "Podemos seleccionar componentes con el operador **barra vertical** \n",
    "(en un teclado español es la combinación de teclas `[Alt Gr] + [1]`).\n",
    "\n",
    "Por ejemplo, seleccionemos la tercera componente del vector\n",
    "$\\Vect{a}$, es decir $\\eleVR{a}{3}$\n",
    "\n"
   ]
  },
  {
   "cell_type": "code",
   "execution_count": 1,
   "metadata": {},
   "outputs": [],
   "source": [
    "a = Vector( [10, 20, 30, 40, 50] )\n",
    "print(a|3)"
   ]
  },
  {
   "cell_type": "markdown",
   "metadata": {},
   "source": [
    "30\n",
    "\n",
    "Y ahora su quinta componente\n",
    "\n"
   ]
  },
  {
   "cell_type": "code",
   "execution_count": 1,
   "metadata": {},
   "outputs": [],
   "source": [
    "a|5"
   ]
  },
  {
   "cell_type": "markdown",
   "metadata": {},
   "source": [
    "50\n",
    "\n",
    "La barra vertical funciona por ambos lados del `Vector()` como\n",
    "selector de sus componentes\n",
    "\n"
   ]
  },
  {
   "cell_type": "code",
   "execution_count": 1,
   "metadata": {},
   "outputs": [],
   "source": [
    "3|a"
   ]
  },
  {
   "cell_type": "markdown",
   "metadata": {},
   "source": [
    "30\n",
    "\n",
    "Cada elemento de un vector es un número. Con la función `type()`\n",
    "podemos ver qué el tipo de número es cada uno de los elementos. Por\n",
    "ejemplo, podemos ver el tipo de cada elemento de \\Vect{v} (todos ellos\n",
    "distintos tipos de números).\n",
    "\n"
   ]
  },
  {
   "cell_type": "code",
   "execution_count": 1,
   "metadata": {},
   "outputs": [],
   "source": [
    "v = Vector( [7, fracc(-3, 11), sympy.sqrt(2), -sympy.pi, 0.123], 'fila' )\n",
    "v"
   ]
  },
  {
   "cell_type": "markdown",
   "metadata": {},
   "source": [
    "$\\begin{pmatrix}7,& - \\frac{3}{11},& \\sqrt{2},& - \\pi,& 0.123,\\end{pmatrix}$\n",
    "\n"
   ]
  },
  {
   "cell_type": "code",
   "execution_count": 1,
   "metadata": {},
   "outputs": [],
   "source": [
    "type( v|1 )"
   ]
  },
  {
   "cell_type": "markdown",
   "metadata": {},
   "source": [
    "int\n",
    "\n"
   ]
  },
  {
   "cell_type": "code",
   "execution_count": 1,
   "metadata": {},
   "outputs": [],
   "source": [
    "type( v|2 )"
   ]
  },
  {
   "cell_type": "markdown",
   "metadata": {},
   "source": [
    "sympy.core.numbers.Rational\n",
    "\n"
   ]
  },
  {
   "cell_type": "code",
   "execution_count": 1,
   "metadata": {},
   "outputs": [],
   "source": [
    "type( v|3 )"
   ]
  },
  {
   "cell_type": "markdown",
   "metadata": {},
   "source": [
    "sympy.core.power.Pow\n",
    "\n"
   ]
  },
  {
   "cell_type": "code",
   "execution_count": 1,
   "metadata": {},
   "outputs": [],
   "source": [
    "type( v|4 )"
   ]
  },
  {
   "cell_type": "markdown",
   "metadata": {},
   "source": [
    "sympy.core.mul.Mul\n",
    "\n"
   ]
  },
  {
   "cell_type": "code",
   "execution_count": 1,
   "metadata": {},
   "outputs": [],
   "source": [
    "type( v|5 )"
   ]
  },
  {
   "cell_type": "markdown",
   "metadata": {},
   "source": [
    "float\n",
    "\n"
   ]
  },
  {
   "cell_type": "markdown",
   "metadata": {},
   "source": [
    "### Definiendo un vector a partir de las componentes de otro\n",
    "\n"
   ]
  },
  {
   "cell_type": "markdown",
   "metadata": {},
   "source": [
    "Cuando seleccionamos varios componentes de un `Vector` con una tupla\n",
    "obtenemos un `Vector`\n",
    "\n"
   ]
  },
  {
   "cell_type": "code",
   "execution_count": 1,
   "metadata": {},
   "outputs": [],
   "source": [
    "a"
   ]
  },
  {
   "cell_type": "markdown",
   "metadata": {},
   "source": [
    "$\\begin{pmatrix}10\\\\ 20\\\\ 30\\\\ 40\\\\ 50\\end{pmatrix}$\n",
    "\n",
    "Definamos un *sub-vector* de `a`\n",
    "\n"
   ]
  },
  {
   "cell_type": "code",
   "execution_count": 1,
   "metadata": {},
   "outputs": [],
   "source": [
    "a|(1,3,5)"
   ]
  },
  {
   "cell_type": "markdown",
   "metadata": {},
   "source": [
    "$\\begin{pmatrix}10\\\\ 30\\\\ 50\\end{pmatrix}$\n",
    "\n",
    "Definamos ahora otro vector completamente nuevo\n",
    "\n"
   ]
  },
  {
   "cell_type": "code",
   "execution_count": 1,
   "metadata": {},
   "outputs": [],
   "source": [
    "a|(5,1,1,1,1,1,5)"
   ]
  },
  {
   "cell_type": "markdown",
   "metadata": {},
   "source": [
    "$\\begin{pmatrix}50\\\\ 10\\\\ 10\\\\ 10\\\\ 10\\\\ 10\\\\ 50\\end{pmatrix}$\n",
    "\n",
    "De esta manera podemos reordenar las componentes de un vector de manera muy sencilla\n",
    "\n"
   ]
  },
  {
   "cell_type": "code",
   "execution_count": 1,
   "metadata": {},
   "outputs": [],
   "source": [
    "a|(5,4,3,2,1)"
   ]
  },
  {
   "cell_type": "markdown",
   "metadata": {},
   "source": [
    "$\\begin{pmatrix}50\\\\ 40\\\\ 30\\\\ 20\\\\ 10\\end{pmatrix}$\n",
    "\n"
   ]
  },
  {
   "cell_type": "markdown",
   "metadata": {},
   "source": [
    "## Definición de algunos vectores especiales\n",
    "\n"
   ]
  },
  {
   "cell_type": "markdown",
   "metadata": {},
   "source": [
    "Con `V0(n)` generamos un vector nulo de `n` componentes\n",
    "\n"
   ]
  },
  {
   "cell_type": "code",
   "execution_count": 1,
   "metadata": {},
   "outputs": [],
   "source": [
    "V0(3)"
   ]
  },
  {
   "cell_type": "markdown",
   "metadata": {},
   "source": [
    "$\\begin{pmatrix}0\\\\ 0\\\\ 0\\end{pmatrix}$\n",
    "\n"
   ]
  },
  {
   "cell_type": "code",
   "execution_count": 1,
   "metadata": {},
   "outputs": [],
   "source": [
    "V0(10, 'fila')"
   ]
  },
  {
   "cell_type": "markdown",
   "metadata": {},
   "source": [
    "$\\begin{pmatrix}0,& 0,& 0,& 0,& 0,& 0,& 0,& 0,& 0,& 0,\\end{pmatrix}$\n",
    "\n",
    "Con con el signo `-` delante de un vector, obtenemos su opuesto\n",
    "\n"
   ]
  },
  {
   "cell_type": "code",
   "execution_count": 1,
   "metadata": {},
   "outputs": [],
   "source": [
    "a = Vector( [2, 0, 2] )\n",
    "-a"
   ]
  },
  {
   "cell_type": "markdown",
   "metadata": {},
   "source": [
    "$\\begin{pmatrix}-2\\\\ 0\\\\ -2\\end{pmatrix}$\n",
    "\n"
   ]
  },
  {
   "cell_type": "markdown",
   "metadata": {},
   "source": [
    "## Igualdad de vectores\n",
    "\n"
   ]
  },
  {
   "cell_type": "markdown",
   "metadata": {},
   "source": [
    "Dos vectores son iguales si lo son las correspondientes listas\n",
    "ordenadas de números (independientemente de si la representación es\n",
    "vertical u horizontal).\n",
    "\n",
    "Con `==` comprobamos si es verdadero que dos vectores son iguales\n",
    "\n"
   ]
  },
  {
   "cell_type": "code",
   "execution_count": 1,
   "metadata": {},
   "outputs": [],
   "source": [
    "v = Vector( a )\n",
    "w = Vector( a, rpr='fila' )\n",
    "v == w"
   ]
  },
  {
   "cell_type": "markdown",
   "metadata": {},
   "source": [
    "True\n",
    "\n"
   ]
  },
  {
   "cell_type": "code",
   "execution_count": 1,
   "metadata": {},
   "outputs": [],
   "source": [
    "b = Vector( [-2, 0, -2] )\n",
    "a == -b"
   ]
  },
  {
   "cell_type": "markdown",
   "metadata": {},
   "source": [
    "True\n",
    "\n",
    "Dos vectores nulos con diferente número de componentes no son iguales\n",
    "\n"
   ]
  },
  {
   "cell_type": "code",
   "execution_count": 1,
   "metadata": {},
   "outputs": [],
   "source": [
    "V0(2) == V0(3)"
   ]
  },
  {
   "cell_type": "markdown",
   "metadata": {},
   "source": [
    "False\n",
    "\n",
    "Con `!=` comprobamos si es verdadero que dos vectores son distintos\n",
    "\n"
   ]
  },
  {
   "cell_type": "code",
   "execution_count": 1,
   "metadata": {},
   "outputs": [],
   "source": [
    "a != b      # ¿son distintos?"
   ]
  },
  {
   "cell_type": "markdown",
   "metadata": {},
   "source": [
    "True\n",
    "\n"
   ]
  },
  {
   "cell_type": "markdown",
   "metadata": {},
   "source": [
    "## Ayuda\n",
    "\n"
   ]
  },
  {
   "cell_type": "markdown",
   "metadata": {},
   "source": [
    "Con el comando `help(objeto)` obtenemos ayuda sobre el `objeto` y sus\n",
    "procedimientos asociados\n",
    "\n"
   ]
  },
  {
   "cell_type": "code",
   "execution_count": 1,
   "metadata": {},
   "outputs": [],
   "source": [
    "help(Vector)"
   ]
  }
 ],
 "metadata": {
  "kernelspec": {
   "display_name": "Python 3",
   "language": "python",
   "name": "python3"
  },
  "language_info": {
   "codemirror_mode": {
    "name": "ipython",
    "version": 3
   },
   "file_extension": ".py",
   "mimetype": "text/x-python",
   "name": "python",
   "nbconvert_exporter": "python",
   "pygments_lexer": "ipython3",
   "version": "3.9.2"
  },
  "org": [
   null,
   null
  ]
 },
 "nbformat": 4,
 "nbformat_minor": 1
}
