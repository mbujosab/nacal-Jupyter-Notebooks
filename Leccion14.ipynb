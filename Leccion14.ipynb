{
 "cells": [
  {
   "cell_type": "markdown",
   "id": "opposed-saying",
   "metadata": {},
   "source": [
    "$\n",
    "\\renewcommand{\\R}[1][{}]{{\\mathbb{R}}^{#1}}\n",
    "\\renewcommand{\\Z}[1][{}]{{\\mathbb{Z}}^{#1}}\n",
    "%%%%%%%%%%%%%%%%%%%%%%%%%%%%%%%%%%%%%%%%%%%%%%%%%%%%%%%%%%%%%%%%%%%%%%%%%%%%\n",
    "\\renewcommand{\\getItem}{\\pmb{\\mid}}\n",
    "\\renewcommand{\\getitemR}[1]{\\getItem{#1}}\n",
    "\\newcommand{\\getitemL}[1]{{#1}\\getItem}\n",
    "\\renewcommand{\\elemR}[2]{{#1}^{\\phantom{\\T}}_{\\getitemR{#2}}} \n",
    "\\renewcommand{\\elemRP}[2]{{\\big(#1\\big)}^{\\phantom{\\T}}_{\\getitemR{#2}}} \n",
    "\\renewcommand{\\elemRPE}[2]{\\big({#1}^{\\phantom{\\T}}_{\\getitemR{#2}}\\big)}\n",
    "%%%%%%%%%%%%%%%%%%%%%%%%%%%%%%%%%%%%%%%%%%%%%%%%%%%%%%%%%%%%%%%%%%%%%%%%%%%%\n",
    "\\renewcommand{\\Vect}[2][{}]{{\\boldsymbol{#2}}_{#1}}\n",
    "\\renewcommand{\\eleVR}[2]  {\\elemR  {\\Vect{#1}}{#2}}      % con subindices\n",
    "\\renewcommand{\\eleVRP}[2] {\\elemRP {\\Vect{#1}}{#2}}      % con subindices y paréntesis interior\n",
    "\\renewcommand{\\eleVRPE}[2]{\\elemRPE{\\Vect{#1}}{#2}}      % con subindices y paréntesis exterior\n",
    "%%%%%%%%%%%%%%%%%%%%%%%%%%%%%%%%%%%%%%%%%%%%%%%%%%%%%%%%%%%%%%%%%%%%%%%%%%%%\n",
    "\\renewcommand{\\VectC}[2][{}]  {\\elemR  {\\Mat{#2}}{#1}}   % con subindices\n",
    "\\renewcommand{\\VectCP}[2][{}] {\\elemRP {\\Mat{#2}}{#1}}   % con subindices y paréntesis\n",
    "\\renewcommand{\\VectCPE}[2][{}]{\\elemRPE{\\Mat{#2}}{#1}}   % con subindices y paréntesis exterior\n",
    "%%%%%%%%%%%%%%%%%%%%%%%%%%%%%%%%%%%%%%%%%%%%%%%%%%%%%%%%%%%%%%%%%%%%%%%%%%%%\n",
    "\\renewcommand{\\mat}[1]{\\mathbf{#1}}\n",
    "\\renewcommand{\\Mat} [2][{}]{{\\mat{#2}}_{#1}} \n",
    "\\renewcommand{\\T}{\\intercal}\n",
    "\\renewcommand{\\MatT}[2][{}]{{\\mat{#2}}^{\\T}_{#1}}\n",
    "\\renewcommand{\\VectCC}[2][{}]   {\\elemRR {\\Mat{#2}}{#1}}   % con ()\n",
    "\\renewcommand{\\VectCCC}[2][{}]  {\\elemRRR{\\Mat{#2}}{#1}}   % con texto \"col\"\n",
    "%SELECCIÓNA de FILAS y COlUMNAS DE UNA MATRIZ TRANSPUESTA PARA GENERAR UN VECTOR DE Rn\n",
    "\\renewcommand{\\VectTC}[2][{}]   {\\elemR{\\MatT{#2}\\!}{#1}}  % con subindices\n",
    "\\renewcommand{\\VectTCC}[2][{}]  {\\elemRR{ \\MatT{#2}}{#1}}  % con ()\n",
    "\\renewcommand{\\VectTCCC}[2][{}] {\\elemRRR{\\MatT{#2}}{#1}}  % con texto \"col\"\n",
    "\\renewcommand{\\dotprod}[2][{}] {\\Vect{#1}\\cdot\\Vect{#2}}\n",
    "$"
   ]
  },
  {
   "cell_type": "markdown",
   "id": "subject-perspective",
   "metadata": {},
   "source": [
    "${\\huge\\text{Jupyter notebook de la Lección 14}}$"
   ]
  },
  {
   "cell_type": "markdown",
   "id": "wireless-oliver",
   "metadata": {},
   "source": [
    "**Índice de contenidos de este notebook** \n",
    "(Requiere ejecutar todo el Notebook para que aparezca el índice)\n",
    "<div id=\"toc\"></div>"
   ]
  },
  {
   "cell_type": "code",
   "execution_count": null,
   "id": "logical-southwest",
   "metadata": {},
   "outputs": [],
   "source": [
    "from nacal import *"
   ]
  },
  {
   "cell_type": "code",
   "execution_count": null,
   "id": "naked-trial",
   "metadata": {},
   "outputs": [],
   "source": [
    "from IPython.display import YouTubeVideo"
   ]
  },
  {
   "cell_type": "markdown",
   "id": "excess-bullet",
   "metadata": {},
   "source": [
    "# Calculo por eliminación Gaussiana\n",
    "Vea el sexto vídeo sobre determinantes"
   ]
  },
  {
   "cell_type": "code",
   "execution_count": null,
   "id": "bright-survivor",
   "metadata": {},
   "outputs": [],
   "source": [
    "YouTubeVideo('kPQKkL5mQe4')"
   ]
  },
  {
   "cell_type": "markdown",
   "id": "responsible-absorption",
   "metadata": {},
   "source": [
    "Ahora lea hasta la sección 14.2 (inclusive) de la Lección 14 del\n",
    "[**libro**](https://github.com/mbujosab/CursoDeAlgebraLineal/blob/master/libro.pdf)\n",
    "e intente repetir de nuevo las demostraciones."
   ]
  },
  {
   "cell_type": "code",
   "execution_count": null,
   "id": "severe-australian",
   "metadata": {},
   "outputs": [],
   "source": [
    "A = Matrix( [[1,5], [2,3]])\n",
    "A"
   ]
  },
  {
   "cell_type": "code",
   "execution_count": null,
   "id": "virgin-platform",
   "metadata": {},
   "outputs": [],
   "source": [
    "Determinante(A,1)"
   ]
  },
  {
   "cell_type": "code",
   "execution_count": null,
   "id": "miniature-moore",
   "metadata": {},
   "outputs": [],
   "source": [
    "A = Matrix( [[0,2,1], [9,6,3], [0,1,1]])\n",
    "A"
   ]
  },
  {
   "cell_type": "code",
   "execution_count": null,
   "id": "nearby-public",
   "metadata": {},
   "outputs": [],
   "source": [
    "Determinante(A,1)"
   ]
  },
  {
   "cell_type": "code",
   "execution_count": null,
   "id": "damaged-reputation",
   "metadata": {},
   "outputs": [],
   "source": [
    "a, b, c, d, e, f, g, h, i = sympy.symbols('a b c d e f g h i')"
   ]
  },
  {
   "cell_type": "markdown",
   "id": "written-chrome",
   "metadata": {},
   "source": [
    "Asumiendo que $a\\ne0$"
   ]
  },
  {
   "cell_type": "code",
   "execution_count": null,
   "id": "precise-steps",
   "metadata": {},
   "outputs": [],
   "source": [
    "D = Matrix([[a,b],[c,d]])\n",
    "Determinante(D,1)"
   ]
  },
  {
   "cell_type": "code",
   "execution_count": null,
   "id": "sexual-singer",
   "metadata": {},
   "outputs": [],
   "source": [
    "A = Matrix([[a,b,c],[d,e,f],[g,h,i]])"
   ]
  },
  {
   "cell_type": "markdown",
   "id": "prime-fairy",
   "metadata": {},
   "source": [
    "Asumiendo que $\\;a\\ne0,\\;$ y que $\\;(ae-bd)\\ne0$:"
   ]
  },
  {
   "cell_type": "code",
   "execution_count": null,
   "id": "attached-portal",
   "metadata": {},
   "outputs": [],
   "source": [
    "Determinante(A,1)"
   ]
  },
  {
   "cell_type": "markdown",
   "id": "presidential-startup",
   "metadata": {},
   "source": [
    "---- FIN DE LA LECCIÓN -----\n",
    "\n",
    "Lo que sigue es solo para crear un índice de contenidos de este notebook \n",
    "(que se muestra al principio de la página)"
   ]
  },
  {
   "cell_type": "code",
   "execution_count": null,
   "id": "aggregate-insert",
   "metadata": {},
   "outputs": [],
   "source": [
    "%%javascript\n",
    "$.getScript('https://kmahelona.github.io/ipython_notebook_goodies/ipython_notebook_toc.js')"
   ]
  }
 ],
 "metadata": {},
 "nbformat": 4,
 "nbformat_minor": 5
}
