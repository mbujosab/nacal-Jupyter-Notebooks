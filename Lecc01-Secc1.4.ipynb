{
 "cells": [
  {
   "cell_type": "markdown",
   "metadata": {},
   "source": [
    "Lección 01 - Sección 1.4\n",
    "========================\n",
    "\n",
    "**Author:** Marcos Bujosa\n",
    "\n"
   ]
  },
  {
   "cell_type": "markdown",
   "metadata": {},
   "source": [
    "*Lea primero la [Sección 1.4](https://mbujosab.github.io/CursoDeAlgebraLineal/libro.pdf#section.1.4) del [libro](https://mbujosab.github.io/CursoDeAlgebraLineal).*\n",
    "\n"
   ]
  },
  {
   "cell_type": "code",
   "execution_count": 1,
   "metadata": {},
   "outputs": [],
   "source": [
    "from nacal import *"
   ]
  },
  {
   "cell_type": "markdown",
   "metadata": {},
   "source": [
    "$\n",
    "\\newcommand{\\R}[1][{}]{{\\mathbb{R}}^{#1}}\n",
    "\\newcommand{\\Z}[1][{}]{{\\mathbb{Z}}^{#1}}\n",
    "%%%%%%%%%%%%%%%%%%%%%%%%%%%%%%%%%%%%%%%%%%%%%%%%%%%%%%%%%%%%%%%%%%%%%%%%%%%%\n",
    "\\newcommand{\\getItem}{\\pmb{\\mid}}\n",
    "\\newcommand{\\getitemR}[1]{\\getItem{#1}}\n",
    "\\newcommand{\\getitemL}[1]{{#1}\\getItem}\n",
    "\\newcommand{\\elemR}[2]{{#1}^{\\phantom{\\T}}_{\\getitemR{#2}}} \n",
    "\\newcommand{\\elemRP}[2]{{\\big(#1\\big)}^{\\phantom{\\T}}_{\\getitemR{#2}}} \n",
    "\\newcommand{\\elemRPE}[2]{\\big({#1}^{\\phantom{\\T}}_{\\getitemR{#2}}\\big)}\n",
    "%%%%%%%%%%%%%%%%%%%%%%%%%%%%%%%%%%%%%%%%%%%%%%%%%%%%%%%%%%%%%%%%%%%%%%%%%%%%\n",
    "\\newcommand{\\Vect}[2][{}]{{\\boldsymbol{#2}}_{#1}}\n",
    "\\newcommand{\\eleVR}[2]  {\\elemR  {\\Vect{#1}}{#2}}\t % con subindices\n",
    "\\newcommand{\\eleVRP}[2] {\\elemRP {\\Vect{#1}}{#2}}      % con subindices y paréntesis interior\n",
    "\\newcommand{\\eleVRPE}[2]{\\elemRPE{\\Vect{#1}}{#2}}      % con subindices y paréntesis exterior\n",
    "%%%%%%%%%%%%%%%%%%%%%%%%%%%%%%%%%%%%%%%%%%%%%%%%%%%%%%%%%%%%%%%%%%%%%%%%%%%%\n",
    "\\newcommand{\\VectC}[2][{}]  {\\elemR  {\\Mat{#2}}{#1}}   % con subindices\n",
    "\\newcommand{\\VectCP}[2][{}] {\\elemRP {\\Mat{#2}}{#1}}   % con subindices y paréntesis\n",
    "\\newcommand{\\VectCPE}[2][{}]{\\elemRPE{\\Mat{#2}}{#1}}   % con subindices y paréntesis exterior\n",
    "%%%%%%%%%%%%%%%%%%%%%%%%%%%%%%%%%%%%%%%%%%%%%%%%%%%%%%%%%%%%%%%%%%%%%%%%%%%%\n",
    "\\newcommand{\\mat}[1]{\\boldsymbol{\\mathsf{#1}}}\n",
    "\\newcommand{\\Mat} [2][{}]{{\\mat{#2}}_{#1}} \n",
    "\\newcommand{\\T}{\\intercal}\n",
    "\\newcommand{\\MatT}[2][{}]{{\\mat{#2}}^{\\T}_{#1}}\n",
    "\\newcommand{\\VectCC}[2][{}]   {\\elemRR {\\Mat{#2}}{#1}}   % con ()\n",
    "\\newcommand{\\VectCCC}[2][{}]  {\\elemRRR{\\Mat{#2}}{#1}}   % con texto \"col\"\n",
    "%SELECCIÓNA de FILAS y COlUMNAS DE UNA MATRIZ TRANSPUESTA PARA GENERAR UN VECTOR DE Rn\n",
    "\\newcommand{\\VectTC}[2][{}]   {\\elemR{\\MatT{#2}\\!}{#1}}  % con subindices\n",
    "\\newcommand{\\VectTCC}[2][{}]  {\\elemRR{ \\MatT{#2}}{#1}}  % con ()\n",
    "\\newcommand{\\VectTCCC}[2][{}] {\\elemRRR{\\MatT{#2}}{#1}}  % con texto \"col\"\n",
    "\\newcommand{\\dotprod}[2][{}] {\\Vect{#1}\\cdot\\Vect{#2}}\n",
    "$\n",
    "\n"
   ]
  },
  {
   "cell_type": "markdown",
   "metadata": {},
   "source": [
    "## Matrices de $\\R[m\\times n]$\n",
    "\n"
   ]
  },
  {
   "cell_type": "markdown",
   "metadata": {},
   "source": [
    "### Definiendo matrices\n",
    "\n"
   ]
  },
  {
   "cell_type": "markdown",
   "metadata": {},
   "source": [
    "En el [libro](https://mbujosab.github.io/CursoDeAlgebraLineal/libro.pdf#section.1.4) se dice que al encerrar entre corchetes una lista de\n",
    "vectores (con el mismo número de componentes) *expresamos* la matriz\n",
    "cuyas columnas son los vectores de la citada lista. [NAcAL](https://github.com/mbujosab/nacallib) implementa\n",
    "dicha operación poniendo una lista o tupla de vectores con el mismo\n",
    "número de componentes como argumento de la clase `Matrix()`.\n",
    "\n",
    "Así, si en el [libro](https://mbujosab.github.io/CursoDeAlgebraLineal/libro.pdf#section.1.4) se indica que al encerrar la lista de vectores\n",
    "$(1, 2,)$, $(1, 0,)$, y $(9, 2,)$ entre corchetes expresamos la matriz\n",
    "de $\\R[2\\times 3]$\n",
    "\n",
    "$$\\begin{bmatrix}1&1&9\\\\2&0&2\\end{bmatrix}$$\n",
    "\n",
    "Con [NAcAL](https://github.com/mbujosab/nacallib) lograremos lo mismo poniendo la lista de vectores como\n",
    "argumento de la clase `Matrix( )`\n",
    "\n"
   ]
  },
  {
   "cell_type": "code",
   "execution_count": 1,
   "metadata": {},
   "outputs": [],
   "source": [
    "a = Vector( [1,2] )\n",
    "b = Vector( [1,0] )\n",
    "c = Vector( [9,2] )\n",
    "D = Matrix( [a,b,c] )"
   ]
  },
  {
   "cell_type": "code",
   "execution_count": 1,
   "metadata": {},
   "outputs": [],
   "source": [
    "D                     # representación de la matriz en Jupyter Notebook"
   ]
  },
  {
   "cell_type": "markdown",
   "metadata": {},
   "source": [
    "También podemos instanciar una matriz mediante una lista (o tupla) de\n",
    "listas o tuplas. En este caso, estaremos describiendo la matriz fila a\n",
    "fila:\n",
    "\n"
   ]
  },
  {
   "cell_type": "code",
   "execution_count": 1,
   "metadata": {},
   "outputs": [],
   "source": [
    "A = Matrix( ( [1,1], [2,4], [3,9] ) )\n",
    "A"
   ]
  },
  {
   "cell_type": "markdown",
   "metadata": {},
   "source": [
    "Esta segunda forma de construir matrices (*fila a fila* en lugar de\n",
    "*columna a columna*) resulta cómoda en la práctica al usar [NAcAL](https://github.com/mbujosab/nacallib)\n",
    "(aunque no es la descrita en el [libro](https://mbujosab.github.io/CursoDeAlgebraLineal/libro.pdf#section.1.4)).\n",
    "\n"
   ]
  },
  {
   "cell_type": "markdown",
   "metadata": {},
   "source": [
    "#### Atributo: `.lista`\n",
    "\n"
   ]
  },
  {
   "cell_type": "markdown",
   "metadata": {},
   "source": [
    "[NAcAL](https://github.com/mbujosab/nacallib) almacena la lista ordenada de vectores (*de columnas*) de cada\n",
    "`Matrix()` en su atributo `.lista`.\n",
    "\n"
   ]
  },
  {
   "cell_type": "code",
   "execution_count": 1,
   "metadata": {},
   "outputs": [],
   "source": [
    "print( A.lista )"
   ]
  },
  {
   "cell_type": "markdown",
   "metadata": {},
   "source": [
    "#### Orden de la matriz. Atributos: `.m` y `.n`\n",
    "\n"
   ]
  },
  {
   "cell_type": "markdown",
   "metadata": {},
   "source": [
    "El atributo `.m` nos indica el número de filas de la matriz y el\n",
    "atributo `.n` su número de columnas. Así, el orden de $\\Mat{A}$ es\n",
    "\n"
   ]
  },
  {
   "cell_type": "code",
   "execution_count": 1,
   "metadata": {},
   "outputs": [],
   "source": [
    "print( A.m )\n",
    "print( A.n )"
   ]
  },
  {
   "cell_type": "markdown",
   "metadata": {},
   "source": [
    "#### Método: `.sis()`\n",
    "\n"
   ]
  },
  {
   "cell_type": "markdown",
   "metadata": {},
   "source": [
    "Se puede expresar una matriz en forma de `Sistema()` genérico con el\n",
    "método `.sis()`\n",
    "\n"
   ]
  },
  {
   "cell_type": "code",
   "execution_count": 1,
   "metadata": {},
   "outputs": [],
   "source": [
    "A.sis()"
   ]
  },
  {
   "cell_type": "markdown",
   "metadata": {},
   "source": [
    "### Seleccionando filas, columnas y componentes.\n",
    "\n"
   ]
  },
  {
   "cell_type": "markdown",
   "metadata": {},
   "source": [
    "(Secciones [1.4.1](https://mbujosab.github.io/CursoDeAlgebraLineal/libro.pdf#subsection.1.4.1) a [1.4.4](https://mbujosab.github.io/CursoDeAlgebraLineal/libro.pdf#subsection.1.4.4) del libro)\n",
    "\n",
    "Obtengamos el vector correspondiente a la *j*-ésima columna de\n",
    "$\\Mat{A}$ (donde $j=2$)\n",
    "\n"
   ]
  },
  {
   "cell_type": "code",
   "execution_count": 1,
   "metadata": {},
   "outputs": [],
   "source": [
    "A|2"
   ]
  },
  {
   "cell_type": "markdown",
   "metadata": {},
   "source": [
    "y ahora el vector correspondiente a la *i*-ésima fila de $\\Mat{A}$\n",
    "(donde $i=1$)\n",
    "\n"
   ]
  },
  {
   "cell_type": "code",
   "execution_count": 1,
   "metadata": {},
   "outputs": [],
   "source": [
    "1|A"
   ]
  },
  {
   "cell_type": "markdown",
   "metadata": {},
   "source": [
    "Podemos seleccionar la componente situada en la tercera fila y segunda \n",
    "columna de $\\Mat{A}$ del siguiente modo:\n",
    "\n"
   ]
  },
  {
   "cell_type": "code",
   "execution_count": 1,
   "metadata": {},
   "outputs": [],
   "source": [
    "3|A|2"
   ]
  },
  {
   "cell_type": "markdown",
   "metadata": {},
   "source": [
    "Cuando seleccionamos un elemento de una matriz obtenemos un número.\n",
    "(recuerde que Python implementa distintos tipos de números: tipo `int`\n",
    "es un número entero, tipo `float` es un número con decimales y tipo\n",
    "`Fraction` es un número racionales decir, un entero dividido por otro\n",
    "entero, y el su módulo [Sympy](https://www.sympy.org/es/index.html) implementa muchos números irracionales).\n",
    "\n"
   ]
  },
  {
   "cell_type": "code",
   "execution_count": 1,
   "metadata": {},
   "outputs": [],
   "source": [
    "type( 1|A|1 )"
   ]
  },
  {
   "cell_type": "markdown",
   "metadata": {},
   "source": [
    "Cuando seleccionamos una fila o una columna de una matriz obtenemos un\n",
    "`Vector()`\n",
    "\n"
   ]
  },
  {
   "cell_type": "code",
   "execution_count": 1,
   "metadata": {},
   "outputs": [],
   "source": [
    "type( A|2 )"
   ]
  },
  {
   "cell_type": "code",
   "execution_count": 1,
   "metadata": {},
   "outputs": [],
   "source": [
    "type( 1|A )"
   ]
  },
  {
   "cell_type": "markdown",
   "metadata": {},
   "source": [
    "Consecuentemente tenemos varias formas de seleccionar un elemento de\n",
    "una `Matrix()` (véase la Sección \"[1.4.4 Extensión de la notación\n",
    "vectorial y reglas de reescritura](https://mbujosab.github.io/CursoDeAlgebraLineal/libro.pdf#subsection.1.4.4)\" del [libro](https://mbujosab.github.io/CursoDeAlgebraLineal))\n",
    "\n",
    "Por ejemplo, para obtener la componente situada en la tercera fila y\n",
    "segunda columna de $\\Mat{A}$ podemos seguir estas tres vías (entre\n",
    "otras). Por ejemplo\n",
    "\n"
   ]
  },
  {
   "cell_type": "code",
   "execution_count": 1,
   "metadata": {},
   "outputs": [],
   "source": [
    "3|A|2"
   ]
  },
  {
   "cell_type": "markdown",
   "metadata": {},
   "source": [
    "pero también\n",
    "\n"
   ]
  },
  {
   "cell_type": "code",
   "execution_count": 1,
   "metadata": {},
   "outputs": [],
   "source": [
    "(A|2)|3"
   ]
  },
  {
   "cell_type": "markdown",
   "metadata": {},
   "source": [
    "o también\n",
    "\n"
   ]
  },
  {
   "cell_type": "code",
   "execution_count": 1,
   "metadata": {},
   "outputs": [],
   "source": [
    "2|(3|A)"
   ]
  },
  {
   "cell_type": "markdown",
   "metadata": {},
   "source": [
    "#### El orden de ejecución de las operaciones y la necesidad de poner paréntesis.\n",
    "\n"
   ]
  },
  {
   "cell_type": "markdown",
   "metadata": {},
   "source": [
    "En Python, la [operación booleana](https://docs.python.org/3/reference/expressions.html#boolean-operations) `3|2` da como resultado `3`. Sabiendo\n",
    "que Python ejecuta las operaciones de izquierda a derecha ¿Cuál de los\n",
    "códigos en las dos últimas celdas no funcionará bien si quitamos los\n",
    "paréntesis?\n",
    "\n"
   ]
  },
  {
   "cell_type": "code",
   "execution_count": 1,
   "metadata": {},
   "outputs": [],
   "source": []
  },
  {
   "cell_type": "markdown",
   "metadata": {},
   "source": [
    "## La transpuesta\n",
    "\n"
   ]
  },
  {
   "cell_type": "markdown",
   "metadata": {},
   "source": [
    "(*[Sección 1.4.5](https://mbujosab.github.io/CursoDeAlgebraLineal/libro.pdf#subsection.1.4.5) del libro*)\n",
    "\n",
    "Usando las herramientas descritas más arriba disponemos de una forma\n",
    "de transponer $\\Mat{A}$: introducir como argumento de `Matrix()` la\n",
    "lista de las listas correspondientes a sus columnas (que es la forma\n",
    "de describir en [NAcAL](https://github.com/mbujosab/nacallib) una matriz fila a fila).\n",
    "\n",
    "Así, si la matriz es:\n",
    "$$\\Mat{D}=\\begin{bmatrix}1&1&9\\\\2&0&2\\end{bmatrix}$$ entonces su\n",
    "transpuesta es:\n",
    "\n"
   ]
  },
  {
   "cell_type": "code",
   "execution_count": 1,
   "metadata": {},
   "outputs": [],
   "source": [
    "Matrix( [ (D|1).lista, (D|2).lista, (D|3).lista ] )"
   ]
  },
  {
   "cell_type": "markdown",
   "metadata": {},
   "source": [
    "Esto se puede automatizar con un bucle que recorra las filas de la\n",
    "matriz (usando [list comprehension](https://ellibrodepython.com/list-comprehension-python)):\n",
    "\n"
   ]
  },
  {
   "cell_type": "code",
   "execution_count": 1,
   "metadata": {},
   "outputs": [],
   "source": [
    "B = Matrix ( [ (D|j).lista for j in range(1,D.n+1) ] )\n",
    "B"
   ]
  },
  {
   "cell_type": "markdown",
   "metadata": {},
   "source": [
    "Si estudia el código de [NAcAL](https://github.com/mbujosab/nacallib) verá que la transposición está\n",
    "programada con dicho procedimiento.\n",
    "\n",
    "He buscado un símbolo en Python para indicar la operación de la\n",
    "*transposición* al estilo del símbolo $^\\T$ usado en el\n",
    "curso. Desgraciadamente Python tiene una fuerte limitación en cuanto a\n",
    "la disponibilidad de símbolos, así que nos vemos obligados a emplear\n",
    "el símbolo (`~`) para la transposición (en lugar del símbolo\n",
    "$^\\T$). Además dicho símbolo ha de situarse *delante* de la matriz que\n",
    "se quiere transponer (créame, no he encontrado ninguna alternativa\n",
    "mejor). Consecuentemente en [NAcAL](https://github.com/mbujosab/nacallib) la transpuesta $\\MatT{D}$ se escribe\n",
    "así: `~D`\n",
    "\n"
   ]
  },
  {
   "cell_type": "code",
   "execution_count": 1,
   "metadata": {},
   "outputs": [],
   "source": [
    "~D"
   ]
  },
  {
   "cell_type": "markdown",
   "metadata": {},
   "source": [
    "Verifiquemos que al trasponer cambian de lado los índices de los\n",
    "elementos de la matriz:\n",
    "\n"
   ]
  },
  {
   "cell_type": "code",
   "execution_count": 1,
   "metadata": {},
   "outputs": [],
   "source": [
    "1|(D)|3"
   ]
  },
  {
   "cell_type": "code",
   "execution_count": 1,
   "metadata": {},
   "outputs": [],
   "source": [
    "3|(~D)|1"
   ]
  },
  {
   "cell_type": "code",
   "execution_count": 1,
   "metadata": {},
   "outputs": [],
   "source": [
    "3|(~D) == D|3"
   ]
  },
  {
   "cell_type": "code",
   "execution_count": 1,
   "metadata": {},
   "outputs": [],
   "source": [
    "(~D)|2 == 2|D"
   ]
  },
  {
   "cell_type": "markdown",
   "metadata": {},
   "source": [
    "Si queremos obtener una matriz cuya única *columna* es la segunda fila\n",
    "de $\\Mat{D}$, basta instanciar una `Matrix` usando una lista que\n",
    "contenga dicha fila:\n",
    "\n"
   ]
  },
  {
   "cell_type": "code",
   "execution_count": 1,
   "metadata": {},
   "outputs": [],
   "source": [
    "Matrix( [2|D] )"
   ]
  },
  {
   "cell_type": "markdown",
   "metadata": {},
   "source": [
    "¿Cómo haría si lo que quiere obtener es la matriz cuya única *fila* es\n",
    "la segunda fila de $\\Mat{D}$?:\n",
    "\n"
   ]
  },
  {
   "cell_type": "code",
   "execution_count": 1,
   "metadata": {},
   "outputs": [],
   "source": []
  },
  {
   "cell_type": "markdown",
   "metadata": {},
   "source": [
    "(*al final de este notebook verá otra forma de lograr dicha matriz de una manera más compacta usando como argumento, en lugar de un índice, una tupla con un único índice*)\n",
    "\n",
    "Compruebe que la transpuesta de la transpuesta de $\\Mat{D}$ es $\\Mat{D}$\n",
    "\n"
   ]
  },
  {
   "cell_type": "code",
   "execution_count": 1,
   "metadata": {},
   "outputs": [],
   "source": []
  },
  {
   "cell_type": "markdown",
   "metadata": {},
   "source": [
    "## Definición de algunas matrices especiales\n",
    "\n"
   ]
  },
  {
   "cell_type": "markdown",
   "metadata": {},
   "source": [
    "(*[Sección 1.4.6](https://mbujosab.github.io/CursoDeAlgebraLineal/libro.pdf#subsection.1.4.6) del libro*)\n",
    "\n"
   ]
  },
  {
   "cell_type": "markdown",
   "metadata": {},
   "source": [
    "### Matriz nula\n",
    "\n"
   ]
  },
  {
   "cell_type": "markdown",
   "metadata": {},
   "source": [
    "Con `M0(m,n)` generamos una matriz nula de orden $m$ por $n$. Por ejemplo\n",
    "\n"
   ]
  },
  {
   "cell_type": "code",
   "execution_count": 1,
   "metadata": {},
   "outputs": [],
   "source": [
    "M0(2,3)"
   ]
  },
  {
   "cell_type": "markdown",
   "metadata": {},
   "source": [
    "### Matriz identidad\n",
    "\n"
   ]
  },
  {
   "cell_type": "markdown",
   "metadata": {},
   "source": [
    "Con `I(m)` generamos una matriz identidad de orden $m$. Por ejemplo\n",
    "\n"
   ]
  },
  {
   "cell_type": "code",
   "execution_count": 1,
   "metadata": {},
   "outputs": [],
   "source": [
    "I(2)"
   ]
  },
  {
   "cell_type": "markdown",
   "metadata": {},
   "source": [
    "### Matriz opuesta\n",
    "\n"
   ]
  },
  {
   "cell_type": "markdown",
   "metadata": {},
   "source": [
    "Con con el signo `-` delante de una matriz, obtenemos su opuesta\n",
    "\n"
   ]
  },
  {
   "cell_type": "code",
   "execution_count": 1,
   "metadata": {},
   "outputs": [],
   "source": [
    "-A"
   ]
  },
  {
   "cell_type": "markdown",
   "metadata": {},
   "source": [
    "### Matriz diagonal\n",
    "\n"
   ]
  },
  {
   "cell_type": "markdown",
   "metadata": {},
   "source": [
    "El método `.diag()` de `Vector()` devuelve una matriz diagonal\n",
    "cuadrada cuya diagonal principal contiene las componentes del vector\n",
    "empleando.\n",
    "\n"
   ]
  },
  {
   "cell_type": "code",
   "execution_count": 1,
   "metadata": {},
   "outputs": [],
   "source": [
    "v = Vector( [1,2,3,4] )\n",
    "v.diag()"
   ]
  },
  {
   "cell_type": "markdown",
   "metadata": {},
   "source": [
    "A su vez, el método `.diag()` de `Matrix()` devuelve un `Vector()` con\n",
    "las componentes de la diagonal principal de la matriz.\n",
    "\n"
   ]
  },
  {
   "cell_type": "code",
   "execution_count": 1,
   "metadata": {},
   "outputs": [],
   "source": [
    "Matrix( ( [1,1,1],[2,4,8], [3,9,0] ) ).diag()"
   ]
  },
  {
   "cell_type": "markdown",
   "metadata": {},
   "source": [
    "### Métodos que indican la forma de la matriz\n",
    "\n"
   ]
  },
  {
   "cell_type": "markdown",
   "metadata": {},
   "source": [
    "Disponemos de algunos métodos que nos indican si es cierto que una\n",
    "matriz es cuadrada o si es simétrica\n",
    "\n"
   ]
  },
  {
   "cell_type": "code",
   "execution_count": 1,
   "metadata": {},
   "outputs": [],
   "source": [
    "A.es_cuadrada()"
   ]
  },
  {
   "cell_type": "code",
   "execution_count": 1,
   "metadata": {},
   "outputs": [],
   "source": [
    "I(6).es_simetrica()"
   ]
  },
  {
   "cell_type": "markdown",
   "metadata": {},
   "source": [
    "## Definiendo una matriz a partir de las componentes de otra. Submatrices\n",
    "\n"
   ]
  },
  {
   "cell_type": "markdown",
   "metadata": {},
   "source": [
    "(*Esta parte corresponde al [Apéndice](https://mbujosab.github.io/CursoDeAlgebraLineal/libro.pdf#section.alph1.1.Alph1) de la Lección 1 del libro*)\n",
    "\n",
    "Cuando seleccionamos varios componentes con una tupla obtenemos una \n",
    "submatriz. Veámoslo\n",
    "\n"
   ]
  },
  {
   "cell_type": "code",
   "execution_count": 1,
   "metadata": {},
   "outputs": [],
   "source": [
    "B = Matrix( ( [1,1,1], [2,4,8], [3,9,0] ) )\n",
    "B"
   ]
  },
  {
   "cell_type": "code",
   "execution_count": 1,
   "metadata": {},
   "outputs": [],
   "source": [
    "B|(1,3,)"
   ]
  },
  {
   "cell_type": "code",
   "execution_count": 1,
   "metadata": {},
   "outputs": [],
   "source": [
    "(2,3,)|B"
   ]
  },
  {
   "cell_type": "code",
   "execution_count": 1,
   "metadata": {},
   "outputs": [],
   "source": [
    "(2,3,)|B|(1,3,)"
   ]
  },
  {
   "cell_type": "code",
   "execution_count": 1,
   "metadata": {},
   "outputs": [],
   "source": [
    "(3,2,1,)|B|(3,)"
   ]
  },
  {
   "cell_type": "code",
   "execution_count": 1,
   "metadata": {},
   "outputs": [],
   "source": [
    "B|(1,1,1,1,1,)"
   ]
  },
  {
   "cell_type": "markdown",
   "metadata": {},
   "source": [
    "Tenga en cuenta que en Python `(2)` es el número `2` entre paréntesis,\n",
    "pero `(2,)` es una tupla con un único componente (el `2`). La\n",
    "diferencia es la coma \"`,`\" detrás del número. En el [libro](https://mbujosab.github.io/CursoDeAlgebraLineal/libro.pdf) se ha\n",
    "adoptado el mismo convenio de notación para poder distinguir entre\n",
    "números y vectores de $\\R[1]$.\n",
    "\n"
   ]
  },
  {
   "cell_type": "code",
   "execution_count": 1,
   "metadata": {},
   "outputs": [],
   "source": [
    "type( (2) )"
   ]
  },
  {
   "cell_type": "code",
   "execution_count": 1,
   "metadata": {},
   "outputs": [],
   "source": [
    "type( (2,) )"
   ]
  },
  {
   "cell_type": "markdown",
   "metadata": {},
   "source": [
    "Fíjese que si a partir de la matriz $\\Mat{D}$\n",
    "\n"
   ]
  },
  {
   "cell_type": "code",
   "execution_count": 1,
   "metadata": {},
   "outputs": [],
   "source": [
    "D"
   ]
  },
  {
   "cell_type": "markdown",
   "metadata": {},
   "source": [
    "queremos obtener la matriz cuya única fila es la segunda fila de\n",
    "$\\Mat{D}$, lo podemos hacer así:\n",
    "\n"
   ]
  },
  {
   "cell_type": "code",
   "execution_count": 1,
   "metadata": {},
   "outputs": [],
   "source": [
    "(2,)|D"
   ]
  },
  {
   "cell_type": "markdown",
   "metadata": {},
   "source": [
    "que es más compacto que escribir `~Matrix([2|D])`\n",
    "\n",
    "Usando la misma idea ¿como obtendría la matriz cuya única columna es\n",
    "la tercera columna de $\\Mat{D}$ de manera alternativa a `Matrix([D|3])`?\n",
    "\n"
   ]
  },
  {
   "cell_type": "code",
   "execution_count": 1,
   "metadata": {},
   "outputs": [],
   "source": []
  }
 ],
 "metadata": {
  "kernelspec": {
   "display_name": "Python 3",
   "language": "python",
   "name": "python3"
  },
  "language_info": {
   "codemirror_mode": {
    "name": "ipython",
    "version": 3
   },
   "file_extension": ".py",
   "mimetype": "text/x-python",
   "name": "python",
   "nbconvert_exporter": "python",
   "pygments_lexer": "ipython3",
   "version": "3.9.2"
  },
  "org": [
   null,
   null
  ]
 },
 "nbformat": 4,
 "nbformat_minor": 1
}
