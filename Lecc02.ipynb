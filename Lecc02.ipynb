{
 "cells": [
  {
   "cell_type": "markdown",
   "metadata": {},
   "source": [
    "Lección 02\n",
    "==========\n",
    "\n",
    "**Author:** Marcos Bujosa\n",
    "\n"
   ]
  },
  {
   "cell_type": "markdown",
   "metadata": {},
   "source": [
    "*Lea primero la [Sección 2.1](https://mbujosab.github.io/CursoDeAlgebraLineal/libro.pdf#section.2.1) y la [Sección 2.2](https://mbujosab.github.io/CursoDeAlgebraLineal/libro.pdf#section.2.2) del [libro](https://mbujosab.github.io/CursoDeAlgebraLineal).*\n",
    "\n"
   ]
  },
  {
   "cell_type": "code",
   "execution_count": 1,
   "metadata": {},
   "outputs": [],
   "source": [
    "from nacal import *"
   ]
  },
  {
   "cell_type": "markdown",
   "metadata": {},
   "source": [
    "$\n",
    "\\newcommand{\\Rr}{{\\mathbb{R}}}\n",
    "\\newcommand{\\Zz}{{\\mathbb{Z}}}\n",
    "%%%%%%%%%%%%%%%%%%%%%%%%%%%%%%%%%%%%%%%%%%%%%%%%%%%%%%%%%%%%%%%%%%%%%%%%%%%%\n",
    "\\newcommand{\\getItem}{\\pmb{\\mid}}\n",
    "\\newcommand{\\getitemR}[1]{\\getItem{#1}}\n",
    "\\newcommand{\\getitemL}[1]{{#1}\\getItem}\n",
    "\\newcommand{\\elemR}[2]{{#1}^{\\phantom{\\T}}_{\\getitemR{#2}}} \n",
    "\\newcommand{\\elemRP}[2]{{\\big(#1\\big)}^{\\phantom{\\T}}_{\\getitemR{#2}}} \n",
    "\\newcommand{\\elemRPE}[2]{\\big({#1}^{\\phantom{\\T}}_{\\getitemR{#2}}\\big)}\n",
    "%%%%%%%%%%%%%%%%%%%%%%%%%%%%%%%%%%%%%%%%%%%%%%%%%%%%%%%%%%%%%%%%%%%%%%%%%%%%\n",
    "\\newcommand{\\Vect}[2][{}]{{\\boldsymbol{#2}}_{#1}}\n",
    "\\newcommand{\\eleVR}[2]  {\\elemR  {\\Vect{#1}}{#2}}\t % con subindices\n",
    "\\newcommand{\\eleVRP}[2] {\\elemRP {\\Vect{#1}}{#2}}      % con subindices y paréntesis interior\n",
    "\\newcommand{\\eleVRPE}[2]{\\elemRPE{\\Vect{#1}}{#2}}      % con subindices y paréntesis exterior\n",
    "%%%%%%%%%%%%%%%%%%%%%%%%%%%%%%%%%%%%%%%%%%%%%%%%%%%%%%%%%%%%%%%%%%%%%%%%%%%%\n",
    "\\newcommand{\\VectC}[2][{}]  {\\elemR  {\\Mat{#2}}{#1}}   % con subindices\n",
    "\\newcommand{\\VectCP}[2][{}] {\\elemRP {\\Mat{#2}}{#1}}   % con subindices y paréntesis\n",
    "\\newcommand{\\VectCPE}[2][{}]{\\elemRPE{\\Mat{#2}}{#1}}   % con subindices y paréntesis exterior\n",
    "%%%%%%%%%%%%%%%%%%%%%%%%%%%%%%%%%%%%%%%%%%%%%%%%%%%%%%%%%%%%%%%%%%%%%%%%%%%%\n",
    "\\newcommand{\\mat}[1]{\\boldsymbol{\\mathsf{#1}}}\n",
    "\\newcommand{\\Mat} [2][{}]{{\\mat{#2}}_{#1}} \n",
    "\\newcommand{\\T}{\\intercal}\n",
    "\\newcommand{\\MatT}[2][{}]{{\\mat{#2}}^{\\T}_{#1}}\n",
    "\\newcommand{\\VectCC}[2][{}]   {\\elemRR {\\Mat{#2}}{#1}}   % con ()\n",
    "\\newcommand{\\VectCCC}[2][{}]  {\\elemRRR{\\Mat{#2}}{#1}}   % con texto \"col\"\n",
    "%SELECCIÓNA de FILAS y COlUMNAS DE UNA MATRIZ TRANSPUESTA PARA GENERAR UN VECTOR DE Rn\n",
    "\\newcommand{\\VectTC}[2][{}]   {\\elemR{\\MatT{#2}\\!}{#1}}  % con subindices\n",
    "\\newcommand{\\VectTCC}[2][{}]  {\\elemRR{ \\MatT{#2}}{#1}}  % con ()\n",
    "\\newcommand{\\VectTCCC}[2][{}] {\\elemRRR{\\MatT{#2}}{#1}}  % con texto \"col\"\n",
    "\\newcommand{\\dotprod}[2][{}] {\\Vect{#1}\\cdot\\Vect{#2}}\n",
    "$\n",
    "\n"
   ]
  },
  {
   "cell_type": "markdown",
   "metadata": {},
   "source": [
    "## Matriz por vector (combinaciones lineales de las columnas de una matriz)\n",
    "\n"
   ]
  },
  {
   "cell_type": "markdown",
   "metadata": {},
   "source": [
    "Considere los vectores $\\Vect{x}=(1, 1, -2,)$, $\\Vect{y}=(1, -2, 1,)$ y\n",
    "$\\Vect{z}=(-2, 1, 1,)$ y verifique que $2\\Vect{x}+2\\Vect{y}+2\\Vect{z}=\\Vect{0}$\n",
    "\n"
   ]
  },
  {
   "cell_type": "code",
   "execution_count": 1,
   "metadata": {},
   "outputs": [],
   "source": [
    "x = Vector([ 1,  1, -2]);\n",
    "y = Vector([ 1, -2,  1]);\n",
    "z = Vector([-2,  1,  1])\n",
    "2*x + 2*y + 2*z"
   ]
  },
  {
   "cell_type": "markdown",
   "metadata": {},
   "source": [
    "Ya sabemos que tenemos otra forma de realizar esta misma operación\n",
    "$$\\begin{bmatrix} \\Vect{x}; & \\Vect{y}; & \\Vect{z};\\end{bmatrix}\\begin{pmatrix}2\\\\2\\\\2\\end{pmatrix}=\\begin{bmatrix}1&1&-2\\\\1&-2&1\\\\-2&1&1\\end{bmatrix}\\begin{pmatrix}2\\\\2\\\\2\\end{pmatrix}$$\n",
    "\n"
   ]
  },
  {
   "cell_type": "code",
   "execution_count": 1,
   "metadata": {},
   "outputs": [],
   "source": [
    "Matrix([x,y,z])*Vector((2,2,2))"
   ]
  },
  {
   "cell_type": "markdown",
   "metadata": {},
   "source": [
    "Sabemos que la componente *i*-ésima del vector resultante de\n",
    "multiplicar $\\Mat{A}\\Vect{b}$ es el producto punto entre la fila\n",
    "*i*-ésima de la matriz y el vector. Veámoslo\n",
    "\n",
    "Consideremos la matriz $\\Mat{A}$\n",
    "\n"
   ]
  },
  {
   "cell_type": "code",
   "execution_count": 1,
   "metadata": {},
   "outputs": [],
   "source": [
    "A = Matrix([ Vector([1,0,0]), Vector([1,2,0]), Vector([1,2,3]) ])\n",
    "A"
   ]
  },
  {
   "cell_type": "markdown",
   "metadata": {},
   "source": [
    "y el vector $\\Vect{b}$\n",
    "\n"
   ]
  },
  {
   "cell_type": "code",
   "execution_count": 1,
   "metadata": {},
   "outputs": [],
   "source": [
    "b = Vector([3,2,1])\n",
    "b"
   ]
  },
  {
   "cell_type": "markdown",
   "metadata": {},
   "source": [
    "El siguiente código multiplica la matriz $\\Mat{A}$ por el vector $\\Vect{b}$ y nos arroja un vector que es combinación lineal de las columnas de $\\Mat{A}$\n",
    "\n"
   ]
  },
  {
   "cell_type": "code",
   "execution_count": 1,
   "metadata": {},
   "outputs": [],
   "source": [
    "A*b"
   ]
  },
  {
   "cell_type": "markdown",
   "metadata": {},
   "source": [
    "La segunda componente del anterior vector es\n",
    "\n"
   ]
  },
  {
   "cell_type": "code",
   "execution_count": 1,
   "metadata": {},
   "outputs": [],
   "source": [
    "2|(A*b)"
   ]
  },
  {
   "cell_type": "markdown",
   "metadata": {},
   "source": [
    "que resulta ser el producto punto entre la segunda fila de $\\Mat{A}$ y el vector $\\Vect{b}$\n",
    "\n"
   ]
  },
  {
   "cell_type": "code",
   "execution_count": 1,
   "metadata": {},
   "outputs": [],
   "source": [
    "(2|A)*b"
   ]
  },
  {
   "cell_type": "markdown",
   "metadata": {},
   "source": [
    "Al final de la [Sección 2.2](https://mbujosab.github.io/CursoDeAlgebraLineal/libro.pdf#subsection.2.2.1) del libro se destacan dos casos especiales\n",
    "de producto de una matriz y un vector. El primer caso es multiplicar\n",
    "la matriz identidad por un vector, pues obtenemos como resultado el vector:\n",
    "\n"
   ]
  },
  {
   "cell_type": "code",
   "execution_count": 1,
   "metadata": {},
   "outputs": [],
   "source": [
    "I(3)*b"
   ]
  },
  {
   "cell_type": "markdown",
   "metadata": {},
   "source": [
    "El segundo caso especial es multiplicar una matriz $\\Mat{A}$ por la\n",
    "columna *i*-ésima de la matriz identidad, pues selecciona la columna\n",
    "*i*-ésima de la matriz. Por ejemplo si multiplicamos $\\Mat{A}$ por la\n",
    "segunda columna de $\\Mat{I}$\n",
    "\n"
   ]
  },
  {
   "cell_type": "code",
   "execution_count": 1,
   "metadata": {},
   "outputs": [],
   "source": [
    "I(3)|2"
   ]
  },
  {
   "cell_type": "markdown",
   "metadata": {},
   "source": [
    "obtenemos la segunda columna de $\\Mat{A}$\n",
    "\n"
   ]
  },
  {
   "cell_type": "code",
   "execution_count": 1,
   "metadata": {},
   "outputs": [],
   "source": [
    "A * (I(3)|2)"
   ]
  },
  {
   "cell_type": "markdown",
   "metadata": {},
   "source": [
    "## Propiedades del producto matriz por vector\n",
    "\n"
   ]
  },
  {
   "cell_type": "markdown",
   "metadata": {},
   "source": [
    "Ahora vamos a verificar con ejemplos las propiedades para el producto\n",
    "$\\Mat{A}\\Vect{b}$ descritas en la [Sección 2.2.3](https://mbujosab.github.io/CursoDeAlgebraLineal/libro.pdf#subsection.2.2.3) del libro.\n",
    "\n",
    "Genere una matriz $\\Mat{A}$ (con el número de filas y columnas que\n",
    "desee) y dos vectores $\\Vect{b}$ y $\\Vect{c}$ con tantos componentes\n",
    "como columnas tenga $\\Mat{A}$.\n",
    "\n"
   ]
  },
  {
   "cell_type": "code",
   "execution_count": 1,
   "metadata": {},
   "outputs": [],
   "source": [
    "# Defina una matriz A"
   ]
  },
  {
   "cell_type": "code",
   "execution_count": 1,
   "metadata": {},
   "outputs": [],
   "source": [
    "# Defina el vector b con tantos componentes como columnas tenga la matriz A"
   ]
  },
  {
   "cell_type": "code",
   "execution_count": 1,
   "metadata": {},
   "outputs": [],
   "source": [
    "# Defina el vector c con tantos componentes como el vector b"
   ]
  },
  {
   "cell_type": "markdown",
   "metadata": {},
   "source": [
    "Y ahora verifique las propiedades vistas en el curso \n",
    "\n",
    "(en todos los casos, verifique sus ejemplos también con lápiz y\n",
    "papel&#x2026; recuerde que primero se realizan las operaciones encerradas\n",
    "entre paréntesis).  \n",
    "\n",
    "$$ \\Mat{A}(\\Vect{b}+\\Vect{c}) = \\Mat{A}\\Vect{b} + \\Mat{A}\\Vect{c} $$\n",
    "\n"
   ]
  },
  {
   "cell_type": "code",
   "execution_count": 1,
   "metadata": {},
   "outputs": [],
   "source": [
    "# ejecute aquí la parte izquierda de la ecuación: A*(b+c)"
   ]
  },
  {
   "cell_type": "code",
   "execution_count": 1,
   "metadata": {},
   "outputs": [],
   "source": [
    "# ejecute aquí la parte derecha de la ecuación"
   ]
  },
  {
   "cell_type": "markdown",
   "metadata": {},
   "source": [
    "Decida un valor para el escalar $\\lambda$ y verifique que\n",
    "$$\\Mat{A}(\\lambda\\Vect{b}) = \\lambda(\\Mat{A}\\Vect{b})$$\n",
    "\n"
   ]
  },
  {
   "cell_type": "code",
   "execution_count": 1,
   "metadata": {},
   "outputs": [],
   "source": [
    "# ejecute aquí la parte izquierda de la ecuación"
   ]
  },
  {
   "cell_type": "code",
   "execution_count": 1,
   "metadata": {},
   "outputs": [],
   "source": [
    "# ejecute aquí la parte derecha de la ecuación"
   ]
  },
  {
   "cell_type": "markdown",
   "metadata": {},
   "source": [
    "Verifique que\n",
    "$$ \\Mat{A}(\\lambda\\Vect{b}) = (\\lambda\\Mat{A})\\Vect{b}$$\n",
    "\n"
   ]
  },
  {
   "cell_type": "code",
   "execution_count": 1,
   "metadata": {},
   "outputs": [],
   "source": [
    "# escriba aquí la parte derecha de la ecuación"
   ]
  },
  {
   "cell_type": "markdown",
   "metadata": {},
   "source": [
    "Compruebe que en este caso no son necesarios los paréntesis:\n",
    "$$\\lambda\\Mat{A}\\Vect{b}\\;$$ (pero recuerde que en Python siempre\n",
    "debemos escribir el símbolo `*` para el producto). Pruebe a colocar el\n",
    "escalar en cualquier posición, pero manteniendo la matriz a la\n",
    "izquierda del vector.\n",
    "\n"
   ]
  },
  {
   "cell_type": "code",
   "execution_count": 1,
   "metadata": {},
   "outputs": [],
   "source": [
    "# Por ejemplo 3*A*b, o A*3*b, o A*b*3"
   ]
  },
  {
   "cell_type": "markdown",
   "metadata": {},
   "source": [
    "Genere una matriz $\\Mat{B}$ del mismo orden que $\\Mat{A}$\n",
    "\n"
   ]
  },
  {
   "cell_type": "code",
   "execution_count": 1,
   "metadata": {},
   "outputs": [],
   "source": []
  },
  {
   "cell_type": "markdown",
   "metadata": {},
   "source": [
    "Verifique que\n",
    "\n",
    "$$(\\Mat{A}+\\Mat{B})\\Vect{c} = \\Mat{A}\\Vect{c} + \\Mat{B}\\Vect{c}$$\n",
    "\n"
   ]
  },
  {
   "cell_type": "code",
   "execution_count": 1,
   "metadata": {},
   "outputs": [],
   "source": [
    "# escriba aquí la parte izquierda de la ecuación (¿funciona sin paréntesis?)"
   ]
  },
  {
   "cell_type": "code",
   "execution_count": 1,
   "metadata": {},
   "outputs": [],
   "source": [
    "# escriba aquí la parte derecha de la ecuación"
   ]
  },
  {
   "cell_type": "markdown",
   "metadata": {},
   "source": [
    "Genere una matriz $\\Mat{B}$ con tantas filas como columnas tiene\n",
    "$\\Mat{A}$\n",
    "\n"
   ]
  },
  {
   "cell_type": "code",
   "execution_count": 1,
   "metadata": {},
   "outputs": [],
   "source": []
  },
  {
   "cell_type": "markdown",
   "metadata": {},
   "source": [
    "y también un vector $\\Vect{c}$ con tantos componentes como columnas\n",
    "tenga $\\Mat{B}$\n",
    "\n"
   ]
  },
  {
   "cell_type": "code",
   "execution_count": 1,
   "metadata": {},
   "outputs": [],
   "source": []
  },
  {
   "cell_type": "markdown",
   "metadata": {},
   "source": [
    "Verifique que\n",
    "$$ \\Mat{A}(\\Mat{B}\\Vect{c}) = \\begin{bmatrix} \\Mat{A}(\\VectC[1]{B})&\\dots&\\Mat{A}(\\VectC[n]{B}) \\end{bmatrix} \\Vect{c} $$\n",
    "\n"
   ]
  },
  {
   "cell_type": "code",
   "execution_count": 1,
   "metadata": {},
   "outputs": [],
   "source": [
    "# ejecute aquí la parte izquierda de la ecuación"
   ]
  },
  {
   "cell_type": "code",
   "execution_count": 1,
   "metadata": {},
   "outputs": [],
   "source": [
    "# ejecute aquí la parte derecha de la ecuación"
   ]
  },
  {
   "cell_type": "markdown",
   "metadata": {},
   "source": [
    "Hay una forma de calcular todas las columnas de la matriz de esta\n",
    "última expresión, por muchas que sean. Copie el siguiente código en la\n",
    "celda de más abajo y ejecútelo\n",
    "\n",
    "`Matrix([ A*(B|j)  for j in range(1,B.n+1)])*c`\n",
    "\n"
   ]
  },
  {
   "cell_type": "code",
   "execution_count": 1,
   "metadata": {},
   "outputs": [],
   "source": []
  },
  {
   "cell_type": "markdown",
   "metadata": {},
   "source": [
    "## Dos propiedades de la transposición\n",
    "\n"
   ]
  },
  {
   "cell_type": "markdown",
   "metadata": {},
   "source": [
    "Veamos ahora las propiedades descritas en la [Sección 1.5.3](https://mbujosab.github.io/CursoDeAlgebraLineal/libro.pdf#subsection.1.5.3) del libro.\n",
    "\n",
    "Recuerde que `~A` es la transpuesta de `A`.\n",
    "\n",
    "Verifique que\n",
    "$$(\\Mat{A}+\\Mat{B})^\\T=\\MatT{A}+\\MatT{B}$$\n",
    "\n"
   ]
  },
  {
   "cell_type": "code",
   "execution_count": 1,
   "metadata": {},
   "outputs": [],
   "source": [
    "# escriba aquí la parte izquierda de la ecuación: ~(A + B)"
   ]
  },
  {
   "cell_type": "code",
   "execution_count": 1,
   "metadata": {},
   "outputs": [],
   "source": [
    "# escriba aquí la parte derecha de la ecuación"
   ]
  },
  {
   "cell_type": "markdown",
   "metadata": {},
   "source": [
    "¿Necesitamos usar paréntesis para el lado izquierdo? ¿Y para el\n",
    "derecho?\n",
    "\n",
    "Decida un valor para $\\lambda$ y verifique que\n",
    "$$(\\lambda\\Mat{A})^\\T=\\lambda(\\MatT{A})$$\n",
    "\n"
   ]
  },
  {
   "cell_type": "code",
   "execution_count": 1,
   "metadata": {},
   "outputs": [],
   "source": [
    "# escriba aquí la parte izquierda de la ecuación"
   ]
  },
  {
   "cell_type": "code",
   "execution_count": 1,
   "metadata": {},
   "outputs": [],
   "source": [
    "# escriba aquí la parte derecha de la ecuación"
   ]
  },
  {
   "cell_type": "markdown",
   "metadata": {},
   "source": [
    "¿Son necesarios los paréntesis para el lado izquierdo? ¿Y para el derecho?\n",
    "\n"
   ]
  },
  {
   "cell_type": "markdown",
   "metadata": {},
   "source": [
    "## Vector por matriz por vector (combinaciones lineales de las filas de una matriz)\n",
    "\n"
   ]
  },
  {
   "cell_type": "markdown",
   "metadata": {},
   "source": [
    "*Lea primero la [Sección 2.3](https://mbujosab.github.io/CursoDeAlgebraLineal/libro.pdf#section.2.3) del [libro](https://mbujosab.github.io/CursoDeAlgebraLineal).*\n",
    "\n",
    "En el libro (y en nuestra librería de Python) se define el producto de\n",
    "un vector $\\Vect{a}$ por una matriz $\\Mat{B}$ como \n",
    "$$ \\Vect{a}\\Mat{B}=(\\MatT{B})\\Vect{a}$$\n",
    "\n",
    "Al igual que hemos hecho para el producto de una matriz por un vector,\n",
    "verifique con ejemplos las propiedades para el producto\n",
    "$\\Vect{a}\\Mat{B}$ descritas en la [Sección 2.3.1](https://mbujosab.github.io/CursoDeAlgebraLineal/libro.pdf#subsection.2.3.1) del libro.\n",
    "\n"
   ]
  },
  {
   "cell_type": "markdown",
   "metadata": {},
   "source": [
    "## Ejercicios\n",
    "\n"
   ]
  },
  {
   "cell_type": "markdown",
   "metadata": {},
   "source": [
    "1.  Sean\n",
    "    $\\Mat{A}=\\begin{bmatrix}3 & -6 & 0\\\\0 & 2 & -2\\\\1 & -1 & -1\\end{bmatrix}$\n",
    "    y \n",
    "    $\\Vect{x}=\\begin{pmatrix}2\\\\1\\\\1\\end{pmatrix}$.\n",
    "    Compruebe que $\\Mat{A}\\Vect{x}=\\Vect{0}$.\n",
    "\n"
   ]
  },
  {
   "cell_type": "code",
   "execution_count": 1,
   "metadata": {},
   "outputs": [],
   "source": []
  },
  {
   "cell_type": "markdown",
   "metadata": {},
   "source": [
    "¿Puede encontrar más soluciones para $\\Mat{A}\\Vect{x}=\\Vect{0}$? ¿Cuantas soluciones puede encontrar?\n",
    "\n",
    "-   ***pista*:** Intente con un vector $\\Vect{x}$ cuya primera\n",
    "    componente es igual a 4. Intente también cambiando el signo de\n",
    "    $\\Vect{x}$. Intente alguna solución más.\n",
    "\n"
   ]
  },
  {
   "cell_type": "code",
   "execution_count": 1,
   "metadata": {},
   "outputs": [],
   "source": []
  }
 ],
 "metadata": {
  "kernelspec": {
   "display_name": "Python 3",
   "language": "python",
   "name": "python3"
  },
  "language_info": {
   "codemirror_mode": {
    "name": "ipython",
    "version": 3
   },
   "file_extension": ".py",
   "mimetype": "text/x-python",
   "name": "python",
   "nbconvert_exporter": "python",
   "pygments_lexer": "ipython3",
   "version": "3.9.2"
  },
  "org": [
   null,
   null
  ]
 },
 "nbformat": 4,
 "nbformat_minor": 1
}
