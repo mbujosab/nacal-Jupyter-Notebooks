{
 "cells": [
  {
   "cell_type": "markdown",
   "metadata": {},
   "source": [
    "TestDemo\n",
    "========\n",
    "\n",
    "**Author:** Marcos Bujosa\n",
    "\n"
   ]
  },
  {
   "cell_type": "code",
   "execution_count": 1,
   "metadata": {},
   "outputs": [],
   "source": [
    "from nacal import *"
   ]
  },
  {
   "cell_type": "markdown",
   "metadata": {},
   "source": [
    "-   Repositorio de la librería en [GitHub](https://github.com/mbujosab/nacallib)\n",
    "-   Repositorio del proyecto en [Pypi](https://pypi.org/project/nacal/)\n",
    "-   Repositorio con notebooks de jupyter en [GitHub](https://github.com/mbujosab/nacal-Jupyter-Notebooks)\n",
    "-   Repositorio del libro en [GitHub](https://github.com/mbujosab/CursoDeAlgebraLineal)\n",
    "\n"
   ]
  },
  {
   "cell_type": "markdown",
   "metadata": {},
   "source": [
    "$\n",
    "\\newcommand{\\Rr}{{\\mathbb{R}}}\n",
    "\\newcommand{\\Zz}{{\\mathbb{Z}}}\n",
    "%%%%%%%%%%%%%%%%%%%%%%%%%%%%%%%%%%%%%%%%%%%%%%%%%%%%%%%%%%%%%%%%%%%%%%%%%%%%\n",
    "\\newcommand{\\getItem}{\\pmb{\\mid}}\n",
    "\\newcommand{\\getitemR}[1]{\\getItem{#1}}\n",
    "\\newcommand{\\getitemL}[1]{{#1}\\getItem}\n",
    "\\newcommand{\\elemR}[2]{{#1}^{\\phantom{\\T}}_{\\getitemR{#2}}} \n",
    "\\newcommand{\\elemRP}[2]{{\\big(#1\\big)}^{\\phantom{\\T}}_{\\getitemR{#2}}} \n",
    "\\newcommand{\\elemRPE}[2]{\\big({#1}^{\\phantom{\\T}}_{\\getitemR{#2}}\\big)}\n",
    "\\newcommand{\\elemL}[2]{ {_{\\getitemL{#2}}#1} }\n",
    "\\newcommand{\\elemLP}[2]{ {_{\\getitemL{#2}}\\left(#1\\right)} } \n",
    "\\newcommand{\\elemLPE}[2]{\\left( {_{\\getitemL{#2}}#1} \\right)}\n",
    "%%%%%%%%%%%%%%%%%%%%%%%%%%%%%%%%%%%%%%%%%%%%%%%%%%%%%%%%%%%%%%%%%%%%%%%%%%%%\n",
    "\\newcommand{\\Vect}[2][{}]{{\\boldsymbol{#2}}_{#1}}\n",
    "\\newcommand{\\eleVR}[2]  {\\elemR  {\\Vect{#1}}{#2}}\t % con subindices\n",
    "\\newcommand{\\eleVRP}[2] {\\elemRP {\\Vect{#1}}{#2}}      % con subindices y paréntesis interior\n",
    "\\newcommand{\\eleVRPE}[2]{\\elemRPE{\\Vect{#1}}{#2}}      % con subindices y paréntesis exterior\n",
    "%%%%%%%%%%%%%%%%%%%%%%%%%%%%%%%%%%%%%%%%%%%%%%%%%%%%%%%%%%%%%%%%%%%%%%%%%%%%\n",
    "\\newcommand{\\VectC}[2][{}]  {\\elemR  {\\Mat{#2}}{#1}}   % con subindices\n",
    "\\newcommand{\\VectCP}[2][{}] {\\elemRP {\\Mat{#2}}{#1}}   % con subindices y paréntesis\n",
    "\\newcommand{\\VectCPE}[2][{}]{\\elemRPE{\\Mat{#1}}{#2}}   % con subindices y paréntesis exterior\n",
    "\\newcommand{\\VectF}[2]      {\\elemL{\\Mat{#1}}{#2}}     % con subindices\n",
    "\\newcommand{\\VectFP}[2]     {\\elemL{(\\Mat{#1})}{#2}}   % con subindices y paréntesis\n",
    "\\newcommand{\\VectFPE}[2]    {\\elemLPE{\\Mat{#1}}{#2}}   % con subindices y paréntesis exterior\n",
    "%%%%%%%%%%%%%%%%%%%%%%%%%%%%%%%%%%%%%%%%%%%%%%%%%%%%%%%%%%%%%%%%%%%%%%%%%%%%\n",
    "\\newcommand{\\mat}[1]{\\boldsymbol{\\mathsf{#1}}}\n",
    "\\newcommand{\\Mat} [2][{}]{{\\mat{#2}}_{#1}} \n",
    "\\newcommand{\\T}{\\intercal}\n",
    "\\newcommand{\\MatT}[2][{}]{{\\mat{#2}}^{\\T}_{#1}}\n",
    "\\newcommand{\\VectCC}[2][{}]   {\\elemRR {\\Mat{#2}}{#1}}   % con ()\n",
    "\\newcommand{\\VectCCC}[2][{}]  {\\elemRRR{\\Mat{#2}}{#1}}   % con texto \"col\"\n",
    "%SELECCIÓNA de FILAS y COlUMNAS DE UNA MATRIZ TRANSPUESTA PARA GENERAR UN VECTOR DE Rn\n",
    "\\newcommand{\\VectTC}[2][{}]   {\\elemR{\\MatT{#2}\\!}{#1}}  % con subindices\n",
    "\\newcommand{\\VectTCC}[2][{}]  {\\elemRR{ \\MatT{#2}}{#1}}  % con ()\n",
    "\\newcommand{\\VectTCCC}[2][{}] {\\elemRRR{\\MatT{#2}}{#1}}  % con texto \"col\"\n",
    "\\newcommand{\\dotprod}[2][{}] {\\Vect{#1}\\cdot\\Vect{#2}}\n",
    "$\n",
    "\n"
   ]
  },
  {
   "cell_type": "markdown",
   "metadata": {},
   "source": [
    "## Matrices\n",
    "\n"
   ]
  },
  {
   "cell_type": "markdown",
   "metadata": {},
   "source": [
    "Definimos una matriz (en esta ocasión fila a fila)\n",
    "\n"
   ]
  },
  {
   "cell_type": "code",
   "execution_count": 2,
   "metadata": {},
   "outputs": [
    {
     "data": {
      "image/png": "[encoded data removed]",
      "text/html": [
       "<p style=\"text-align:center;\">$\\left[ \\begin{array}{ccc}2&-1&0\\\\-1&2&-1\\\\0&-1&2\\\\ \\end{array} \\right]$</p>"
      ],
      "text/latex": [
       "$\\left[ \\begin{array}{ccc}2&-1&0\\\\-1&2&-1\\\\0&-1&2\\\\ \\end{array} \\right]$"
      ],
      "text/plain": [
       "Matrix([Vector([2, -1, 0]), Vector([-1, 2, -1]), Vector([0, -1, 2])])"
      ]
     },
     "execution_count": 2,
     "metadata": {},
     "output_type": "execute_result"
    }
   ],
   "source": [
    "A = Matrix([[2,-1,0],[-1,2,-1],[0,-1,2]])\n",
    "A"
   ]
  },
  {
   "cell_type": "markdown",
   "metadata": {},
   "source": [
    "Calculemos su inversa mediante eliminación por columnas de izquierda a derecha. Para ello pongamos la matriz identidad de orden 3 a su derecha\n",
    "\n"
   ]
  },
  {
   "cell_type": "code",
   "execution_count": 3,
   "metadata": {},
   "outputs": [
    {
     "data": {
      "image/png": "[encoded data removed]",
      "text/html": [
       "<p style=\"text-align:center;\">$\\left[ \\begin{array}{ccc|ccc}2&-1&0&1&0&0\\\\-1&2&-1&0&1&0\\\\0&-1&2&0&0&1\\\\ \\end{array} \\right]$</p>"
      ],
      "text/latex": [
       "$\\left[ \\begin{array}{ccc|ccc}2&-1&0&1&0&0\\\\-1&2&-1&0&1&0\\\\0&-1&2&0&0&1\\\\ \\end{array} \\right]$"
      ],
      "text/plain": [
       "Matrix([Vector([2, -1, 0]), Vector([-1, 2, -1]), Vector([0, -1, 2]), Vector([1, 0, 0]), Vector([0, 1, 0]), Vector([0, 0, 1])])"
      ]
     },
     "execution_count": 3,
     "metadata": {},
     "output_type": "execute_result"
    }
   ],
   "source": [
    "Aampliada = A.concatena(I(3),1)\n",
    "Aampliada"
   ]
  },
  {
   "cell_type": "markdown",
   "metadata": {},
   "source": [
    "Y ahora apliquemos la elimnación\n",
    "\n"
   ]
  },
  {
   "cell_type": "code",
   "execution_count": 5,
   "metadata": {},
   "outputs": [
    {
     "data": {
      "text/latex": [
       "$\\displaystyle \\left[ \\begin{array}{ccc}2&-1&0\\\\-1&2&-1\\\\0&-1&2\\\\ \\hline 1&0&0\\\\0&1&0\\\\0&0&1\\\\ \\end{array} \\right]\\xrightarrow{\\underset{\\begin{subarray}{c} \\left[\\left(2\\right)\\mathbf{2}\\right]\\\\\\left[\\left(1\\right)\\mathbf{1}+\\mathbf{2} \\right]\\end{subarray}}{\\pmb{\\tau}}}\\left[ \\begin{array}{ccc}2&0&0\\\\-1&3&-1\\\\0&-2&2\\\\ \\hline 1&1&0\\\\0&2&0\\\\0&0&1\\\\ \\end{array} \\right]\\xrightarrow{\\underset{\\begin{subarray}{c} \\left[\\left(3\\right)\\mathbf{1}\\right]\\\\\\left[\\left(1\\right)\\mathbf{2}+\\mathbf{1} \\right]\\\\\\left[\\left(3\\right)\\mathbf{3}\\right]\\\\\\left[\\left(1\\right)\\mathbf{2}+\\mathbf{3} \\right]\\end{subarray}}{\\pmb{\\tau}}}\\left[ \\begin{array}{ccc}6&0&0\\\\0&3&0\\\\-2&-2&4\\\\ \\hline 4&1&1\\\\2&2&2\\\\0&0&3\\\\ \\end{array} \\right]\\xrightarrow{\\underset{\\begin{subarray}{c} \\left[\\left(2\\right)\\mathbf{1}\\right]\\\\\\left[\\left(1\\right)\\mathbf{3}+\\mathbf{1} \\right]\\\\\\left[\\left(2\\right)\\mathbf{2}\\right]\\\\\\left[\\left(1\\right)\\mathbf{3}+\\mathbf{2} \\right]\\end{subarray}}{\\pmb{\\tau}}}\\left[ \\begin{array}{ccc}12&0&0\\\\0&6&0\\\\0&0&4\\\\ \\hline 9&3&1\\\\6&6&2\\\\3&3&3\\\\ \\end{array} \\right]\\xrightarrow{\\underset{\\begin{subarray}{c} \\left[\\left(\\frac{1}{12}\\right)\\mathbf{1}\\right]\\\\\\left[\\left(\\frac{1}{6}\\right)\\mathbf{2}\\right]\\\\\\left[\\left(\\frac{1}{4}\\right)\\mathbf{3}\\right]\\end{subarray}}{\\pmb{\\tau}}}\\left[ \\begin{array}{ccc}1&0&0\\\\0&1&0\\\\0&0&1\\\\ \\hline \\frac{3}{4}&\\frac{1}{2}&\\frac{1}{4}\\\\\\frac{1}{2}&1&\\frac{1}{2}\\\\\\frac{1}{4}&\\frac{1}{2}&\\frac{3}{4}\\\\ \\end{array} \\right]$"
      ],
      "text/plain": [
       "<IPython.core.display.Math object>"
      ]
     },
     "metadata": {},
     "output_type": "display_data"
    },
    {
     "data": {
      "image/png": "[encoded data removed]",
      "text/html": [
       "<p style=\"text-align:center;\">$\\left[ \\begin{array}{ccc}\\frac{3}{4}&\\frac{1}{2}&\\frac{1}{4}\\\\\\frac{1}{2}&1&\\frac{1}{2}\\\\\\frac{1}{4}&\\frac{1}{2}&\\frac{3}{4}\\\\ \\end{array} \\right]$</p>"
      ],
      "text/latex": [
       "$\\left[ \\begin{array}{ccc}\\frac{3}{4}&\\frac{1}{2}&\\frac{1}{4}\\\\\\frac{1}{2}&1&\\frac{1}{2}\\\\\\frac{1}{4}&\\frac{1}{2}&\\frac{3}{4}\\\\ \\end{array} \\right]$"
      ],
      "text/plain": [
       "Matrix([Vector([3/4, 1/2, 1/4]), Vector([1/2, 1, 1/2]), Vector([1/4, 1/2, 3/4])])"
      ]
     },
     "execution_count": 5,
     "metadata": {},
     "output_type": "execute_result"
    }
   ],
   "source": [
    "A.inversa(1)"
   ]
  },
  {
   "cell_type": "code",
   "execution_count": null,
   "metadata": {},
   "outputs": [],
   "source": []
  }
 ],
 "metadata": {
  "kernelspec": {
   "display_name": "Python 3",
   "language": "python",
   "name": "python3"
  },
  "language_info": {
   "codemirror_mode": {
    "name": "ipython",
    "version": 3
   },
   "file_extension": ".py",
   "mimetype": "text/x-python",
   "name": "python",
   "nbconvert_exporter": "python",
   "pygments_lexer": "ipython3",
   "version": "3.9.2"
  },
  "org": [
   null,
   null
  ]
 },
 "nbformat": 4,
 "nbformat_minor": 1
}
