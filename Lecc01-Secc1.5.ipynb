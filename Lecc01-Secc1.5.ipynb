{
 "cells": [
  {
   "cell_type": "markdown",
   "metadata": {},
   "source": [
    "Lección 01 - Sección 1.5\n",
    "========================\n",
    "\n",
    "**Author:** Marcos Bujosa\n",
    "\n"
   ]
  },
  {
   "cell_type": "markdown",
   "metadata": {},
   "source": [
    "*Lea primero la [Sección 1.5](https://mbujosab.github.io/CursoDeAlgebraLineal/libro.pdf#section.1.5) y [Sección 1.6](https://mbujosab.github.io/CursoDeAlgebraLineal/libro.pdf#section.1.6) de la Lección 1 del libro.*\n",
    "([https://mbujosab.github.io/CursoDeAlgebraLineal](https://mbujosab.github.io/CursoDeAlgebraLineal))\n",
    "\n"
   ]
  },
  {
   "cell_type": "code",
   "execution_count": 1,
   "metadata": {},
   "outputs": [],
   "source": [
    "from nacal import *"
   ]
  },
  {
   "cell_type": "markdown",
   "metadata": {},
   "source": [
    "$\n",
    "\\newcommand{\\R}[1][{}]{{\\mathbb{R}}^{#1}}\n",
    "\\newcommand{\\Z}[1][{}]{{\\mathbb{Z}}^{#1}}\n",
    "%%%%%%%%%%%%%%%%%%%%%%%%%%%%%%%%%%%%%%%%%%%%%%%%%%%%%%%%%%%%%%%%%%%%%%%%%%%%\n",
    "\\newcommand{\\getItem}{\\pmb{\\mid}}\n",
    "\\newcommand{\\getitemR}[1]{\\getItem{#1}}\n",
    "\\newcommand{\\getitemL}[1]{{#1}\\getItem}\n",
    "\\newcommand{\\elemR}[2]{{#1}^{\\phantom{\\T}}_{\\getitemR{#2}}} \n",
    "\\newcommand{\\elemRP}[2]{{\\big(#1\\big)}^{\\phantom{\\T}}_{\\getitemR{#2}}} \n",
    "\\newcommand{\\elemRPE}[2]{\\big({#1}^{\\phantom{\\T}}_{\\getitemR{#2}}\\big)}\n",
    "%%%%%%%%%%%%%%%%%%%%%%%%%%%%%%%%%%%%%%%%%%%%%%%%%%%%%%%%%%%%%%%%%%%%%%%%%%%%\n",
    "\\newcommand{\\Vect}[2][{}]{{\\boldsymbol{#2}}_{#1}}\n",
    "\\newcommand{\\eleVR}[2]  {\\elemR  {\\Vect{#1}}{#2}}\t % con subindices\n",
    "\\newcommand{\\eleVRP}[2] {\\elemRP {\\Vect{#1}}{#2}}      % con subindices y paréntesis interior\n",
    "\\newcommand{\\eleVRPE}[2]{\\elemRPE{\\Vect{#1}}{#2}}      % con subindices y paréntesis exterior\n",
    "%%%%%%%%%%%%%%%%%%%%%%%%%%%%%%%%%%%%%%%%%%%%%%%%%%%%%%%%%%%%%%%%%%%%%%%%%%%%\n",
    "\\newcommand{\\VectC}[2][{}]  {\\elemR  {\\Mat{#2}}{#1}}   % con subindices\n",
    "\\newcommand{\\VectCP}[2][{}] {\\elemRP {\\Mat{#2}}{#1}}   % con subindices y paréntesis\n",
    "\\newcommand{\\VectCPE}[2][{}]{\\elemRPE{\\Mat{#2}}{#1}}   % con subindices y paréntesis exterior\n",
    "%%%%%%%%%%%%%%%%%%%%%%%%%%%%%%%%%%%%%%%%%%%%%%%%%%%%%%%%%%%%%%%%%%%%%%%%%%%%\n",
    "\\newcommand{\\mat}[1]{\\mathbf{#1}}\n",
    "\\newcommand{\\Mat} [2][{}]{{\\mat{#2}}_{#1}} \n",
    "\\newcommand{\\T}{\\intercal}\n",
    "\\newcommand{\\MatT}[2][{}]{{\\mat{#2}}^{\\T}_{#1}}\n",
    "\\newcommand{\\VectCC}[2][{}]   {\\elemRR {\\Mat{#2}}{#1}}   % con ()\n",
    "\\newcommand{\\VectCCC}[2][{}]  {\\elemRRR{\\Mat{#2}}{#1}}   % con texto \"col\"\n",
    "%SELECCIÓNA de FILAS y COlUMNAS DE UNA MATRIZ TRANSPUESTA PARA GENERAR UN VECTOR DE Rn\n",
    "\\newcommand{\\VectTC}[2][{}]   {\\elemR{\\MatT{#2}\\!}{#1}}  % con subindices\n",
    "\\newcommand{\\VectTCC}[2][{}]  {\\elemRR{ \\MatT{#2}}{#1}}  % con ()\n",
    "\\newcommand{\\VectTCCC}[2][{}] {\\elemRRR{\\MatT{#2}}{#1}}  % con texto \"col\"\n",
    "\\newcommand{\\dotprod}[2][{}] {\\Vect{#1}\\cdot\\Vect{#2}}\n",
    "$\n",
    "\n"
   ]
  },
  {
   "cell_type": "markdown",
   "metadata": {},
   "source": [
    "## Suma de matrices y producto por un escalar\n",
    "\n"
   ]
  },
  {
   "cell_type": "markdown",
   "metadata": {},
   "source": [
    "El comportamiento de la suma de matrices y el producto de una matriz\n",
    "por un escalar es similar al caso de los vectores.\n",
    "\n"
   ]
  },
  {
   "cell_type": "code",
   "execution_count": 2,
   "metadata": {},
   "outputs": [
    {
     "data": {
      "image/png": "[encoded data removed]",
      "text/html": [
       "<p style=\"text-align:center;\">$\\left[ \\begin{array}{cc}100&0\\\\0&100\\\\ \\end{array} \\right]$</p>"
      ],
      "text/latex": [
       "$\\left[ \\begin{array}{cc}100&0\\\\0&100\\\\ \\end{array} \\right]$"
      ],
      "text/plain": [
       "Matrix([Vector([100, 0]), Vector([0, 100])])"
      ]
     },
     "execution_count": 2,
     "metadata": {},
     "output_type": "execute_result"
    }
   ],
   "source": [
    "I(2)*100"
   ]
  },
  {
   "cell_type": "code",
   "execution_count": 3,
   "metadata": {},
   "outputs": [
    {
     "data": {
      "image/png": "[encoded data removed]",
      "text/html": [
       "<p style=\"text-align:center;\">$\\left[ \\begin{array}{cc}4&20\\\\20&4\\\\ \\end{array} \\right]$</p>"
      ],
      "text/latex": [
       "$\\left[ \\begin{array}{cc}4&20\\\\20&4\\\\ \\end{array} \\right]$"
      ],
      "text/plain": [
       "Matrix([Vector([4, 20]), Vector([20, 4])])"
      ]
     },
     "execution_count": 3,
     "metadata": {},
     "output_type": "execute_result"
    }
   ],
   "source": [
    "4*Matrix( [ [1,5], [5,1] ] )"
   ]
  },
  {
   "cell_type": "code",
   "execution_count": 4,
   "metadata": {},
   "outputs": [
    {
     "data": {
      "image/png": "[encoded data removed]",
      "text/html": [
       "<p style=\"text-align:center;\">$\\left[ \\begin{array}{cc}96&-20\\\\-20&96\\\\ \\end{array} \\right]$</p>"
      ],
      "text/latex": [
       "$\\left[ \\begin{array}{cc}96&-20\\\\-20&96\\\\ \\end{array} \\right]$"
      ],
      "text/plain": [
       "Matrix([Vector([96, -20]), Vector([-20, 96])])"
      ]
     },
     "execution_count": 4,
     "metadata": {},
     "output_type": "execute_result"
    }
   ],
   "source": [
    "I(2)*100 - 4*Matrix( [ [1,5], [5,1] ] )"
   ]
  },
  {
   "cell_type": "markdown",
   "metadata": {},
   "source": [
    "Verifique con algunos ejemplos que el operador selector es lineal\n",
    "(distributivo respecto de la suma y asociativo respecto del producto\n",
    "por escalares).\n",
    "\n"
   ]
  },
  {
   "cell_type": "code",
   "execution_count": null,
   "metadata": {},
   "outputs": [],
   "source": []
  },
  {
   "cell_type": "markdown",
   "metadata": {},
   "source": [
    "## Igualdad de matrices\n",
    "\n"
   ]
  },
  {
   "cell_type": "markdown",
   "metadata": {},
   "source": [
    "Dos matrices son iguales si lo son los correspondientes sistemas.\n",
    "\n"
   ]
  },
  {
   "cell_type": "code",
   "execution_count": 5,
   "metadata": {},
   "outputs": [],
   "source": [
    "a = Vector( [1,2] )\n",
    "b = Vector( [1,0] )\n",
    "c = Vector( [9,2] )"
   ]
  },
  {
   "cell_type": "code",
   "execution_count": 6,
   "metadata": {},
   "outputs": [
    {
     "data": {
      "image/png": "[encoded data removed]",
      "text/html": [
       "<p style=\"text-align:center;\">$\\left[ \\begin{array}{ccc}1&1&9\\\\2&0&2\\\\ \\end{array} \\right]$</p>"
      ],
      "text/latex": [
       "$\\left[ \\begin{array}{ccc}1&1&9\\\\2&0&2\\\\ \\end{array} \\right]$"
      ],
      "text/plain": [
       "Matrix([Vector([1, 2]), Vector([1, 0]), Vector([9, 2])])"
      ]
     },
     "metadata": {},
     "output_type": "display_data"
    }
   ],
   "source": [
    "A = Matrix( [a,b,c] )\n",
    "display(A)"
   ]
  },
  {
   "cell_type": "code",
   "execution_count": 7,
   "metadata": {},
   "outputs": [
    {
     "data": {
      "image/png": "[encoded data removed]",
      "text/html": [
       "<p style=\"text-align:center;\">$\\left[ \\begin{array}{ccc}1&1&9\\\\2&0&2\\\\ \\end{array} \\right]$</p>"
      ],
      "text/latex": [
       "$\\left[ \\begin{array}{ccc}1&1&9\\\\2&0&2\\\\ \\end{array} \\right]$"
      ],
      "text/plain": [
       "Matrix([Vector([1, 2]), Vector([1, 0]), Vector([9, 2])])"
      ]
     },
     "metadata": {},
     "output_type": "display_data"
    }
   ],
   "source": [
    "B = Matrix( [ [1,1,9], [2,0,2] ] )\n",
    "display(B)"
   ]
  },
  {
   "cell_type": "code",
   "execution_count": 8,
   "metadata": {},
   "outputs": [
    {
     "name": "stdout",
     "output_type": "stream",
     "text": [
      "True\n",
      "True\n",
      "True\n"
     ]
    }
   ],
   "source": [
    "print(A|1 == B|1)\n",
    "print(A|2 == B|2)\n",
    "print(A|3 == B|3)"
   ]
  },
  {
   "cell_type": "code",
   "execution_count": 9,
   "metadata": {},
   "outputs": [
    {
     "data": {
      "text/plain": [
       "True"
      ]
     },
     "execution_count": 9,
     "metadata": {},
     "output_type": "execute_result"
    }
   ],
   "source": [
    "A == B"
   ]
  },
  {
   "cell_type": "markdown",
   "metadata": {},
   "source": [
    "## Jugando con la librería.\n",
    "\n"
   ]
  },
  {
   "cell_type": "markdown",
   "metadata": {},
   "source": [
    "la primera fila de $\\Mat{A}$\n",
    "\n"
   ]
  },
  {
   "cell_type": "code",
   "execution_count": 10,
   "metadata": {},
   "outputs": [
    {
     "data": {
      "image/png": "[encoded data removed]",
      "text/html": [
       "<p style=\"text-align:center;\">$\\begin{pmatrix}1,& 1,& 9,\\end{pmatrix}$</p>"
      ],
      "text/latex": [
       "$\\begin{pmatrix}1,& 1,& 9,\\end{pmatrix}$"
      ],
      "text/plain": [
       "Vector([1, 1, 9])"
      ]
     },
     "execution_count": 10,
     "metadata": {},
     "output_type": "execute_result"
    }
   ],
   "source": [
    "1|A"
   ]
  },
  {
   "cell_type": "markdown",
   "metadata": {},
   "source": [
    "es la primera columna de su transpuesta\n",
    "\n"
   ]
  },
  {
   "cell_type": "code",
   "execution_count": 11,
   "metadata": {},
   "outputs": [
    {
     "data": {
      "image/png": "[encoded data removed]",
      "text/html": [
       "<p style=\"text-align:center;\">$\\begin{pmatrix}1\\\\ 1\\\\ 9\\end{pmatrix}$</p>"
      ],
      "text/latex": [
       "$\\begin{pmatrix}1\\\\ 1\\\\ 9\\end{pmatrix}$"
      ],
      "text/plain": [
       "Vector([1, 1, 9])"
      ]
     },
     "execution_count": 11,
     "metadata": {},
     "output_type": "execute_result"
    }
   ],
   "source": [
    "(~A)|1"
   ]
  },
  {
   "cell_type": "markdown",
   "metadata": {},
   "source": [
    "Si además queremos que la representación de la primera fila sea en\n",
    "forma de fila, podemos hacerlo del siguiente modo:\n",
    "\n"
   ]
  },
  {
   "cell_type": "code",
   "execution_count": 12,
   "metadata": {},
   "outputs": [
    {
     "data": {
      "image/png": "[encoded data removed]",
      "text/html": [
       "<p style=\"text-align:center;\">$\\begin{pmatrix}1,& 1,& 9,\\end{pmatrix}$</p>"
      ],
      "text/latex": [
       "$\\begin{pmatrix}1,& 1,& 9,\\end{pmatrix}$"
      ],
      "text/plain": [
       "Vector([1, 1, 9])"
      ]
     },
     "execution_count": 12,
     "metadata": {},
     "output_type": "execute_result"
    }
   ],
   "source": [
    "Vector( (~A)|1, rpr='fila')"
   ]
  },
  {
   "cell_type": "markdown",
   "metadata": {},
   "source": [
    "Siguiendo la notación del [libro](https://mbujosab.github.io/CursoDeAlgebraLineal/libro.pdf#subsection.1.4.5), definamos una matriz cuya única fila\n",
    "es la primera fila de $\\Mat{A}$ del siguiente modo:\n",
    "\n"
   ]
  },
  {
   "cell_type": "code",
   "execution_count": 13,
   "metadata": {},
   "outputs": [
    {
     "data": {
      "image/png": "[encoded data removed]",
      "text/html": [
       "<p style=\"text-align:center;\">$\\left[ \\begin{array}{ccc}1&1&9\\\\ \\end{array} \\right]$</p>"
      ],
      "text/latex": [
       "$\\left[ \\begin{array}{ccc}1&1&9\\\\ \\end{array} \\right]$"
      ],
      "text/plain": [
       "Matrix([Vector([1]), Vector([1]), Vector([9])])"
      ]
     },
     "execution_count": 13,
     "metadata": {},
     "output_type": "execute_result"
    }
   ],
   "source": [
    "~Matrix( [ 1|A ] )"
   ]
  },
  {
   "cell_type": "markdown",
   "metadata": {},
   "source": [
    "Pero recuerde que es más sencillo usar el operador selector y una\n",
    "tupla con un único elemento\n",
    "\n",
    "(*Si el argumento empleado con el selector es un índice obtenemos un vector, pero cuando seleccionamos una tupla de índices obtenemos una matriz*.)\n",
    "\n"
   ]
  },
  {
   "cell_type": "code",
   "execution_count": 14,
   "metadata": {},
   "outputs": [
    {
     "data": {
      "image/png": "[encoded data removed]",
      "text/html": [
       "<p style=\"text-align:center;\">$\\left[ \\begin{array}{ccc}1&1&9\\\\ \\end{array} \\right]$</p>"
      ],
      "text/latex": [
       "$\\left[ \\begin{array}{ccc}1&1&9\\\\ \\end{array} \\right]$"
      ],
      "text/plain": [
       "Matrix([Vector([1]), Vector([1]), Vector([9])])"
      ]
     },
     "execution_count": 14,
     "metadata": {},
     "output_type": "execute_result"
    }
   ],
   "source": [
    "(1,)|A"
   ]
  },
  {
   "cell_type": "markdown",
   "metadata": {},
   "source": [
    "El elemento que está en la primera fila y tercera columna es:\n",
    "\n"
   ]
  },
  {
   "cell_type": "code",
   "execution_count": 15,
   "metadata": {},
   "outputs": [
    {
     "data": {
      "text/plain": [
       "9"
      ]
     },
     "execution_count": 15,
     "metadata": {},
     "output_type": "execute_result"
    }
   ],
   "source": [
    "1|A|3"
   ]
  },
  {
   "cell_type": "markdown",
   "metadata": {},
   "source": [
    "Pero si transponemos la matriz, hay que intercambiar los índices de\n",
    "dicho componente:\n",
    "\n"
   ]
  },
  {
   "cell_type": "code",
   "execution_count": 16,
   "metadata": {},
   "outputs": [
    {
     "data": {
      "text/plain": [
       "9"
      ]
     },
     "execution_count": 16,
     "metadata": {},
     "output_type": "execute_result"
    }
   ],
   "source": [
    "3|(~A)|1"
   ]
  },
  {
   "cell_type": "markdown",
   "metadata": {},
   "source": [
    "Y si transponemos dos veces obtenemos la matriz original:\n",
    "\n"
   ]
  },
  {
   "cell_type": "code",
   "execution_count": 17,
   "metadata": {},
   "outputs": [
    {
     "data": {
      "image/png": "[encoded data removed]",
      "text/html": [
       "<p style=\"text-align:center;\">$\\left[ \\begin{array}{ccc}1&1&9\\\\2&0&2\\\\ \\end{array} \\right]$</p>"
      ],
      "text/latex": [
       "$\\left[ \\begin{array}{ccc}1&1&9\\\\2&0&2\\\\ \\end{array} \\right]$"
      ],
      "text/plain": [
       "Matrix([Vector([1, 2]), Vector([1, 0]), Vector([9, 2])])"
      ]
     },
     "execution_count": 17,
     "metadata": {},
     "output_type": "execute_result"
    }
   ],
   "source": [
    "~~A"
   ]
  },
  {
   "cell_type": "markdown",
   "metadata": {},
   "source": [
    "La tercera columna de $\\Mat{A}$ es la tercera fila de su transpuesta:\n",
    "\n"
   ]
  },
  {
   "cell_type": "code",
   "execution_count": 18,
   "metadata": {},
   "outputs": [
    {
     "data": {
      "image/png": "[encoded data removed]",
      "text/html": [
       "<p style=\"text-align:center;\">$\\begin{pmatrix}9\\\\ 2\\end{pmatrix}$</p>"
      ],
      "text/latex": [
       "$\\begin{pmatrix}9\\\\ 2\\end{pmatrix}$"
      ],
      "text/plain": [
       "Vector([9, 2])"
      ]
     },
     "metadata": {},
     "output_type": "display_data"
    },
    {
     "data": {
      "image/png": "[encoded data removed]",
      "text/html": [
       "<p style=\"text-align:center;\">$\\begin{pmatrix}9,& 2,\\end{pmatrix}$</p>"
      ],
      "text/latex": [
       "$\\begin{pmatrix}9,& 2,\\end{pmatrix}$"
      ],
      "text/plain": [
       "Vector([9, 2])"
      ]
     },
     "metadata": {},
     "output_type": "display_data"
    }
   ],
   "source": [
    "display( A|3    )\n",
    "display( 3|(~A) )"
   ]
  },
  {
   "cell_type": "markdown",
   "metadata": {},
   "source": [
    "Como $\\lambda(\\MatT{A})=(\\lambda\\Mat{A})^\\T$, sabemos que logramos lo\n",
    "mismo si primero transponemos la matriz y luego multiplicamos por un\n",
    "escalar que si primero multiplicamos y luego transponemos. Verifíquelo\n",
    "con un ejemplo\n",
    "\n"
   ]
  },
  {
   "cell_type": "code",
   "execution_count": null,
   "metadata": {},
   "outputs": [],
   "source": []
  },
  {
   "cell_type": "code",
   "execution_count": null,
   "metadata": {},
   "outputs": [],
   "source": []
  },
  {
   "cell_type": "markdown",
   "metadata": {},
   "source": [
    "## Ejercicios de la Lección 1\n",
    "\n"
   ]
  },
  {
   "cell_type": "markdown",
   "metadata": {},
   "source": [
    "### Primer ejercicio\n",
    "\n"
   ]
  },
  {
   "cell_type": "markdown",
   "metadata": {},
   "source": [
    "Cree la matriz\n",
    "$$\\Mat{A}=\\begin{bmatrix}1&0&0&0\\\\2&0&0&0\\\\0&3&3&0\\\\0&3&4&1\\\\0&1&2&1\\end{bmatrix}$$\n",
    "\n"
   ]
  },
  {
   "cell_type": "code",
   "execution_count": null,
   "metadata": {},
   "outputs": [],
   "source": []
  },
  {
   "cell_type": "markdown",
   "metadata": {},
   "source": [
    "Cree a partir de $\\Mat{A}$ una matriz cuya única columna sea la\n",
    "primera columna de $\\Mat{A}$\n",
    "\n"
   ]
  },
  {
   "cell_type": "code",
   "execution_count": null,
   "metadata": {},
   "outputs": [],
   "source": []
  },
  {
   "cell_type": "markdown",
   "metadata": {},
   "source": [
    "Cree a partir de $\\Mat{A}$ una matriz cuya única columna sea la segunda \n",
    "fila de $\\Mat{A}$\n",
    "\n"
   ]
  },
  {
   "cell_type": "code",
   "execution_count": null,
   "metadata": {},
   "outputs": [],
   "source": []
  },
  {
   "cell_type": "markdown",
   "metadata": {},
   "source": [
    "<div class=\"EXERCISE\">\n",
    "Cree a partir de $\\Mat{A}$ una matriz cuya única fila sea la primera\n",
    "fila de $\\Mat{A}$\n",
    "\n",
    "</div>\n",
    "\n"
   ]
  },
  {
   "cell_type": "code",
   "execution_count": null,
   "metadata": {},
   "outputs": [],
   "source": []
  },
  {
   "cell_type": "markdown",
   "metadata": {},
   "source": [
    "<div class=\"EXERCISE\">\n",
    "Cree a partir de $\\Mat{A}$ una matriz cuya única fila sea la segunda \n",
    "columna de $\\Mat{A}$\n",
    "\n",
    "</div>\n",
    "\n"
   ]
  },
  {
   "cell_type": "code",
   "execution_count": null,
   "metadata": {},
   "outputs": [],
   "source": []
  },
  {
   "cell_type": "markdown",
   "metadata": {},
   "source": [
    "### Segundo ejercicio\n",
    "\n"
   ]
  },
  {
   "cell_type": "markdown",
   "metadata": {},
   "source": [
    "Calcule el siguiente vector: 3 veces la primera columna de $\\Mat{A}$\n",
    "menos la segunda columna de $\\Mat{A}$ mas 2 veces la tercera columna\n",
    "menos 3 veces la última columna de $\\Mat{A}$\n",
    "\n"
   ]
  },
  {
   "cell_type": "code",
   "execution_count": null,
   "metadata": {},
   "outputs": [],
   "source": []
  },
  {
   "cell_type": "markdown",
   "metadata": {},
   "source": [
    "### Tercer ejercicio\n",
    "\n"
   ]
  },
  {
   "cell_type": "markdown",
   "metadata": {},
   "source": [
    "Verifique con ejemplos que el operador transposición es lineal\n",
    "\n"
   ]
  },
  {
   "cell_type": "markdown",
   "metadata": {},
   "source": [
    "### Cuarto ejercicio\n",
    "\n"
   ]
  },
  {
   "cell_type": "markdown",
   "metadata": {},
   "source": [
    "Verifique con ejemplos la veracidad de las igualdades en las reglas de\n",
    "reescritura de la Sección 1.6 del [libro](https://github.com/mbujosab/CursoDeAlgebraLineal/blob/master/libro.pdf)\n",
    "\n"
   ]
  },
  {
   "cell_type": "code",
   "execution_count": null,
   "metadata": {},
   "outputs": [],
   "source": []
  },
  {
   "cell_type": "markdown",
   "metadata": {},
   "source": [
    "### Quinto ejercicio\n",
    "\n"
   ]
  },
  {
   "cell_type": "markdown",
   "metadata": {},
   "source": [
    "Proporcione ejemplos de matrices 3 por 3 no nulas de los siguientes \n",
    "tipos de matrices:\n",
    "\n",
    "-   Una matriz diagonal\n",
    "\n"
   ]
  },
  {
   "cell_type": "code",
   "execution_count": null,
   "metadata": {},
   "outputs": [],
   "source": []
  },
  {
   "cell_type": "markdown",
   "metadata": {},
   "source": [
    "-   Una matriz simétrica\n",
    "\n"
   ]
  },
  {
   "cell_type": "code",
   "execution_count": null,
   "metadata": {},
   "outputs": [],
   "source": []
  },
  {
   "cell_type": "markdown",
   "metadata": {},
   "source": [
    "-   Una matriz triangular superior (es decir, que todos los elementos\n",
    "    por *debajo* de la diagonal son nulos).\n",
    "\n"
   ]
  },
  {
   "cell_type": "code",
   "execution_count": null,
   "metadata": {},
   "outputs": [],
   "source": []
  },
  {
   "cell_type": "markdown",
   "metadata": {},
   "source": [
    "-   Una matriz antisimétrica (es decir, que su transpuesta es igual a su\n",
    "    opuesta: $\\MatT{A}=-\\Mat{A}$).\n",
    "\n"
   ]
  },
  {
   "cell_type": "code",
   "execution_count": null,
   "metadata": {},
   "outputs": [],
   "source": []
  }
 ],
 "metadata": {
  "kernelspec": {
   "display_name": "Python 3",
   "language": "python",
   "name": "python3"
  },
  "language_info": {
   "codemirror_mode": {
    "name": "ipython",
    "version": 3
   },
   "file_extension": ".py",
   "mimetype": "text/x-python",
   "name": "python",
   "nbconvert_exporter": "python",
   "pygments_lexer": "ipython3",
   "version": "3.9.2"
  },
  "org": [
   null,
   null
  ]
 },
 "nbformat": 4,
 "nbformat_minor": 1
}
